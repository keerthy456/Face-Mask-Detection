{
  "nbformat": 4,
  "nbformat_minor": 0,
  "metadata": {
    "colab": {
      "name": "Pre-trained models.ipynb",
      "provenance": [],
      "collapsed_sections": []
    },
    "kernelspec": {
      "name": "python3",
      "display_name": "Python 3"
    },
    "language_info": {
      "name": "python"
    }
  },
  "cells": [
    {
      "cell_type": "code",
      "execution_count": null,
      "metadata": {
        "colab": {
          "base_uri": "https://localhost:8080/",
          "height": 55,
          "resources": {
            "http://localhost:8080/nbextensions/google.colab/files.js": {
              "data": "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",
              "headers": [
                [
                  "content-type",
                  "application/javascript"
                ]
              ],
              "ok": true,
              "status": 200,
              "status_text": ""
            }
          }
        },
        "id": "mumwm4Rg7FEL",
        "outputId": "0844a7de-6355-4c35-a2af-5f68ceab3443"
      },
      "outputs": [
        {
          "output_type": "display_data",
          "data": {
            "text/plain": [
              "<IPython.core.display.HTML object>"
            ],
            "text/html": [
              "\n",
              "     <input type=\"file\" id=\"files-719ea121-7204-448e-85d9-07aa5678460f\" name=\"files[]\" multiple disabled\n",
              "        style=\"border:none\" />\n",
              "     <output id=\"result-719ea121-7204-448e-85d9-07aa5678460f\">\n",
              "      Upload widget is only available when the cell has been executed in the\n",
              "      current browser session. Please rerun this cell to enable.\n",
              "      </output>\n",
              "      <script src=\"/nbextensions/google.colab/files.js\"></script> "
            ]
          },
          "metadata": {}
        }
      ],
      "source": [
        "from google.colab import files\n",
        "\n",
        "images = files.upload()"
      ]
    },
    {
      "cell_type": "code",
      "execution_count": null,
      "metadata": {
        "colab": {
          "base_uri": "https://localhost:8080/"
        },
        "id": "b4-m1gpW7XPQ",
        "outputId": "dd1f0a84-2b99-4ee0-b7f1-ee0dfb489897"
      },
      "outputs": [
        {
          "output_type": "stream",
          "name": "stdout",
          "text": [
            "total 190800\n",
            "drwxr-xr-x 5 root root      4096 Apr 22 21:15 DatasetZip\n",
            "-rw-r--r-- 1 root root 195369966 Apr 22 21:14 DatasetZip.zip\n",
            "drwxr-xr-x 1 root root      4096 Apr 19 14:23 sample_data\n"
          ]
        }
      ],
      "source": [
        "! ls -l"
      ]
    },
    {
      "cell_type": "code",
      "source": [
        "a"
      ],
      "metadata": {
        "id": "w5lIzE6xZriN"
      },
      "execution_count": null,
      "outputs": []
    },
    {
      "cell_type": "code",
      "execution_count": null,
      "metadata": {
        "id": "WhnJQWKr-s8S"
      },
      "outputs": [],
      "source": [
        "! unzip DatasetZip.zip"
      ]
    },
    {
      "cell_type": "code",
      "execution_count": null,
      "metadata": {
        "colab": {
          "base_uri": "https://localhost:8080/"
        },
        "id": "XkdfSE0_97g8",
        "outputId": "82e6f92b-cde7-45fa-d226-81af810c61bc"
      },
      "outputs": [
        {
          "output_type": "stream",
          "name": "stdout",
          "text": [
            "total 36\n",
            "drwxr-xr-x 2 root root 12288 Apr 22 22:31 incorrectlyheld\n",
            "drwxr-xr-x 2 root root 12288 Apr 22 22:31 withmask\n",
            "drwxr-xr-x 2 root root 12288 Apr 22 22:31 withoutmask\n"
          ]
        }
      ],
      "source": [
        "! ls -l /content/DatasetZip/training"
      ]
    },
    {
      "cell_type": "code",
      "execution_count": null,
      "metadata": {
        "colab": {
          "base_uri": "https://localhost:8080/"
        },
        "id": "WDZpMaH79L_B",
        "outputId": "4da4b116-4182-47c4-c35e-836065f57c9b"
      },
      "outputs": [
        {
          "output_type": "stream",
          "name": "stdout",
          "text": [
            "total 12\n",
            "drwxr-xr-x 2 root root 4096 Mar  9 21:39 incorrectlyheld\n",
            "drwxr-xr-x 2 root root 4096 Mar  9 21:41 withmask\n",
            "drwxr-xr-x 2 root root 4096 Mar  9 21:42 withoutmask\n"
          ]
        }
      ],
      "source": [
        "! ls -l /content/DatasetZip/testing"
      ]
    },
    {
      "cell_type": "code",
      "execution_count": null,
      "metadata": {
        "colab": {
          "base_uri": "https://localhost:8080/"
        },
        "id": "TLNHM_W6-zb3",
        "outputId": "0a807659-9195-4ef5-dc5b-473e9769117e"
      },
      "outputs": [
        {
          "output_type": "stream",
          "name": "stdout",
          "text": [
            "total 12\n",
            "drwxr-xr-x 2 root root 4096 Mar  8 20:14 incorrectlyheld\n",
            "drwxr-xr-x 2 root root 4096 Mar  8 20:11 withmask\n",
            "drwxr-xr-x 2 root root 4096 Mar  8 19:40 withoutmask\n"
          ]
        }
      ],
      "source": [
        "! ls -l /content/DatasetZip/validation"
      ]
    },
    {
      "cell_type": "code",
      "execution_count": null,
      "metadata": {
        "id": "TCbrkqKT7Z3D"
      },
      "outputs": [],
      "source": [
        "from tensorflow.keras.preprocessing.image import ImageDataGenerator\n",
        "import matplotlib.pyplot as plt\n",
        "import numpy as np\n",
        "from sklearn.metrics import accuracy_score,precision_score,recall_score,f1_score"
      ]
    },
    {
      "cell_type": "code",
      "execution_count": null,
      "metadata": {
        "id": "q79q6Nikmds8"
      },
      "outputs": [],
      "source": [
        "my_augmented_generator = ImageDataGenerator(rotation_range=25,\n",
        "    width_shift_range=0.3,\n",
        "    height_shift_range=0.3,\n",
        "    shear_range=0.4,\n",
        "    zoom_range=0.1,\n",
        "    horizontal_flip=False,\n",
        "    rescale=1./255, fill_mode='nearest')"
      ]
    },
    {
      "cell_type": "code",
      "execution_count": null,
      "metadata": {
        "colab": {
          "base_uri": "https://localhost:8080/"
        },
        "id": "ju2VxkFT7hNp",
        "outputId": "92003911-1b6f-45f1-9b68-1f71092fe1fd"
      },
      "outputs": [
        {
          "output_type": "stream",
          "name": "stdout",
          "text": [
            "Found 530 images belonging to 3 classes.\n",
            "Found 122 images belonging to 3 classes.\n",
            "Found 141 images belonging to 3 classes.\n"
          ]
        }
      ],
      "source": [
        "training_image_generator = my_augmented_generator.flow_from_directory( '/content/DatasetZip/training', target_size=(80,80), batch_size=32, class_mode='categorical')\n",
        "valid_image_generator = my_augmented_generator.flow_from_directory( '/content/DatasetZip/validation', target_size=(80,80), batch_size=32, class_mode='categorical')\n",
        "test_image_generator = my_augmented_generator.flow_from_directory( '/content/DatasetZip/testing', target_size=(80,80), batch_size=141, class_mode='categorical')"
      ]
    },
    {
      "cell_type": "code",
      "execution_count": null,
      "metadata": {
        "id": "KhhJsdxz7jFc"
      },
      "outputs": [],
      "source": [
        "\n",
        "for my_batch in training_image_generator:\n",
        "    # my_batch is a tuple with images and labels\n",
        "    images = my_batch[0]\n",
        "    labels = my_batch[1]\n",
        "    break\n"
      ]
    },
    {
      "cell_type": "code",
      "source": [
        "for my_batch in valid_image_generator:\n",
        "    # my_batch is a tuple with images and labels\n",
        "    imagesV = my_batch[0]\n",
        "    labelsV = my_batch[1]\n",
        "    break\n"
      ],
      "metadata": {
        "id": "_MFQ7261MVRZ"
      },
      "execution_count": null,
      "outputs": []
    },
    {
      "cell_type": "code",
      "source": [
        "labelsT.shape"
      ],
      "metadata": {
        "colab": {
          "base_uri": "https://localhost:8080/"
        },
        "id": "_a3ZRmM_wOS1",
        "outputId": "59fa0044-a3b1-4f0c-e47a-cc99fb86f916"
      },
      "execution_count": null,
      "outputs": [
        {
          "output_type": "execute_result",
          "data": {
            "text/plain": [
              "(141, 3)"
            ]
          },
          "metadata": {},
          "execution_count": 72
        }
      ]
    },
    {
      "cell_type": "code",
      "execution_count": null,
      "metadata": {
        "id": "iqrTMykw85jr"
      },
      "outputs": [],
      "source": [
        "\n",
        "for my_batch in test_image_generator:\n",
        "    # my_batch is a tuple with images and labels\n",
        "    imagesT = my_batch[0]\n",
        "    labelsT = my_batch[1]\n",
        "    break\n"
      ]
    },
    {
      "cell_type": "markdown",
      "source": [
        "### **Simple Best Model**"
      ],
      "metadata": {
        "id": "UphHBss9PDXB"
      }
    },
    {
      "cell_type": "code",
      "source": [
        "model1 = 0 \n",
        "model1 = Sequential()\n",
        "model1.add( Conv2D( 42, (4,4), activation = 'relu', input_shape = images[0, :, :, :].shape ) )\n",
        "model1.add( MaxPool2D(5,5) )\n",
        "model1.add( Conv2D( 28, (4,4), activation = 'relu' ) )\n",
        "model1.add( MaxPool2D(5,5) )\n",
        "model1.add( Flatten() )\n",
        "model1.add( Dense( 32, activation = 'relu' ) )\n",
        "model1.add( Dense( 3, activation = 'softmax' ) )"
      ],
      "metadata": {
        "id": "lycLOzULFxrT"
      },
      "execution_count": null,
      "outputs": []
    },
    {
      "cell_type": "code",
      "source": [
        "model1.summary()"
      ],
      "metadata": {
        "colab": {
          "base_uri": "https://localhost:8080/"
        },
        "outputId": "9651af62-f6ac-439c-afa2-150a70126c66",
        "id": "QIptLwkpFxrU"
      },
      "execution_count": null,
      "outputs": [
        {
          "output_type": "stream",
          "name": "stdout",
          "text": [
            "Model: \"sequential_7\"\n",
            "_________________________________________________________________\n",
            " Layer (type)                Output Shape              Param #   \n",
            "=================================================================\n",
            " conv2d_14 (Conv2D)          (None, 253, 253, 42)      2058      \n",
            "                                                                 \n",
            " max_pooling2d_10 (MaxPoolin  (None, 50, 50, 42)       0         \n",
            " g2D)                                                            \n",
            "                                                                 \n",
            " conv2d_15 (Conv2D)          (None, 47, 47, 28)        18844     \n",
            "                                                                 \n",
            " max_pooling2d_11 (MaxPoolin  (None, 9, 9, 28)         0         \n",
            " g2D)                                                            \n",
            "                                                                 \n",
            " flatten_7 (Flatten)         (None, 2268)              0         \n",
            "                                                                 \n",
            " dense_14 (Dense)            (None, 32)                72608     \n",
            "                                                                 \n",
            " dense_15 (Dense)            (None, 3)                 99        \n",
            "                                                                 \n",
            "=================================================================\n",
            "Total params: 93,609\n",
            "Trainable params: 93,609\n",
            "Non-trainable params: 0\n",
            "_________________________________________________________________\n"
          ]
        }
      ]
    },
    {
      "cell_type": "code",
      "source": [
        "model1.compile( optimizer = 'adadelta', loss = 'categorical_crossentropy', metrics = [ 'accuracy' ] )\n",
        "callback_a = ModelCheckpoint(filepath = 'model1.hdf5', monitor='val_accuracy', save_best_only = True, save_weights_only = True, verbose = 1)\n",
        "callback_b = EarlyStopping(monitor='val_accuracy', mode='min', patience=32, verbose=1)\n",
        "history = model1.fit(training_image_generator, validation_data = valid_image_generator, epochs = 64, batch_size = 32, callbacks = [callback_a,callback_b] )"
      ],
      "metadata": {
        "colab": {
          "base_uri": "https://localhost:8080/"
        },
        "outputId": "d263e04a-c5e9-48c7-8519-c06e60644b25",
        "id": "f2VuqRcOFxrU"
      },
      "execution_count": null,
      "outputs": [
        {
          "output_type": "stream",
          "name": "stdout",
          "text": [
            "Epoch 1/64\n",
            "17/17 [==============================] - ETA: 0s - loss: 1.1102 - accuracy: 0.2943\n",
            "Epoch 1: val_accuracy improved from -inf to 0.30328, saving model to model1.hdf5\n",
            "17/17 [==============================] - 47s 3s/step - loss: 1.1102 - accuracy: 0.2943 - val_loss: 1.1012 - val_accuracy: 0.3033\n",
            "Epoch 2/64\n",
            "17/17 [==============================] - ETA: 0s - loss: 1.1106 - accuracy: 0.3094\n",
            "Epoch 2: val_accuracy improved from 0.30328 to 0.31967, saving model to model1.hdf5\n",
            "17/17 [==============================] - 47s 3s/step - loss: 1.1106 - accuracy: 0.3094 - val_loss: 1.1008 - val_accuracy: 0.3197\n",
            "Epoch 3/64\n",
            "17/17 [==============================] - ETA: 0s - loss: 1.1087 - accuracy: 0.2981\n",
            "Epoch 3: val_accuracy did not improve from 0.31967\n",
            "17/17 [==============================] - 46s 3s/step - loss: 1.1087 - accuracy: 0.2981 - val_loss: 1.1087 - val_accuracy: 0.2951\n",
            "Epoch 4/64\n",
            "17/17 [==============================] - ETA: 0s - loss: 1.1059 - accuracy: 0.2962\n",
            "Epoch 4: val_accuracy did not improve from 0.31967\n",
            "17/17 [==============================] - 46s 3s/step - loss: 1.1059 - accuracy: 0.2962 - val_loss: 1.0995 - val_accuracy: 0.3197\n",
            "Epoch 5/64\n",
            "17/17 [==============================] - ETA: 0s - loss: 1.1063 - accuracy: 0.3113\n",
            "Epoch 5: val_accuracy did not improve from 0.31967\n",
            "17/17 [==============================] - 46s 3s/step - loss: 1.1063 - accuracy: 0.3113 - val_loss: 1.1030 - val_accuracy: 0.3115\n",
            "Epoch 6/64\n",
            "17/17 [==============================] - ETA: 0s - loss: 1.1019 - accuracy: 0.3151\n",
            "Epoch 6: val_accuracy did not improve from 0.31967\n",
            "17/17 [==============================] - 46s 3s/step - loss: 1.1019 - accuracy: 0.3151 - val_loss: 1.1042 - val_accuracy: 0.2951\n",
            "Epoch 7/64\n",
            "17/17 [==============================] - ETA: 0s - loss: 1.1034 - accuracy: 0.3151\n",
            "Epoch 7: val_accuracy improved from 0.31967 to 0.32787, saving model to model1.hdf5\n",
            "17/17 [==============================] - 45s 3s/step - loss: 1.1034 - accuracy: 0.3151 - val_loss: 1.0959 - val_accuracy: 0.3279\n",
            "Epoch 8/64\n",
            "17/17 [==============================] - ETA: 0s - loss: 1.1024 - accuracy: 0.3132\n",
            "Epoch 8: val_accuracy did not improve from 0.32787\n",
            "17/17 [==============================] - 45s 3s/step - loss: 1.1024 - accuracy: 0.3132 - val_loss: 1.1037 - val_accuracy: 0.3115\n",
            "Epoch 9/64\n",
            "17/17 [==============================] - ETA: 0s - loss: 1.1004 - accuracy: 0.3396\n",
            "Epoch 9: val_accuracy did not improve from 0.32787\n",
            "17/17 [==============================] - 45s 3s/step - loss: 1.1004 - accuracy: 0.3396 - val_loss: 1.0975 - val_accuracy: 0.3197\n",
            "Epoch 10/64\n",
            "17/17 [==============================] - ETA: 0s - loss: 1.0984 - accuracy: 0.3245\n",
            "Epoch 10: val_accuracy did not improve from 0.32787\n",
            "17/17 [==============================] - 45s 3s/step - loss: 1.0984 - accuracy: 0.3245 - val_loss: 1.1001 - val_accuracy: 0.3115\n",
            "Epoch 11/64\n",
            "17/17 [==============================] - ETA: 0s - loss: 1.0979 - accuracy: 0.3528\n",
            "Epoch 11: val_accuracy did not improve from 0.32787\n",
            "17/17 [==============================] - 46s 3s/step - loss: 1.0979 - accuracy: 0.3528 - val_loss: 1.0998 - val_accuracy: 0.2869\n",
            "Epoch 12/64\n",
            "17/17 [==============================] - ETA: 0s - loss: 1.0952 - accuracy: 0.3491\n",
            "Epoch 12: val_accuracy did not improve from 0.32787\n",
            "17/17 [==============================] - 48s 3s/step - loss: 1.0952 - accuracy: 0.3491 - val_loss: 1.0926 - val_accuracy: 0.3115\n",
            "Epoch 13/64\n",
            "17/17 [==============================] - ETA: 0s - loss: 1.0953 - accuracy: 0.3679\n",
            "Epoch 13: val_accuracy did not improve from 0.32787\n",
            "17/17 [==============================] - 46s 3s/step - loss: 1.0953 - accuracy: 0.3679 - val_loss: 1.0956 - val_accuracy: 0.3279\n",
            "Epoch 14/64\n",
            "17/17 [==============================] - ETA: 0s - loss: 1.0934 - accuracy: 0.3736\n",
            "Epoch 14: val_accuracy improved from 0.32787 to 0.37705, saving model to model1.hdf5\n",
            "17/17 [==============================] - 46s 3s/step - loss: 1.0934 - accuracy: 0.3736 - val_loss: 1.0897 - val_accuracy: 0.3770\n",
            "Epoch 15/64\n",
            "17/17 [==============================] - ETA: 0s - loss: 1.0930 - accuracy: 0.3585\n",
            "Epoch 15: val_accuracy improved from 0.37705 to 0.38525, saving model to model1.hdf5\n",
            "17/17 [==============================] - 46s 3s/step - loss: 1.0930 - accuracy: 0.3585 - val_loss: 1.0889 - val_accuracy: 0.3852\n",
            "Epoch 16/64\n",
            "17/17 [==============================] - ETA: 0s - loss: 1.0905 - accuracy: 0.3717\n",
            "Epoch 16: val_accuracy did not improve from 0.38525\n",
            "17/17 [==============================] - 52s 3s/step - loss: 1.0905 - accuracy: 0.3717 - val_loss: 1.0916 - val_accuracy: 0.3361\n",
            "Epoch 17/64\n",
            "17/17 [==============================] - ETA: 0s - loss: 1.0877 - accuracy: 0.4000\n",
            "Epoch 17: val_accuracy improved from 0.38525 to 0.39344, saving model to model1.hdf5\n",
            "17/17 [==============================] - 52s 3s/step - loss: 1.0877 - accuracy: 0.4000 - val_loss: 1.0833 - val_accuracy: 0.3934\n",
            "Epoch 18/64\n",
            "17/17 [==============================] - ETA: 0s - loss: 1.0911 - accuracy: 0.3830\n",
            "Epoch 18: val_accuracy did not improve from 0.39344\n",
            "17/17 [==============================] - 50s 3s/step - loss: 1.0911 - accuracy: 0.3830 - val_loss: 1.0874 - val_accuracy: 0.3361\n",
            "Epoch 19/64\n",
            "17/17 [==============================] - ETA: 0s - loss: 1.0944 - accuracy: 0.3906\n",
            "Epoch 19: val_accuracy did not improve from 0.39344\n",
            "17/17 [==============================] - 49s 3s/step - loss: 1.0944 - accuracy: 0.3906 - val_loss: 1.0898 - val_accuracy: 0.3525\n",
            "Epoch 20/64\n",
            "17/17 [==============================] - ETA: 0s - loss: 1.0898 - accuracy: 0.3887\n",
            "Epoch 20: val_accuracy improved from 0.39344 to 0.42623, saving model to model1.hdf5\n",
            "17/17 [==============================] - 46s 3s/step - loss: 1.0898 - accuracy: 0.3887 - val_loss: 1.0827 - val_accuracy: 0.4262\n",
            "Epoch 21/64\n",
            "17/17 [==============================] - ETA: 0s - loss: 1.0851 - accuracy: 0.3981\n",
            "Epoch 21: val_accuracy did not improve from 0.42623\n",
            "17/17 [==============================] - 46s 3s/step - loss: 1.0851 - accuracy: 0.3981 - val_loss: 1.0844 - val_accuracy: 0.4180\n",
            "Epoch 22/64\n",
            "17/17 [==============================] - ETA: 0s - loss: 1.0877 - accuracy: 0.3981\n",
            "Epoch 22: val_accuracy did not improve from 0.42623\n",
            "17/17 [==============================] - 47s 3s/step - loss: 1.0877 - accuracy: 0.3981 - val_loss: 1.0875 - val_accuracy: 0.4098\n",
            "Epoch 23/64\n",
            "17/17 [==============================] - ETA: 0s - loss: 1.0859 - accuracy: 0.4019\n",
            "Epoch 23: val_accuracy did not improve from 0.42623\n",
            "17/17 [==============================] - 54s 3s/step - loss: 1.0859 - accuracy: 0.4019 - val_loss: 1.0821 - val_accuracy: 0.4016\n",
            "Epoch 24/64\n",
            "17/17 [==============================] - ETA: 0s - loss: 1.0877 - accuracy: 0.3962\n",
            "Epoch 24: val_accuracy improved from 0.42623 to 0.43443, saving model to model1.hdf5\n",
            "17/17 [==============================] - 49s 3s/step - loss: 1.0877 - accuracy: 0.3962 - val_loss: 1.0811 - val_accuracy: 0.4344\n",
            "Epoch 25/64\n",
            "17/17 [==============================] - ETA: 0s - loss: 1.0809 - accuracy: 0.4302\n",
            "Epoch 25: val_accuracy did not improve from 0.43443\n",
            "17/17 [==============================] - 56s 3s/step - loss: 1.0809 - accuracy: 0.4302 - val_loss: 1.0877 - val_accuracy: 0.3852\n",
            "Epoch 26/64\n",
            "17/17 [==============================] - ETA: 0s - loss: 1.0879 - accuracy: 0.4019\n",
            "Epoch 26: val_accuracy improved from 0.43443 to 0.45082, saving model to model1.hdf5\n",
            "17/17 [==============================] - 51s 3s/step - loss: 1.0879 - accuracy: 0.4019 - val_loss: 1.0803 - val_accuracy: 0.4508\n",
            "Epoch 27/64\n",
            "17/17 [==============================] - ETA: 0s - loss: 1.0792 - accuracy: 0.4358\n",
            "Epoch 27: val_accuracy did not improve from 0.45082\n",
            "17/17 [==============================] - 48s 3s/step - loss: 1.0792 - accuracy: 0.4358 - val_loss: 1.0807 - val_accuracy: 0.4426\n",
            "Epoch 28/64\n",
            "17/17 [==============================] - ETA: 0s - loss: 1.0832 - accuracy: 0.4075\n",
            "Epoch 28: val_accuracy did not improve from 0.45082\n",
            "17/17 [==============================] - 53s 3s/step - loss: 1.0832 - accuracy: 0.4075 - val_loss: 1.0806 - val_accuracy: 0.4344\n",
            "Epoch 29/64\n",
            "17/17 [==============================] - ETA: 0s - loss: 1.0837 - accuracy: 0.4019\n",
            "Epoch 29: val_accuracy did not improve from 0.45082\n",
            "17/17 [==============================] - 46s 3s/step - loss: 1.0837 - accuracy: 0.4019 - val_loss: 1.0799 - val_accuracy: 0.4098\n",
            "Epoch 30/64\n",
            "17/17 [==============================] - ETA: 0s - loss: 1.0842 - accuracy: 0.4226\n",
            "Epoch 30: val_accuracy did not improve from 0.45082\n",
            "17/17 [==============================] - 46s 3s/step - loss: 1.0842 - accuracy: 0.4226 - val_loss: 1.0794 - val_accuracy: 0.4344\n",
            "Epoch 31/64\n",
            "17/17 [==============================] - ETA: 0s - loss: 1.0849 - accuracy: 0.4113\n",
            "Epoch 31: val_accuracy did not improve from 0.45082\n",
            "17/17 [==============================] - 52s 3s/step - loss: 1.0849 - accuracy: 0.4113 - val_loss: 1.0868 - val_accuracy: 0.4098\n",
            "Epoch 32/64\n",
            "17/17 [==============================] - ETA: 0s - loss: 1.0786 - accuracy: 0.4302\n",
            "Epoch 32: val_accuracy did not improve from 0.45082\n",
            "17/17 [==============================] - 53s 3s/step - loss: 1.0786 - accuracy: 0.4302 - val_loss: 1.0800 - val_accuracy: 0.4180\n",
            "Epoch 33/64\n",
            "17/17 [==============================] - ETA: 0s - loss: 1.0826 - accuracy: 0.4283\n",
            "Epoch 33: val_accuracy did not improve from 0.45082\n",
            "17/17 [==============================] - 52s 3s/step - loss: 1.0826 - accuracy: 0.4283 - val_loss: 1.0789 - val_accuracy: 0.4098\n",
            "Epoch 34/64\n",
            "17/17 [==============================] - ETA: 0s - loss: 1.0837 - accuracy: 0.4170\n",
            "Epoch 34: val_accuracy improved from 0.45082 to 0.46721, saving model to model1.hdf5\n",
            "17/17 [==============================] - 55s 3s/step - loss: 1.0837 - accuracy: 0.4170 - val_loss: 1.0785 - val_accuracy: 0.4672\n",
            "Epoch 35/64\n",
            "17/17 [==============================] - ETA: 0s - loss: 1.0835 - accuracy: 0.4226\n",
            "Epoch 35: val_accuracy did not improve from 0.46721\n",
            "17/17 [==============================] - 48s 3s/step - loss: 1.0835 - accuracy: 0.4226 - val_loss: 1.0795 - val_accuracy: 0.4180\n",
            "Epoch 36/64\n",
            "17/17 [==============================] - ETA: 0s - loss: 1.0807 - accuracy: 0.4132\n",
            "Epoch 36: val_accuracy did not improve from 0.46721\n",
            "17/17 [==============================] - 48s 3s/step - loss: 1.0807 - accuracy: 0.4132 - val_loss: 1.0803 - val_accuracy: 0.4262\n",
            "Epoch 37/64\n",
            "17/17 [==============================] - ETA: 0s - loss: 1.0795 - accuracy: 0.4226\n",
            "Epoch 37: val_accuracy did not improve from 0.46721\n",
            "17/17 [==============================] - 50s 3s/step - loss: 1.0795 - accuracy: 0.4226 - val_loss: 1.0751 - val_accuracy: 0.4344\n",
            "Epoch 38/64\n",
            "17/17 [==============================] - ETA: 0s - loss: 1.0821 - accuracy: 0.4189\n",
            "Epoch 38: val_accuracy did not improve from 0.46721\n",
            "17/17 [==============================] - 47s 3s/step - loss: 1.0821 - accuracy: 0.4189 - val_loss: 1.0795 - val_accuracy: 0.4098\n",
            "Epoch 39/64\n",
            "17/17 [==============================] - ETA: 0s - loss: 1.0786 - accuracy: 0.4245\n",
            "Epoch 39: val_accuracy did not improve from 0.46721\n",
            "17/17 [==============================] - 46s 3s/step - loss: 1.0786 - accuracy: 0.4245 - val_loss: 1.0733 - val_accuracy: 0.4262\n",
            "Epoch 40/64\n",
            "17/17 [==============================] - ETA: 0s - loss: 1.0816 - accuracy: 0.4170\n",
            "Epoch 40: val_accuracy did not improve from 0.46721\n",
            "17/17 [==============================] - 46s 3s/step - loss: 1.0816 - accuracy: 0.4170 - val_loss: 1.0738 - val_accuracy: 0.4180\n",
            "Epoch 41/64\n",
            "17/17 [==============================] - ETA: 0s - loss: 1.0809 - accuracy: 0.4208\n",
            "Epoch 41: val_accuracy did not improve from 0.46721\n",
            "17/17 [==============================] - 46s 3s/step - loss: 1.0809 - accuracy: 0.4208 - val_loss: 1.0822 - val_accuracy: 0.4098\n",
            "Epoch 42/64\n",
            "17/17 [==============================] - ETA: 0s - loss: 1.0803 - accuracy: 0.4226\n",
            "Epoch 42: val_accuracy did not improve from 0.46721\n",
            "17/17 [==============================] - 46s 3s/step - loss: 1.0803 - accuracy: 0.4226 - val_loss: 1.0818 - val_accuracy: 0.4098\n",
            "Epoch 43/64\n",
            "17/17 [==============================] - ETA: 0s - loss: 1.0798 - accuracy: 0.4226\n",
            "Epoch 43: val_accuracy did not improve from 0.46721\n",
            "17/17 [==============================] - 46s 3s/step - loss: 1.0798 - accuracy: 0.4226 - val_loss: 1.0806 - val_accuracy: 0.4098\n",
            "Epoch 43: early stopping\n"
          ]
        }
      ]
    },
    {
      "cell_type": "code",
      "source": [
        "plt.plot(history.history['accuracy'])\n",
        "plt.plot(history.history['val_accuracy'])\n",
        "plt.ylabel('Accuracy')\n",
        "plt.xlabel('epoch')\n",
        "plt.legend(['training data', 'validation data'], loc='lower right')\n",
        "plt.show()\n",
        "plt.plot(history.history['loss'])\n",
        "plt.plot(history.history['val_loss'])\n",
        "plt.ylabel('loss')\n",
        "plt.xlabel('epoch')\n",
        "plt.legend(['training data', 'validation data'], loc='lower right')\n",
        "plt.show()"
      ],
      "metadata": {
        "colab": {
          "base_uri": "https://localhost:8080/",
          "height": 544
        },
        "outputId": "e56ccefe-075c-45f5-871b-49de912e48ed",
        "id": "hqx8Cx3yFxrV"
      },
      "execution_count": null,
      "outputs": [
        {
          "output_type": "display_data",
          "data": {
            "text/plain": [
              "<Figure size 432x288 with 1 Axes>"
            ],
            "image/png": "[encoded data removed]"
          },
          "metadata": {
            "needs_background": "light"
          }
        },
        {
          "output_type": "display_data",
          "data": {
            "text/plain": [
              "<Figure size 432x288 with 1 Axes>"
            ],
            "image/png": "[encoded data removed]"
          },
          "metadata": {
            "needs_background": "light"
          }
        }
      ]
    },
    {
      "cell_type": "markdown",
      "source": [
        "# **Pre-Trained Models**"
      ],
      "metadata": {
        "id": "NXzDwKVXQyzu"
      }
    },
    {
      "cell_type": "markdown",
      "source": [
        "### **VGG16 - Model**"
      ],
      "metadata": {
        "id": "ne9PGSW7RI7H"
      }
    },
    {
      "cell_type": "code",
      "execution_count": null,
      "metadata": {
        "id": "XAqwvElD7ldZ"
      },
      "outputs": [],
      "source": [
        "from tensorflow.keras.models import Sequential\n",
        "from tensorflow.keras.applications import VGG16\n",
        "from tensorflow.keras.callbacks import EarlyStopping, ModelCheckpoint\n",
        "from tensorflow.keras.layers import Dense, Conv2D, MaxPool2D, Flatten, Dropout, BatchNormalization\n",
        "from tensorflow.keras import regularizers\n",
        "from tensorflow.keras.applications.vgg16 import preprocess_input\n"
      ]
    },
    {
      "cell_type": "code",
      "source": [
        "train_ds = preprocess_input(images) \n",
        "valid_ds = preprocess_input(imagesV)"
      ],
      "metadata": {
        "id": "aO2EcfiKt81t"
      },
      "execution_count": null,
      "outputs": []
    },
    {
      "cell_type": "code",
      "source": [
        "train_ds[0].shape"
      ],
      "metadata": {
        "colab": {
          "base_uri": "https://localhost:8080/"
        },
        "id": "PgODklVnuRR-",
        "outputId": "63f7f3d2-2169-4cb0-df20-c15f944eb6a7"
      },
      "execution_count": null,
      "outputs": [
        {
          "output_type": "execute_result",
          "data": {
            "text/plain": [
              "(256, 256, 3)"
            ]
          },
          "metadata": {},
          "execution_count": 61
        }
      ]
    },
    {
      "cell_type": "code",
      "source": [
        "vgg_model = VGG16(weights = 'imagenet', include_top = False, input_shape=images[0].shape)\n",
        "vgg_model.summary()"
      ],
      "metadata": {
        "id": "NOvq6hMe4AyN",
        "colab": {
          "base_uri": "https://localhost:8080/"
        },
        "outputId": "465549e6-8118-4767-fa07-bc729d417ea2"
      },
      "execution_count": null,
      "outputs": [
        {
          "output_type": "stream",
          "name": "stdout",
          "text": [
            "Model: \"vgg16\"\n",
            "_________________________________________________________________\n",
            " Layer (type)                Output Shape              Param #   \n",
            "=================================================================\n",
            " input_3 (InputLayer)        [(None, 80, 80, 3)]       0         \n",
            "                                                                 \n",
            " block1_conv1 (Conv2D)       (None, 80, 80, 64)        1792      \n",
            "                                                                 \n",
            " block1_conv2 (Conv2D)       (None, 80, 80, 64)        36928     \n",
            "                                                                 \n",
            " block1_pool (MaxPooling2D)  (None, 40, 40, 64)        0         \n",
            "                                                                 \n",
            " block2_conv1 (Conv2D)       (None, 40, 40, 128)       73856     \n",
            "                                                                 \n",
            " block2_conv2 (Conv2D)       (None, 40, 40, 128)       147584    \n",
            "                                                                 \n",
            " block2_pool (MaxPooling2D)  (None, 20, 20, 128)       0         \n",
            "                                                                 \n",
            " block3_conv1 (Conv2D)       (None, 20, 20, 256)       295168    \n",
            "                                                                 \n",
            " block3_conv2 (Conv2D)       (None, 20, 20, 256)       590080    \n",
            "                                                                 \n",
            " block3_conv3 (Conv2D)       (None, 20, 20, 256)       590080    \n",
            "                                                                 \n",
            " block3_pool (MaxPooling2D)  (None, 10, 10, 256)       0         \n",
            "                                                                 \n",
            " block4_conv1 (Conv2D)       (None, 10, 10, 512)       1180160   \n",
            "                                                                 \n",
            " block4_conv2 (Conv2D)       (None, 10, 10, 512)       2359808   \n",
            "                                                                 \n",
            " block4_conv3 (Conv2D)       (None, 10, 10, 512)       2359808   \n",
            "                                                                 \n",
            " block4_pool (MaxPooling2D)  (None, 5, 5, 512)         0         \n",
            "                                                                 \n",
            " block5_conv1 (Conv2D)       (None, 5, 5, 512)         2359808   \n",
            "                                                                 \n",
            " block5_conv2 (Conv2D)       (None, 5, 5, 512)         2359808   \n",
            "                                                                 \n",
            " block5_conv3 (Conv2D)       (None, 5, 5, 512)         2359808   \n",
            "                                                                 \n",
            " block5_pool (MaxPooling2D)  (None, 2, 2, 512)         0         \n",
            "                                                                 \n",
            "=================================================================\n",
            "Total params: 14,714,688\n",
            "Trainable params: 14,714,688\n",
            "Non-trainable params: 0\n",
            "_________________________________________________________________\n"
          ]
        }
      ]
    },
    {
      "cell_type": "code",
      "source": [
        "import tensorflow as tf\n",
        "from tensorflow.keras import layers\n",
        "model_vgg = 0\n",
        "model_vgg = layers.Flatten()(vgg_model.output)\n",
        "model_vgg = layers.Dense(4, activation='relu')(model_vgg)\n",
        "model_vgg = layers.Dense(4, activation='relu')(model_vgg)\n",
        "model_vgg= layers.Dense(3, activation='softmax' )(model_vgg)\n",
        "model = 0\n",
        "model = tf.keras.models.Model(vgg_model.input, model_vgg)\n"
      ],
      "metadata": {
        "id": "LDfvoth-Llh0"
      },
      "execution_count": null,
      "outputs": []
    },
    {
      "cell_type": "code",
      "source": [
        "model.summary()"
      ],
      "metadata": {
        "id": "zFZtMJvvM39x",
        "colab": {
          "base_uri": "https://localhost:8080/"
        },
        "outputId": "3d014080-0b22-455b-85b0-7f5b881d156b"
      },
      "execution_count": null,
      "outputs": [
        {
          "output_type": "stream",
          "name": "stdout",
          "text": [
            "Model: \"model_8\"\n",
            "_________________________________________________________________\n",
            " Layer (type)                Output Shape              Param #   \n",
            "=================================================================\n",
            " input_3 (InputLayer)        [(None, 80, 80, 3)]       0         \n",
            "                                                                 \n",
            " block1_conv1 (Conv2D)       (None, 80, 80, 64)        1792      \n",
            "                                                                 \n",
            " block1_conv2 (Conv2D)       (None, 80, 80, 64)        36928     \n",
            "                                                                 \n",
            " block1_pool (MaxPooling2D)  (None, 40, 40, 64)        0         \n",
            "                                                                 \n",
            " block2_conv1 (Conv2D)       (None, 40, 40, 128)       73856     \n",
            "                                                                 \n",
            " block2_conv2 (Conv2D)       (None, 40, 40, 128)       147584    \n",
            "                                                                 \n",
            " block2_pool (MaxPooling2D)  (None, 20, 20, 128)       0         \n",
            "                                                                 \n",
            " block3_conv1 (Conv2D)       (None, 20, 20, 256)       295168    \n",
            "                                                                 \n",
            " block3_conv2 (Conv2D)       (None, 20, 20, 256)       590080    \n",
            "                                                                 \n",
            " block3_conv3 (Conv2D)       (None, 20, 20, 256)       590080    \n",
            "                                                                 \n",
            " block3_pool (MaxPooling2D)  (None, 10, 10, 256)       0         \n",
            "                                                                 \n",
            " block4_conv1 (Conv2D)       (None, 10, 10, 512)       1180160   \n",
            "                                                                 \n",
            " block4_conv2 (Conv2D)       (None, 10, 10, 512)       2359808   \n",
            "                                                                 \n",
            " block4_conv3 (Conv2D)       (None, 10, 10, 512)       2359808   \n",
            "                                                                 \n",
            " block4_pool (MaxPooling2D)  (None, 5, 5, 512)         0         \n",
            "                                                                 \n",
            " block5_conv1 (Conv2D)       (None, 5, 5, 512)         2359808   \n",
            "                                                                 \n",
            " block5_conv2 (Conv2D)       (None, 5, 5, 512)         2359808   \n",
            "                                                                 \n",
            " block5_conv3 (Conv2D)       (None, 5, 5, 512)         2359808   \n",
            "                                                                 \n",
            " block5_pool (MaxPooling2D)  (None, 2, 2, 512)         0         \n",
            "                                                                 \n",
            " flatten_11 (Flatten)        (None, 2048)              0         \n",
            "                                                                 \n",
            " dense_32 (Dense)            (None, 4)                 8196      \n",
            "                                                                 \n",
            " dense_33 (Dense)            (None, 4)                 20        \n",
            "                                                                 \n",
            " dense_34 (Dense)            (None, 3)                 15        \n",
            "                                                                 \n",
            "=================================================================\n",
            "Total params: 14,722,919\n",
            "Trainable params: 14,722,919\n",
            "Non-trainable params: 0\n",
            "_________________________________________________________________\n"
          ]
        }
      ]
    },
    {
      "cell_type": "code",
      "source": [
        "\n",
        "model.compile( optimizer ='adadelta', loss = 'categorical_crossentropy', metrics = ['accuracy' ])\n",
        "history_VGG= model.fit(training_image_generator, validation_data =valid_image_generator, epochs = 64)"
      ],
      "metadata": {
        "colab": {
          "base_uri": "https://localhost:8080/"
        },
        "id": "wu4WBmpKMi75",
        "outputId": "a10df670-d740-4713-e83e-8d9a242d73a2"
      },
      "execution_count": null,
      "outputs": [
        {
          "output_type": "stream",
          "name": "stdout",
          "text": [
            "Epoch 1/64\n",
            "17/17 [==============================] - 168s 10s/step - loss: 1.1226 - accuracy: 0.3132 - val_loss: 1.1223 - val_accuracy: 0.2869\n",
            "Epoch 2/64\n",
            "17/17 [==============================] - 165s 10s/step - loss: 1.1137 - accuracy: 0.3283 - val_loss: 1.0995 - val_accuracy: 0.3443\n",
            "Epoch 3/64\n",
            "17/17 [==============================] - 165s 10s/step - loss: 1.1069 - accuracy: 0.3038 - val_loss: 1.1087 - val_accuracy: 0.2869\n",
            "Epoch 4/64\n",
            "17/17 [==============================] - 165s 10s/step - loss: 1.1072 - accuracy: 0.3132 - val_loss: 1.1002 - val_accuracy: 0.3607\n",
            "Epoch 5/64\n",
            "17/17 [==============================] - 164s 10s/step - loss: 1.1034 - accuracy: 0.3302 - val_loss: 1.0934 - val_accuracy: 0.3689\n",
            "Epoch 6/64\n",
            "17/17 [==============================] - 164s 10s/step - loss: 1.0944 - accuracy: 0.3340 - val_loss: 1.1090 - val_accuracy: 0.3197\n",
            "Epoch 7/64\n",
            "17/17 [==============================] - 165s 10s/step - loss: 1.0961 - accuracy: 0.3358 - val_loss: 1.0969 - val_accuracy: 0.3443\n",
            "Epoch 8/64\n",
            "17/17 [==============================] - 164s 10s/step - loss: 1.0953 - accuracy: 0.3623 - val_loss: 1.1004 - val_accuracy: 0.3852\n",
            "Epoch 9/64\n",
            "17/17 [==============================] - 164s 10s/step - loss: 1.0937 - accuracy: 0.3396 - val_loss: 1.0928 - val_accuracy: 0.3361\n",
            "Epoch 10/64\n",
            "17/17 [==============================] - 164s 10s/step - loss: 1.0988 - accuracy: 0.3660 - val_loss: 1.0829 - val_accuracy: 0.3852\n",
            "Epoch 11/64\n",
            "17/17 [==============================] - 163s 10s/step - loss: 1.0983 - accuracy: 0.3245 - val_loss: 1.0803 - val_accuracy: 0.4016\n",
            "Epoch 12/64\n",
            "17/17 [==============================] - 164s 10s/step - loss: 1.0987 - accuracy: 0.3415 - val_loss: 1.0982 - val_accuracy: 0.3115\n",
            "Epoch 13/64\n",
            "17/17 [==============================] - 166s 10s/step - loss: 1.0929 - accuracy: 0.3792 - val_loss: 1.0867 - val_accuracy: 0.3934\n",
            "Epoch 14/64\n",
            "17/17 [==============================] - 169s 10s/step - loss: 1.0920 - accuracy: 0.3415 - val_loss: 1.0907 - val_accuracy: 0.3443\n",
            "Epoch 15/64\n",
            "17/17 [==============================] - 167s 10s/step - loss: 1.0948 - accuracy: 0.3396 - val_loss: 1.0818 - val_accuracy: 0.5000\n",
            "Epoch 16/64\n",
            "17/17 [==============================] - 165s 10s/step - loss: 1.0932 - accuracy: 0.3660 - val_loss: 1.0865 - val_accuracy: 0.3443\n",
            "Epoch 17/64\n",
            "17/17 [==============================] - 165s 10s/step - loss: 1.0920 - accuracy: 0.4000 - val_loss: 1.0955 - val_accuracy: 0.3770\n",
            "Epoch 18/64\n",
            "17/17 [==============================] - 164s 10s/step - loss: 1.0875 - accuracy: 0.4019 - val_loss: 1.0940 - val_accuracy: 0.3770\n",
            "Epoch 19/64\n",
            "17/17 [==============================] - 165s 10s/step - loss: 1.0930 - accuracy: 0.3811 - val_loss: 1.0929 - val_accuracy: 0.3934\n",
            "Epoch 20/64\n",
            "17/17 [==============================] - 164s 10s/step - loss: 1.0937 - accuracy: 0.3906 - val_loss: 1.0799 - val_accuracy: 0.4344\n",
            "Epoch 21/64\n",
            "17/17 [==============================] - 165s 10s/step - loss: 1.0896 - accuracy: 0.3679 - val_loss: 1.0836 - val_accuracy: 0.4836\n",
            "Epoch 22/64\n",
            "17/17 [==============================] - 164s 10s/step - loss: 1.0825 - accuracy: 0.4113 - val_loss: 1.0982 - val_accuracy: 0.3770\n",
            "Epoch 23/64\n",
            "17/17 [==============================] - 163s 10s/step - loss: 1.0940 - accuracy: 0.3981 - val_loss: 1.0768 - val_accuracy: 0.4672\n",
            "Epoch 24/64\n",
            "17/17 [==============================] - 167s 10s/step - loss: 1.0910 - accuracy: 0.4094 - val_loss: 1.0975 - val_accuracy: 0.3934\n",
            "Epoch 25/64\n",
            "17/17 [==============================] - 165s 10s/step - loss: 1.0823 - accuracy: 0.4151 - val_loss: 1.0815 - val_accuracy: 0.4344\n",
            "Epoch 26/64\n",
            "17/17 [==============================] - 164s 10s/step - loss: 1.0859 - accuracy: 0.4132 - val_loss: 1.0754 - val_accuracy: 0.4508\n",
            "Epoch 27/64\n",
            "17/17 [==============================] - 164s 10s/step - loss: 1.0876 - accuracy: 0.3981 - val_loss: 1.0761 - val_accuracy: 0.4016\n",
            "Epoch 28/64\n",
            "17/17 [==============================] - 163s 10s/step - loss: 1.0829 - accuracy: 0.4113 - val_loss: 1.0732 - val_accuracy: 0.4262\n",
            "Epoch 29/64\n",
            "17/17 [==============================] - 163s 10s/step - loss: 1.0837 - accuracy: 0.4151 - val_loss: 1.0904 - val_accuracy: 0.3852\n",
            "Epoch 30/64\n",
            "17/17 [==============================] - 163s 10s/step - loss: 1.0827 - accuracy: 0.4151 - val_loss: 1.0917 - val_accuracy: 0.3934\n",
            "Epoch 31/64\n",
            "17/17 [==============================] - 165s 10s/step - loss: 1.0819 - accuracy: 0.4245 - val_loss: 1.0755 - val_accuracy: 0.4262\n",
            "Epoch 32/64\n",
            "17/17 [==============================] - 167s 10s/step - loss: 1.0832 - accuracy: 0.4208 - val_loss: 1.0679 - val_accuracy: 0.4754\n",
            "Epoch 33/64\n",
            "17/17 [==============================] - 167s 10s/step - loss: 1.0730 - accuracy: 0.4528 - val_loss: 1.0851 - val_accuracy: 0.4344\n",
            "Epoch 34/64\n",
            "17/17 [==============================] - 165s 10s/step - loss: 1.0829 - accuracy: 0.4245 - val_loss: 1.0705 - val_accuracy: 0.4344\n",
            "Epoch 35/64\n",
            "17/17 [==============================] - 166s 10s/step - loss: 1.0740 - accuracy: 0.4377 - val_loss: 1.0828 - val_accuracy: 0.4098\n",
            "Epoch 36/64\n",
            "17/17 [==============================] - 168s 10s/step - loss: 1.0846 - accuracy: 0.4321 - val_loss: 1.0675 - val_accuracy: 0.4508\n",
            "Epoch 37/64\n",
            "17/17 [==============================] - 164s 10s/step - loss: 1.0792 - accuracy: 0.4453 - val_loss: 1.0685 - val_accuracy: 0.4590\n",
            "Epoch 38/64\n",
            "17/17 [==============================] - 165s 10s/step - loss: 1.0708 - accuracy: 0.4472 - val_loss: 1.0761 - val_accuracy: 0.4262\n",
            "Epoch 39/64\n",
            "17/17 [==============================] - 169s 10s/step - loss: 1.0727 - accuracy: 0.4358 - val_loss: 1.0583 - val_accuracy: 0.4426\n",
            "Epoch 40/64\n",
            "17/17 [==============================] - 165s 10s/step - loss: 1.0733 - accuracy: 0.4358 - val_loss: 1.0872 - val_accuracy: 0.3934\n",
            "Epoch 41/64\n",
            "17/17 [==============================] - 166s 10s/step - loss: 1.0673 - accuracy: 0.4509 - val_loss: 1.0591 - val_accuracy: 0.4918\n",
            "Epoch 42/64\n",
            "17/17 [==============================] - 166s 10s/step - loss: 1.0642 - accuracy: 0.4396 - val_loss: 1.0718 - val_accuracy: 0.4508\n",
            "Epoch 43/64\n",
            "17/17 [==============================] - 164s 10s/step - loss: 1.0666 - accuracy: 0.4698 - val_loss: 1.0692 - val_accuracy: 0.4754\n",
            "Epoch 44/64\n",
            "17/17 [==============================] - 164s 10s/step - loss: 1.0719 - accuracy: 0.4434 - val_loss: 1.0868 - val_accuracy: 0.4508\n",
            "Epoch 45/64\n",
            "17/17 [==============================] - 164s 10s/step - loss: 1.0618 - accuracy: 0.4830 - val_loss: 1.0571 - val_accuracy: 0.4426\n",
            "Epoch 46/64\n",
            "17/17 [==============================] - 163s 10s/step - loss: 1.0615 - accuracy: 0.4491 - val_loss: 1.0546 - val_accuracy: 0.5082\n",
            "Epoch 47/64\n",
            "17/17 [==============================] - 166s 10s/step - loss: 1.0512 - accuracy: 0.4811 - val_loss: 1.0353 - val_accuracy: 0.4590\n",
            "Epoch 48/64\n",
            "17/17 [==============================] - 167s 10s/step - loss: 1.0522 - accuracy: 0.4755 - val_loss: 1.0936 - val_accuracy: 0.4672\n",
            "Epoch 49/64\n",
            "17/17 [==============================] - 165s 10s/step - loss: 1.0633 - accuracy: 0.4509 - val_loss: 1.0637 - val_accuracy: 0.4590\n",
            "Epoch 50/64\n",
            "17/17 [==============================] - 165s 10s/step - loss: 1.0583 - accuracy: 0.4830 - val_loss: 1.0694 - val_accuracy: 0.4672\n",
            "Epoch 51/64\n",
            "17/17 [==============================] - 165s 10s/step - loss: 1.0632 - accuracy: 0.4472 - val_loss: 1.0711 - val_accuracy: 0.4590\n",
            "Epoch 52/64\n",
            "17/17 [==============================] - 165s 10s/step - loss: 1.0585 - accuracy: 0.4755 - val_loss: 1.0753 - val_accuracy: 0.4508\n",
            "Epoch 53/64\n",
            "17/17 [==============================] - 164s 10s/step - loss: 1.0425 - accuracy: 0.4906 - val_loss: 1.0693 - val_accuracy: 0.4344\n",
            "Epoch 54/64\n",
            "17/17 [==============================] - 166s 10s/step - loss: 1.0564 - accuracy: 0.4717 - val_loss: 1.0596 - val_accuracy: 0.4672\n",
            "Epoch 55/64\n",
            "17/17 [==============================] - 165s 10s/step - loss: 1.0473 - accuracy: 0.4472 - val_loss: 1.0759 - val_accuracy: 0.4016\n",
            "Epoch 56/64\n",
            "17/17 [==============================] - 178s 10s/step - loss: 1.0473 - accuracy: 0.4811 - val_loss: 1.0707 - val_accuracy: 0.4426\n",
            "Epoch 57/64\n",
            "17/17 [==============================] - 179s 11s/step - loss: 1.0414 - accuracy: 0.4849 - val_loss: 1.0746 - val_accuracy: 0.4262\n",
            "Epoch 58/64\n",
            "17/17 [==============================] - 167s 10s/step - loss: 1.0482 - accuracy: 0.4717 - val_loss: 1.0790 - val_accuracy: 0.4262\n",
            "Epoch 59/64\n",
            "17/17 [==============================] - 166s 10s/step - loss: 1.0452 - accuracy: 0.4774 - val_loss: 1.0612 - val_accuracy: 0.4426\n",
            "Epoch 60/64\n",
            "17/17 [==============================] - 167s 10s/step - loss: 1.0436 - accuracy: 0.4830 - val_loss: 1.1024 - val_accuracy: 0.4426\n",
            "Epoch 61/64\n",
            "17/17 [==============================] - 167s 10s/step - loss: 1.0410 - accuracy: 0.5113 - val_loss: 1.0634 - val_accuracy: 0.4508\n",
            "Epoch 62/64\n",
            "17/17 [==============================] - 168s 10s/step - loss: 1.0393 - accuracy: 0.4830 - val_loss: 1.0668 - val_accuracy: 0.4836\n",
            "Epoch 63/64\n",
            "17/17 [==============================] - 170s 10s/step - loss: 1.0432 - accuracy: 0.4925 - val_loss: 1.0829 - val_accuracy: 0.4426\n",
            "Epoch 64/64\n",
            "17/17 [==============================] - 168s 10s/step - loss: 1.0374 - accuracy: 0.5132 - val_loss: 1.0747 - val_accuracy: 0.4262\n"
          ]
        }
      ]
    },
    {
      "cell_type": "code",
      "source": [
        "plt.plot(history_VGG.history['accuracy'])\n",
        "plt.plot(history_VGG.history['val_accuracy'])\n",
        "plt.ylabel('Accuracy')\n",
        "plt.xlabel('epoch')\n",
        "plt.legend(['training data', 'validation data'], loc='lower right')\n",
        "plt.show()\n",
        "plt.plot(history_VGG.history['loss'])\n",
        "plt.plot(history_VGG.history['val_loss'])\n",
        "plt.ylabel('loss')\n",
        "plt.xlabel('epoch')\n",
        "plt.legend(['training data', 'validation data'], loc='lower right')\n",
        "plt.show()"
      ],
      "metadata": {
        "id": "SNL-rqp7MndD",
        "colab": {
          "base_uri": "https://localhost:8080/",
          "height": 541
        },
        "outputId": "f9aa7f5a-68ae-4f22-e387-b1e5f9b74525"
      },
      "execution_count": null,
      "outputs": [
        {
          "output_type": "display_data",
          "data": {
            "text/plain": [
              "<Figure size 432x288 with 1 Axes>"
            ],
            "image/png": "[encoded data removed]"
          },
          "metadata": {
            "needs_background": "light"
          }
        },
        {
          "output_type": "display_data",
          "data": {
            "text/plain": [
              "<Figure size 432x288 with 1 Axes>"
            ],
            "image/png": "[encoded data removed]"
          },
          "metadata": {
            "needs_background": "light"
          }
        }
      ]
    },
    {
      "cell_type": "markdown",
      "source": [
        "### **ResNet - Model**"
      ],
      "metadata": {
        "id": "71I-_JrXRASn"
      }
    },
    {
      "cell_type": "code",
      "source": [
        "from tensorflow.keras.datasets import mnist\n",
        "from tensorflow.keras.utils import to_categorical\n",
        "from tensorflow.keras.layers import *\n",
        "from tensorflow.keras.models import *\n",
        "import matplotlib.pyplot as plt\n",
        "from tensorflow.keras.utils import plot_model"
      ],
      "metadata": {
        "id": "B1AgJ5FhN7Yw"
      },
      "execution_count": null,
      "outputs": []
    },
    {
      "cell_type": "code",
      "source": [
        "input_Shape = Input(shape=(80,80,3))\n",
        "output_layer1 = Conv2D(32, (4,4), activation='relu')(input_Shape)\n",
        "for i in range(2):\n",
        "    output_layer2 = Conv2D(32, (4,4), padding = 'same', activation='relu')(output_layer1)\n",
        "    output_layer2 = Conv2D(32, (4,4), padding = 'same', activation='relu')(output_layer2)\n",
        "    output_layer2 = BatchNormalization()(output_layer2)\n",
        "    output_layer2 = Conv2D(32, (4,4), padding = 'same', activation='relu')(output_layer2)\n",
        "    output_layer2 = Dropout(0.25)(output_layer2)\n",
        "    output_layer2 = add([output_layer1, output_layer2])\n",
        "    output_layer1 = output_layer2\n",
        "output_layer3 = Flatten()(output_layer2)\n",
        "output_layer4 = Dense(units = 4, activation = 'relu')(output_layer3)\n",
        "output_layer6 = Dense(units = 3, activation = 'softmax')(output_layer4)\n",
        "model_resNet = Model(inputs=input_Shape, outputs=output_layer6)\n",
        "model_resNet.compile(optimizer = 'adadelta', loss = 'categorical_crossentropy', metrics = ['accuracy'])\n",
        "print(model_resNet.summary())"
      ],
      "metadata": {
        "id": "nGsDUW0kNUlD",
        "colab": {
          "base_uri": "https://localhost:8080/"
        },
        "outputId": "c3590a2e-1106-4c2d-b18a-a88368319faf"
      },
      "execution_count": null,
      "outputs": [
        {
          "output_type": "stream",
          "name": "stdout",
          "text": [
            "Model: \"model_15\"\n",
            "__________________________________________________________________________________________________\n",
            " Layer (type)                   Output Shape         Param #     Connected to                     \n",
            "==================================================================================================\n",
            " input_11 (InputLayer)          [(None, 80, 80, 3)]  0           []                               \n",
            "                                                                                                  \n",
            " conv2d_35 (Conv2D)             (None, 77, 77, 32)   1568        ['input_11[0][0]']               \n",
            "                                                                                                  \n",
            " conv2d_36 (Conv2D)             (None, 77, 77, 32)   16416       ['conv2d_35[0][0]']              \n",
            "                                                                                                  \n",
            " conv2d_37 (Conv2D)             (None, 77, 77, 32)   16416       ['conv2d_36[0][0]']              \n",
            "                                                                                                  \n",
            " batch_normalization_11 (BatchN  (None, 77, 77, 32)  128         ['conv2d_37[0][0]']              \n",
            " ormalization)                                                                                    \n",
            "                                                                                                  \n",
            " conv2d_38 (Conv2D)             (None, 77, 77, 32)   16416       ['batch_normalization_11[0][0]'] \n",
            "                                                                                                  \n",
            " dropout_9 (Dropout)            (None, 77, 77, 32)   0           ['conv2d_38[0][0]']              \n",
            "                                                                                                  \n",
            " add_12 (Add)                   (None, 77, 77, 32)   0           ['conv2d_35[0][0]',              \n",
            "                                                                  'dropout_9[0][0]']              \n",
            "                                                                                                  \n",
            " conv2d_39 (Conv2D)             (None, 77, 77, 32)   16416       ['add_12[0][0]']                 \n",
            "                                                                                                  \n",
            " conv2d_40 (Conv2D)             (None, 77, 77, 32)   16416       ['conv2d_39[0][0]']              \n",
            "                                                                                                  \n",
            " batch_normalization_12 (BatchN  (None, 77, 77, 32)  128         ['conv2d_40[0][0]']              \n",
            " ormalization)                                                                                    \n",
            "                                                                                                  \n",
            " conv2d_41 (Conv2D)             (None, 77, 77, 32)   16416       ['batch_normalization_12[0][0]'] \n",
            "                                                                                                  \n",
            " dropout_10 (Dropout)           (None, 77, 77, 32)   0           ['conv2d_41[0][0]']              \n",
            "                                                                                                  \n",
            " add_13 (Add)                   (None, 77, 77, 32)   0           ['add_12[0][0]',                 \n",
            "                                                                  'dropout_10[0][0]']             \n",
            "                                                                                                  \n",
            " flatten_18 (Flatten)           (None, 189728)       0           ['add_13[0][0]']                 \n",
            "                                                                                                  \n",
            " dense_47 (Dense)               (None, 4)            758916      ['flatten_18[0][0]']             \n",
            "                                                                                                  \n",
            " dense_48 (Dense)               (None, 3)            15          ['dense_47[0][0]']               \n",
            "                                                                                                  \n",
            "==================================================================================================\n",
            "Total params: 859,251\n",
            "Trainable params: 859,123\n",
            "Non-trainable params: 128\n",
            "__________________________________________________________________________________________________\n",
            "None\n"
          ]
        }
      ]
    },
    {
      "cell_type": "code",
      "source": [
        "history_resnet = 0\n",
        "callback_a = ModelCheckpoint(filepath = 'model_resnet.hdf5', monitor='val_accuracy', save_best_only = True, save_weights_only = True, verbose = 1)\n",
        "callback_b = EarlyStopping(monitor='val_accuracy', mode='min', patience=12, verbose=1)\n",
        "history_resnet = model_resNet.fit( training_image_generator, epochs = 64, batch_size = 10, validation_data= valid_image_generator,callbacks = [callback_a,callback_b])"
      ],
      "metadata": {
        "id": "NAe4hcIwOCmO",
        "colab": {
          "base_uri": "https://localhost:8080/"
        },
        "outputId": "5ae3117d-91ff-4a3f-f3d2-785718482607"
      },
      "execution_count": null,
      "outputs": [
        {
          "output_type": "stream",
          "name": "stdout",
          "text": [
            "Epoch 1/64\n",
            "17/17 [==============================] - ETA: 0s - loss: 1.1240 - accuracy: 0.3245\n",
            "Epoch 1: val_accuracy improved from -inf to 0.28125, saving model to model_resnet.hdf5\n",
            "17/17 [==============================] - 106s 6s/step - loss: 1.1240 - accuracy: 0.3245 - val_loss: 1.0938 - val_accuracy: 0.2812\n",
            "Epoch 2/64\n",
            "17/17 [==============================] - ETA: 0s - loss: 1.1097 - accuracy: 0.3358\n",
            "Epoch 2: val_accuracy did not improve from 0.28125\n",
            "17/17 [==============================] - 106s 6s/step - loss: 1.1097 - accuracy: 0.3358 - val_loss: 1.0941 - val_accuracy: 0.1875\n",
            "Epoch 3/64\n",
            "17/17 [==============================] - ETA: 0s - loss: 1.0992 - accuracy: 0.3245\n",
            "Epoch 3: val_accuracy improved from 0.28125 to 0.46875, saving model to model_resnet.hdf5\n",
            "17/17 [==============================] - 106s 6s/step - loss: 1.0992 - accuracy: 0.3245 - val_loss: 1.0956 - val_accuracy: 0.4688\n",
            "Epoch 4/64\n",
            "17/17 [==============================] - ETA: 0s - loss: 1.1124 - accuracy: 0.4226\n",
            "Epoch 4: val_accuracy did not improve from 0.46875\n",
            "17/17 [==============================] - 104s 6s/step - loss: 1.1124 - accuracy: 0.4226 - val_loss: 1.0970 - val_accuracy: 0.4688\n",
            "Epoch 5/64\n",
            "17/17 [==============================] - ETA: 0s - loss: 1.0934 - accuracy: 0.4226\n",
            "Epoch 5: val_accuracy did not improve from 0.46875\n",
            "17/17 [==============================] - 106s 6s/step - loss: 1.0934 - accuracy: 0.4226 - val_loss: 1.0979 - val_accuracy: 0.4688\n",
            "Epoch 6/64\n",
            "17/17 [==============================] - ETA: 0s - loss: 1.1004 - accuracy: 0.4113\n",
            "Epoch 6: val_accuracy did not improve from 0.46875\n",
            "17/17 [==============================] - 110s 6s/step - loss: 1.1004 - accuracy: 0.4113 - val_loss: 1.0981 - val_accuracy: 0.4688\n",
            "Epoch 7/64\n",
            "17/17 [==============================] - ETA: 0s - loss: 1.0920 - accuracy: 0.4226\n",
            "Epoch 7: val_accuracy did not improve from 0.46875\n",
            "17/17 [==============================] - 106s 6s/step - loss: 1.0920 - accuracy: 0.4226 - val_loss: 1.0986 - val_accuracy: 0.4688\n",
            "Epoch 8/64\n",
            "17/17 [==============================] - ETA: 0s - loss: 1.1065 - accuracy: 0.4170\n",
            "Epoch 8: val_accuracy did not improve from 0.46875\n",
            "17/17 [==============================] - 108s 6s/step - loss: 1.1065 - accuracy: 0.4170 - val_loss: 1.0986 - val_accuracy: 0.4688\n",
            "Epoch 9/64\n",
            "17/17 [==============================] - ETA: 0s - loss: 1.0883 - accuracy: 0.4189\n",
            "Epoch 9: val_accuracy did not improve from 0.46875\n",
            "17/17 [==============================] - 107s 6s/step - loss: 1.0883 - accuracy: 0.4189 - val_loss: 1.0954 - val_accuracy: 0.4688\n",
            "Epoch 10/64\n",
            "17/17 [==============================] - ETA: 0s - loss: 1.0993 - accuracy: 0.4226\n",
            "Epoch 10: val_accuracy did not improve from 0.46875\n",
            "17/17 [==============================] - 103s 6s/step - loss: 1.0993 - accuracy: 0.4226 - val_loss: 1.0966 - val_accuracy: 0.4688\n",
            "Epoch 11/64\n",
            "17/17 [==============================] - ETA: 0s - loss: 1.1106 - accuracy: 0.4189\n",
            "Epoch 11: val_accuracy did not improve from 0.46875\n",
            "17/17 [==============================] - 105s 6s/step - loss: 1.1106 - accuracy: 0.4189 - val_loss: 1.0986 - val_accuracy: 0.4688\n",
            "Epoch 12/64\n",
            "17/17 [==============================] - ETA: 0s - loss: 1.0978 - accuracy: 0.4189\n",
            "Epoch 12: val_accuracy did not improve from 0.46875\n",
            "17/17 [==============================] - 106s 6s/step - loss: 1.0978 - accuracy: 0.4189 - val_loss: 1.0986 - val_accuracy: 0.4688\n",
            "Epoch 13/64\n",
            "17/17 [==============================] - ETA: 0s - loss: 1.0754 - accuracy: 0.4226\n",
            "Epoch 13: val_accuracy did not improve from 0.46875\n",
            "17/17 [==============================] - 108s 6s/step - loss: 1.0754 - accuracy: 0.4226 - val_loss: 1.0961 - val_accuracy: 0.4688\n",
            "Epoch 14/64\n",
            "17/17 [==============================] - ETA: 0s - loss: 1.1030 - accuracy: 0.4208\n",
            "Epoch 14: val_accuracy did not improve from 0.46875\n",
            "17/17 [==============================] - 107s 6s/step - loss: 1.1030 - accuracy: 0.4208 - val_loss: 1.0986 - val_accuracy: 0.4688\n",
            "Epoch 14: early stopping\n"
          ]
        }
      ]
    },
    {
      "cell_type": "code",
      "source": [
        "plt.plot(history_resnet.history['accuracy'])\n",
        "plt.plot(history_resnet.history['val_accuracy'])\n",
        "plt.ylabel('Accuracy')\n",
        "plt.xlabel('epoch')\n",
        "plt.legend(['training data', 'validation data'], loc='lower right')\n",
        "plt.show()\n",
        "plt.plot(history_resnet.history['loss'])\n",
        "plt.plot(history_resnet.history['val_loss'])\n",
        "plt.ylabel('loss')\n",
        "plt.xlabel('epoch')\n",
        "plt.legend(['training data', 'validation data'], loc='lower right')\n",
        "plt.show()"
      ],
      "metadata": {
        "colab": {
          "base_uri": "https://localhost:8080/",
          "height": 541
        },
        "id": "FisysMnuY64S",
        "outputId": "cd8a9e88-814f-47e3-a491-dc48ae26b297"
      },
      "execution_count": null,
      "outputs": [
        {
          "output_type": "display_data",
          "data": {
            "text/plain": [
              "<Figure size 432x288 with 1 Axes>"
            ],
            "image/png": "[encoded data removed]"
          },
          "metadata": {
            "needs_background": "light"
          }
        },
        {
          "output_type": "display_data",
          "data": {
            "text/plain": [
              "<Figure size 432x288 with 1 Axes>"
            ],
            "image/png": "[encoded data removed]"
          },
          "metadata": {
            "needs_background": "light"
          }
        }
      ]
    }
  ]
}