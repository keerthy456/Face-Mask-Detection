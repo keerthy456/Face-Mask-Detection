{
  "nbformat": 4,
  "nbformat_minor": 0,
  "metadata": {
    "colab": {
      "name": "Spiltting-phase-3.ipynb",
      "provenance": [],
      "collapsed_sections": []
    },
    "kernelspec": {
      "name": "python3",
      "display_name": "Python 3"
    },
    "language_info": {
      "name": "python"
    },
    "accelerator": "GPU"
  },
  "cells": [
    {
      "cell_type": "code",
      "execution_count": null,
      "metadata": {
        "colab": {
          "resources": {
            "http://localhost:8080/nbextensions/google.colab/files.js": {
              "data": "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",
              "ok": true,
              "headers": [
                [
                  "content-type",
                  "application/javascript"
                ]
              ],
              "status": 200,
              "status_text": ""
            }
          },
          "base_uri": "https://localhost:8080/",
          "height": 74
        },
        "id": "mumwm4Rg7FEL",
        "outputId": "3440f8a5-24f7-4182-e3a8-1bd10099f11e"
      },
      "outputs": [
        {
          "output_type": "display_data",
          "data": {
            "text/plain": [
              "<IPython.core.display.HTML object>"
            ],
            "text/html": [
              "\n",
              "     <input type=\"file\" id=\"files-14a8da31-1a45-4e65-8551-1a7dccd4328a\" name=\"files[]\" multiple disabled\n",
              "        style=\"border:none\" />\n",
              "     <output id=\"result-14a8da31-1a45-4e65-8551-1a7dccd4328a\">\n",
              "      Upload widget is only available when the cell has been executed in the\n",
              "      current browser session. Please rerun this cell to enable.\n",
              "      </output>\n",
              "      <script src=\"/nbextensions/google.colab/files.js\"></script> "
            ]
          },
          "metadata": {}
        },
        {
          "output_type": "stream",
          "name": "stdout",
          "text": [
            "Saving DatasetZip.zip to DatasetZip.zip\n"
          ]
        }
      ],
      "source": [
        "from google.colab import files\n",
        "\n",
        "images = files.upload()"
      ]
    },
    {
      "cell_type": "markdown",
      "source": [
        ""
      ],
      "metadata": {
        "id": "3CZ62PKxs2rj"
      }
    },
    {
      "cell_type": "code",
      "source": [
        "! ls -l"
      ],
      "metadata": {
        "colab": {
          "base_uri": "https://localhost:8080/"
        },
        "id": "b4-m1gpW7XPQ",
        "outputId": "ddeffaee-7ab5-411f-a107-ddb0d5587a81"
      },
      "execution_count": null,
      "outputs": [
        {
          "output_type": "stream",
          "name": "stdout",
          "text": [
            "total 190800\n",
            "-rw-r--r-- 1 root root 195369966 Mar 12 03:14 DatasetZip.zip\n",
            "drwxr-xr-x 1 root root      4096 Mar  9 14:48 sample_data\n"
          ]
        }
      ]
    },
    {
      "cell_type": "code",
      "source": [
        "! unzip DatasetZip.zip"
      ],
      "metadata": {
        "id": "WhnJQWKr-s8S"
      },
      "execution_count": null,
      "outputs": []
    },
    {
      "cell_type": "code",
      "source": [
        "! ls -l /content/DatasetZip/training"
      ],
      "metadata": {
        "colab": {
          "base_uri": "https://localhost:8080/"
        },
        "id": "XkdfSE0_97g8",
        "outputId": "29f5ffde-acf9-4528-c80b-0dddafc7aadf"
      },
      "execution_count": null,
      "outputs": [
        {
          "output_type": "stream",
          "name": "stdout",
          "text": [
            "total 36\n",
            "drwxr-xr-x 2 root root 12288 Mar  9 21:39 incorrectlyheld\n",
            "drwxr-xr-x 2 root root 12288 Mar  9 21:41 withmask\n",
            "drwxr-xr-x 2 root root 12288 Mar  9 21:42 withoutmask\n"
          ]
        }
      ]
    },
    {
      "cell_type": "code",
      "source": [
        "! ls -l /content/DatasetZip/testing"
      ],
      "metadata": {
        "colab": {
          "base_uri": "https://localhost:8080/"
        },
        "id": "WDZpMaH79L_B",
        "outputId": "c6a38a45-2d50-4765-c1f6-fd18ea053bac"
      },
      "execution_count": null,
      "outputs": [
        {
          "output_type": "stream",
          "name": "stdout",
          "text": [
            "total 12\n",
            "drwxr-xr-x 2 root root 4096 Mar  9 21:39 incorrectlyheld\n",
            "drwxr-xr-x 2 root root 4096 Mar  9 21:41 withmask\n",
            "drwxr-xr-x 2 root root 4096 Mar  9 21:42 withoutmask\n"
          ]
        }
      ]
    },
    {
      "cell_type": "code",
      "source": [
        "! ls -l /content/DatasetZip/validation"
      ],
      "metadata": {
        "colab": {
          "base_uri": "https://localhost:8080/"
        },
        "id": "TLNHM_W6-zb3",
        "outputId": "32d16021-9007-475d-91e9-9e04dd6df1d8"
      },
      "execution_count": null,
      "outputs": [
        {
          "output_type": "stream",
          "name": "stdout",
          "text": [
            "total 12\n",
            "drwxr-xr-x 2 root root 4096 Mar  8 20:14 incorrectlyheld\n",
            "drwxr-xr-x 2 root root 4096 Mar  8 20:11 withmask\n",
            "drwxr-xr-x 2 root root 4096 Mar  8 19:40 withoutmask\n"
          ]
        }
      ]
    },
    {
      "cell_type": "code",
      "source": [
        "from tensorflow.keras.preprocessing.image import ImageDataGenerator"
      ],
      "metadata": {
        "id": "TCbrkqKT7Z3D"
      },
      "execution_count": null,
      "outputs": []
    },
    {
      "cell_type": "code",
      "source": [
        ""
      ],
      "metadata": {
        "id": "2bu8gRWTlEbo"
      },
      "execution_count": null,
      "outputs": []
    },
    {
      "cell_type": "code",
      "source": [
        "my_augmented_generator = ImageDataGenerator(    rotation_range=40,\n",
        "    width_shift_range=0.2,\n",
        "    height_shift_range=0.2,\n",
        "    shear_range=0.2,\n",
        "    zoom_range=0.2,\n",
        "    horizontal_flip=True,\n",
        "    rescale=1./255, fill_mode='nearest')"
      ],
      "metadata": {
        "id": "9XDg4jr37cSr"
      },
      "execution_count": null,
      "outputs": []
    },
    {
      "cell_type": "code",
      "source": [
        "training_image_generator = my_augmented_generator.flow_from_directory( '/content/DatasetZip/training', target_size=(256,256), batch_size=32, class_mode='categorical')"
      ],
      "metadata": {
        "colab": {
          "base_uri": "https://localhost:8080/"
        },
        "id": "ju2VxkFT7hNp",
        "outputId": "87f5c115-7fcf-4940-8668-21620d6ad44b"
      },
      "execution_count": null,
      "outputs": [
        {
          "output_type": "stream",
          "name": "stdout",
          "text": [
            "Found 530 images belonging to 3 classes.\n"
          ]
        }
      ]
    },
    {
      "cell_type": "code",
      "source": [
        "valid_image_generator = my_augmented_generator.flow_from_directory( '/content/DatasetZip/validation', target_size=(256,256), batch_size=32, class_mode='categorical')"
      ],
      "metadata": {
        "colab": {
          "base_uri": "https://localhost:8080/"
        },
        "id": "owomtAAI_NBq",
        "outputId": "a67651ad-ed68-46f3-e343-13c37fc7dbf8"
      },
      "execution_count": null,
      "outputs": [
        {
          "output_type": "stream",
          "name": "stdout",
          "text": [
            "Found 122 images belonging to 3 classes.\n"
          ]
        }
      ]
    },
    {
      "cell_type": "code",
      "source": [
        "test_image_generator = my_augmented_generator.flow_from_directory( '/content/DatasetZip/testing', target_size=(256,256), batch_size=32, class_mode='categorical')"
      ],
      "metadata": {
        "colab": {
          "base_uri": "https://localhost:8080/"
        },
        "id": "Jatej6fA9KEO",
        "outputId": "9d28b4ad-f095-4e1f-ce8c-db9fa72aa759"
      },
      "execution_count": null,
      "outputs": [
        {
          "output_type": "stream",
          "name": "stdout",
          "text": [
            "Found 141 images belonging to 3 classes.\n"
          ]
        }
      ]
    },
    {
      "cell_type": "code",
      "source": [
        "import matplotlib.pyplot as plt\n",
        "for my_batch in training_image_generator:\n",
        "    # my_batch is a tuple with images and labels\n",
        "    images = my_batch[0]\n",
        "    labels = my_batch[1]\n",
        "    break\n"
      ],
      "metadata": {
        "id": "KhhJsdxz7jFc"
      },
      "execution_count": null,
      "outputs": []
    },
    {
      "cell_type": "code",
      "source": [
        "import matplotlib.pyplot as plt\n",
        "for my_batch in test_image_generator:\n",
        "    # my_batch is a tuple with images and labels\n",
        "    imagesT = my_batch[0]\n",
        "    labelsT = my_batch[1]\n",
        "    break\n"
      ],
      "metadata": {
        "id": "iqrTMykw85jr"
      },
      "execution_count": null,
      "outputs": []
    },
    {
      "cell_type": "code",
      "source": [
        "from tensorflow.keras.models import Sequential\n",
        "from tensorflow.keras.callbacks import EarlyStopping, ModelCheckpoint\n",
        "from tensorflow.keras.layers import Dense, Conv2D, MaxPool2D, Flatten"
      ],
      "metadata": {
        "id": "XAqwvElD7ldZ"
      },
      "execution_count": null,
      "outputs": []
    },
    {
      "cell_type": "code",
      "source": [
        "model = 0"
      ],
      "metadata": {
        "id": "gAFEvrxfBfzR"
      },
      "execution_count": null,
      "outputs": []
    },
    {
      "cell_type": "code",
      "source": [
        "model = Sequential()\n",
        "model.add( Conv2D( 64, ( 5,5 ), activation = 'relu', input_shape = images[0, :, :, :].shape ) )\n",
        "model.add( Conv2D( 32, ( 5,5), activation = 'relu' ) )\n",
        "model.add( Conv2D( 32, ( 5,5 ), activation = 'relu' ) )\n",
        "model.add( Conv2D( 16, ( 5,5 ), activation = 'relu' ) )\n",
        "\n",
        "model.add( Flatten() )\n",
        "model.add( Dense( 64, activation = 'relu' ) )\n",
        "model.add( Dense( 3, activation = 'softmax' ) )"
      ],
      "metadata": {
        "id": "sjzF1jx87oi3"
      },
      "execution_count": null,
      "outputs": []
    },
    {
      "cell_type": "code",
      "source": [
        "model.compile( optimizer = 'adadelta', loss = 'categorical_crossentropy', metrics = [ 'accuracy' ] )\n",
        "callback_a = ModelCheckpoint(filepath = 'model_r2.hdf5', monitor='val_accuracy', save_best_only = True, save_weights_only = True, verbose = 1)\n",
        "callback_b = EarlyStopping(monitor='val_accuracy', mode='min', patience=12, verbose=1)\n",
        "history = model.fit(training_image_generator, validation_data = valid_image_generator, epochs = 64, batch_size = 32, callbacks = [callback_a,callback_b] )"
      ],
      "metadata": {
        "colab": {
          "base_uri": "https://localhost:8080/"
        },
        "id": "xPCZF1GE7rr1",
        "outputId": "17041538-1054-44f4-ffae-0ded87e33300"
      },
      "execution_count": null,
      "outputs": [
        {
          "output_type": "stream",
          "name": "stdout",
          "text": [
            "Epoch 1/64\n",
            "17/17 [==============================] - ETA: 0s - loss: 1.0960 - accuracy: 0.4000\n",
            "Epoch 1: val_accuracy improved from -inf to 0.41803, saving model to model_r2.hdf5\n",
            "17/17 [==============================] - 33s 1s/step - loss: 1.0960 - accuracy: 0.4000 - val_loss: 1.0890 - val_accuracy: 0.4180\n",
            "Epoch 2/64\n",
            "17/17 [==============================] - ETA: 0s - loss: 1.0882 - accuracy: 0.4226\n",
            "Epoch 2: val_accuracy did not improve from 0.41803\n",
            "17/17 [==============================] - 14s 809ms/step - loss: 1.0882 - accuracy: 0.4226 - val_loss: 1.0856 - val_accuracy: 0.4180\n",
            "Epoch 3/64\n",
            "17/17 [==============================] - ETA: 0s - loss: 1.0853 - accuracy: 0.4226\n",
            "Epoch 3: val_accuracy did not improve from 0.41803\n",
            "17/17 [==============================] - 14s 841ms/step - loss: 1.0853 - accuracy: 0.4226 - val_loss: 1.0837 - val_accuracy: 0.4180\n",
            "Epoch 4/64\n",
            "17/17 [==============================] - ETA: 0s - loss: 1.0820 - accuracy: 0.4226\n",
            "Epoch 4: val_accuracy did not improve from 0.41803\n",
            "17/17 [==============================] - 14s 811ms/step - loss: 1.0820 - accuracy: 0.4226 - val_loss: 1.0828 - val_accuracy: 0.4180\n",
            "Epoch 5/64\n",
            "17/17 [==============================] - ETA: 0s - loss: 1.0813 - accuracy: 0.4226\n",
            "Epoch 5: val_accuracy did not improve from 0.41803\n",
            "17/17 [==============================] - 14s 841ms/step - loss: 1.0813 - accuracy: 0.4226 - val_loss: 1.0821 - val_accuracy: 0.4180\n",
            "Epoch 6/64\n",
            "17/17 [==============================] - ETA: 0s - loss: 1.0779 - accuracy: 0.4226\n",
            "Epoch 6: val_accuracy did not improve from 0.41803\n",
            "17/17 [==============================] - 14s 804ms/step - loss: 1.0779 - accuracy: 0.4226 - val_loss: 1.0814 - val_accuracy: 0.4180\n",
            "Epoch 7/64\n",
            "17/17 [==============================] - ETA: 0s - loss: 1.0756 - accuracy: 0.4226\n",
            "Epoch 7: val_accuracy did not improve from 0.41803\n",
            "17/17 [==============================] - 14s 826ms/step - loss: 1.0756 - accuracy: 0.4226 - val_loss: 1.0809 - val_accuracy: 0.4180\n",
            "Epoch 8/64\n",
            "17/17 [==============================] - ETA: 0s - loss: 1.0730 - accuracy: 0.4226\n",
            "Epoch 8: val_accuracy did not improve from 0.41803\n",
            "17/17 [==============================] - 14s 845ms/step - loss: 1.0730 - accuracy: 0.4226 - val_loss: 1.0806 - val_accuracy: 0.4180\n",
            "Epoch 9/64\n",
            "17/17 [==============================] - ETA: 0s - loss: 1.0709 - accuracy: 0.4340\n",
            "Epoch 9: val_accuracy did not improve from 0.41803\n",
            "17/17 [==============================] - 14s 830ms/step - loss: 1.0709 - accuracy: 0.4340 - val_loss: 1.0786 - val_accuracy: 0.4180\n",
            "Epoch 10/64\n",
            "17/17 [==============================] - ETA: 0s - loss: 1.0670 - accuracy: 0.4226\n",
            "Epoch 10: val_accuracy did not improve from 0.41803\n",
            "17/17 [==============================] - 14s 835ms/step - loss: 1.0670 - accuracy: 0.4226 - val_loss: 1.0783 - val_accuracy: 0.4180\n",
            "Epoch 11/64\n",
            "17/17 [==============================] - ETA: 0s - loss: 1.0637 - accuracy: 0.4302\n",
            "Epoch 11: val_accuracy did not improve from 0.41803\n",
            "17/17 [==============================] - 14s 833ms/step - loss: 1.0637 - accuracy: 0.4302 - val_loss: 1.0771 - val_accuracy: 0.4180\n",
            "Epoch 12/64\n",
            "17/17 [==============================] - ETA: 0s - loss: 1.0571 - accuracy: 0.4321\n",
            "Epoch 12: val_accuracy did not improve from 0.41803\n",
            "17/17 [==============================] - 14s 824ms/step - loss: 1.0571 - accuracy: 0.4321 - val_loss: 1.0813 - val_accuracy: 0.4180\n",
            "Epoch 13/64\n",
            "17/17 [==============================] - ETA: 0s - loss: 1.0557 - accuracy: 0.4528\n",
            "Epoch 13: val_accuracy did not improve from 0.41803\n",
            "17/17 [==============================] - 14s 824ms/step - loss: 1.0557 - accuracy: 0.4528 - val_loss: 1.0751 - val_accuracy: 0.4098\n",
            "Epoch 14/64\n",
            "17/17 [==============================] - ETA: 0s - loss: 1.0516 - accuracy: 0.4358\n",
            "Epoch 14: val_accuracy improved from 0.41803 to 0.43443, saving model to model_r2.hdf5\n",
            "17/17 [==============================] - 15s 857ms/step - loss: 1.0516 - accuracy: 0.4358 - val_loss: 1.0773 - val_accuracy: 0.4344\n",
            "Epoch 15/64\n",
            "17/17 [==============================] - ETA: 0s - loss: 1.0463 - accuracy: 0.4811\n",
            "Epoch 15: val_accuracy did not improve from 0.43443\n",
            "17/17 [==============================] - 14s 830ms/step - loss: 1.0463 - accuracy: 0.4811 - val_loss: 1.0726 - val_accuracy: 0.4344\n",
            "Epoch 16/64\n",
            "17/17 [==============================] - ETA: 0s - loss: 1.0403 - accuracy: 0.4717\n",
            "Epoch 16: val_accuracy did not improve from 0.43443\n",
            "17/17 [==============================] - 14s 814ms/step - loss: 1.0403 - accuracy: 0.4717 - val_loss: 1.0757 - val_accuracy: 0.4016\n",
            "Epoch 17/64\n",
            "17/17 [==============================] - ETA: 0s - loss: 1.0356 - accuracy: 0.4943\n",
            "Epoch 17: val_accuracy did not improve from 0.43443\n",
            "17/17 [==============================] - 14s 815ms/step - loss: 1.0356 - accuracy: 0.4943 - val_loss: 1.0708 - val_accuracy: 0.4180\n",
            "Epoch 18/64\n",
            "17/17 [==============================] - ETA: 0s - loss: 1.0316 - accuracy: 0.4887\n",
            "Epoch 18: val_accuracy did not improve from 0.43443\n",
            "17/17 [==============================] - 14s 818ms/step - loss: 1.0316 - accuracy: 0.4887 - val_loss: 1.0706 - val_accuracy: 0.4262\n",
            "Epoch 19/64\n",
            "17/17 [==============================] - ETA: 0s - loss: 1.0270 - accuracy: 0.5340\n",
            "Epoch 19: val_accuracy did not improve from 0.43443\n",
            "17/17 [==============================] - 14s 837ms/step - loss: 1.0270 - accuracy: 0.5340 - val_loss: 1.0684 - val_accuracy: 0.4344\n",
            "Epoch 20/64\n",
            "17/17 [==============================] - ETA: 0s - loss: 1.0248 - accuracy: 0.4981\n",
            "Epoch 20: val_accuracy did not improve from 0.43443\n",
            "17/17 [==============================] - 14s 813ms/step - loss: 1.0248 - accuracy: 0.4981 - val_loss: 1.0671 - val_accuracy: 0.4344\n",
            "Epoch 21/64\n",
            "17/17 [==============================] - ETA: 0s - loss: 1.0136 - accuracy: 0.5396\n",
            "Epoch 21: val_accuracy improved from 0.43443 to 0.46721, saving model to model_r2.hdf5\n",
            "17/17 [==============================] - 14s 833ms/step - loss: 1.0136 - accuracy: 0.5396 - val_loss: 1.0678 - val_accuracy: 0.4672\n",
            "Epoch 22/64\n",
            "17/17 [==============================] - ETA: 0s - loss: 1.0104 - accuracy: 0.5547\n",
            "Epoch 22: val_accuracy did not improve from 0.46721\n",
            "17/17 [==============================] - 14s 812ms/step - loss: 1.0104 - accuracy: 0.5547 - val_loss: 1.0694 - val_accuracy: 0.4262\n",
            "Epoch 23/64\n",
            "17/17 [==============================] - ETA: 0s - loss: 1.0031 - accuracy: 0.5453\n",
            "Epoch 23: val_accuracy did not improve from 0.46721\n",
            "17/17 [==============================] - 14s 808ms/step - loss: 1.0031 - accuracy: 0.5453 - val_loss: 1.0664 - val_accuracy: 0.4672\n",
            "Epoch 24/64\n",
            "17/17 [==============================] - ETA: 0s - loss: 0.9954 - accuracy: 0.5434\n",
            "Epoch 24: val_accuracy did not improve from 0.46721\n",
            "17/17 [==============================] - 14s 801ms/step - loss: 0.9954 - accuracy: 0.5434 - val_loss: 1.0751 - val_accuracy: 0.4672\n",
            "Epoch 25/64\n",
            "17/17 [==============================] - ETA: 0s - loss: 0.9887 - accuracy: 0.5774\n",
            "Epoch 25: val_accuracy improved from 0.46721 to 0.47541, saving model to model_r2.hdf5\n",
            "17/17 [==============================] - 15s 864ms/step - loss: 0.9887 - accuracy: 0.5774 - val_loss: 1.0637 - val_accuracy: 0.4754\n",
            "Epoch 26/64\n",
            "17/17 [==============================] - ETA: 0s - loss: 0.9807 - accuracy: 0.5755\n",
            "Epoch 26: val_accuracy did not improve from 0.47541\n",
            "17/17 [==============================] - 14s 820ms/step - loss: 0.9807 - accuracy: 0.5755 - val_loss: 1.0635 - val_accuracy: 0.4754\n",
            "Epoch 27/64\n",
            "17/17 [==============================] - ETA: 0s - loss: 0.9789 - accuracy: 0.5774\n",
            "Epoch 27: val_accuracy did not improve from 0.47541\n",
            "17/17 [==============================] - 14s 826ms/step - loss: 0.9789 - accuracy: 0.5774 - val_loss: 1.0664 - val_accuracy: 0.4426\n",
            "Epoch 28/64\n",
            "17/17 [==============================] - ETA: 0s - loss: 0.9677 - accuracy: 0.5868\n",
            "Epoch 28: val_accuracy did not improve from 0.47541\n",
            "17/17 [==============================] - 14s 818ms/step - loss: 0.9677 - accuracy: 0.5868 - val_loss: 1.0620 - val_accuracy: 0.4754\n",
            "Epoch 28: early stopping\n"
          ]
        }
      ]
    },
    {
      "cell_type": "code",
      "source": [
        "plt.plot(history.history['accuracy'])\n",
        "plt.plot(history.history['val_accuracy'])\n",
        "plt.ylabel('Accuracy')\n",
        "plt.xlabel('epoch')\n",
        "plt.legend(['training data', 'validation data'], loc='lower right')\n",
        "plt.show()"
      ],
      "metadata": {
        "id": "lXxH334jAr0C",
        "colab": {
          "base_uri": "https://localhost:8080/",
          "height": 279
        },
        "outputId": "d339a4bd-6695-458f-c4ad-e2c71bcf4b3d"
      },
      "execution_count": null,
      "outputs": [
        {
          "output_type": "display_data",
          "data": {
            "image/png": "[encoded data removed]",
            "text/plain": [
              "<Figure size 432x288 with 1 Axes>"
            ]
          },
          "metadata": {
            "needs_background": "light"
          }
        }
      ]
    },
    {
      "cell_type": "code",
      "source": [
        "model1 = 0"
      ],
      "metadata": {
        "id": "mcKBkR7WIL81"
      },
      "execution_count": null,
      "outputs": []
    },
    {
      "cell_type": "code",
      "source": [
        "\n",
        "model1 = Sequential()\n",
        "model1.add( Conv2D( 128, ( 5,5 ), activation = 'relu', input_shape = images[0, :, :, :].shape ) )\n",
        "model1.add( Conv2D( 64, ( 5,5), activation = 'relu' ) )\n",
        "model1.add( Conv2D( 32, ( 5,5 ), activation = 'relu' ) )\n",
        "model1.add( Conv2D( 16, ( 5,5 ), activation = 'relu' ) )\n",
        "\n",
        "model1.add( Flatten() )\n",
        "model1.add( Dense( 64, activation = 'relu' ) )\n",
        "model1.add( Dense( 3, activation = 'softmax' ) )"
      ],
      "metadata": {
        "id": "oSUlREFeILUq"
      },
      "execution_count": null,
      "outputs": []
    },
    {
      "cell_type": "code",
      "source": [
        "model1.compile( optimizer = 'adadelta', loss = 'categorical_crossentropy', metrics = [ 'accuracy' ] )\n",
        "callback_a = ModelCheckpoint(filepath = 'model1.hdf5', monitor='val_accuracy', save_best_only = True, save_weights_only = True, verbose = 1)\n",
        "callback_b = EarlyStopping(monitor='val_accuracy', mode='min', patience=12, verbose=1)\n",
        "history = model1.fit(training_image_generator, validation_data = valid_image_generator, epochs = 64, batch_size = 32, callbacks = [callback_a,callback_b] )"
      ],
      "metadata": {
        "colab": {
          "base_uri": "https://localhost:8080/"
        },
        "id": "nGWf5zCqIUnv",
        "outputId": "b20db1ac-e64b-46b5-fa93-24be384a5753"
      },
      "execution_count": null,
      "outputs": [
        {
          "output_type": "stream",
          "name": "stdout",
          "text": [
            "Epoch 1/64\n",
            "17/17 [==============================] - ETA: 0s - loss: 1.0960 - accuracy: 0.4000\n",
            "Epoch 1: val_accuracy improved from -inf to 0.40984, saving model to model1.hdf5\n",
            "17/17 [==============================] - 68s 3s/step - loss: 1.0960 - accuracy: 0.4000 - val_loss: 1.0834 - val_accuracy: 0.4098\n",
            "Epoch 2/64\n",
            "17/17 [==============================] - ETA: 0s - loss: 1.0853 - accuracy: 0.4226\n",
            "Epoch 2: val_accuracy did not improve from 0.40984\n",
            "17/17 [==============================] - 27s 2s/step - loss: 1.0853 - accuracy: 0.4226 - val_loss: 1.0822 - val_accuracy: 0.4098\n",
            "Epoch 3/64\n",
            "17/17 [==============================] - ETA: 0s - loss: 1.0812 - accuracy: 0.4321\n",
            "Epoch 3: val_accuracy improved from 0.40984 to 0.41803, saving model to model1.hdf5\n",
            "17/17 [==============================] - 28s 2s/step - loss: 1.0812 - accuracy: 0.4321 - val_loss: 1.0816 - val_accuracy: 0.4180\n",
            "Epoch 4/64\n",
            "17/17 [==============================] - ETA: 0s - loss: 1.0787 - accuracy: 0.4283\n",
            "Epoch 4: val_accuracy did not improve from 0.41803\n",
            "17/17 [==============================] - 27s 2s/step - loss: 1.0787 - accuracy: 0.4283 - val_loss: 1.0787 - val_accuracy: 0.4098\n",
            "Epoch 5/64\n",
            "17/17 [==============================] - ETA: 0s - loss: 1.0711 - accuracy: 0.4434\n",
            "Epoch 5: val_accuracy did not improve from 0.41803\n",
            "17/17 [==============================] - 27s 2s/step - loss: 1.0711 - accuracy: 0.4434 - val_loss: 1.0804 - val_accuracy: 0.4016\n",
            "Epoch 6/64\n",
            "17/17 [==============================] - ETA: 0s - loss: 1.0654 - accuracy: 0.4642\n",
            "Epoch 6: val_accuracy improved from 0.41803 to 0.42623, saving model to model1.hdf5\n",
            "17/17 [==============================] - 28s 2s/step - loss: 1.0654 - accuracy: 0.4642 - val_loss: 1.0772 - val_accuracy: 0.4262\n",
            "Epoch 7/64\n",
            "17/17 [==============================] - ETA: 0s - loss: 1.0583 - accuracy: 0.4585\n",
            "Epoch 7: val_accuracy improved from 0.42623 to 0.45902, saving model to model1.hdf5\n",
            "17/17 [==============================] - 28s 2s/step - loss: 1.0583 - accuracy: 0.4585 - val_loss: 1.0746 - val_accuracy: 0.4590\n",
            "Epoch 8/64\n",
            "17/17 [==============================] - ETA: 0s - loss: 1.0562 - accuracy: 0.4811\n",
            "Epoch 8: val_accuracy did not improve from 0.45902\n",
            "17/17 [==============================] - 27s 2s/step - loss: 1.0562 - accuracy: 0.4811 - val_loss: 1.0763 - val_accuracy: 0.4426\n",
            "Epoch 9/64\n",
            "17/17 [==============================] - ETA: 0s - loss: 1.0425 - accuracy: 0.4943\n",
            "Epoch 9: val_accuracy did not improve from 0.45902\n",
            "17/17 [==============================] - 27s 2s/step - loss: 1.0425 - accuracy: 0.4943 - val_loss: 1.0846 - val_accuracy: 0.4180\n",
            "Epoch 10/64\n",
            "17/17 [==============================] - ETA: 0s - loss: 1.0348 - accuracy: 0.5057\n",
            "Epoch 10: val_accuracy did not improve from 0.45902\n",
            "17/17 [==============================] - 27s 2s/step - loss: 1.0348 - accuracy: 0.5057 - val_loss: 1.0771 - val_accuracy: 0.4344\n",
            "Epoch 11/64\n",
            "17/17 [==============================] - ETA: 0s - loss: 1.0348 - accuracy: 0.5094\n",
            "Epoch 11: val_accuracy did not improve from 0.45902\n",
            "17/17 [==============================] - 27s 2s/step - loss: 1.0348 - accuracy: 0.5094 - val_loss: 1.0788 - val_accuracy: 0.3934\n",
            "Epoch 12/64\n",
            "17/17 [==============================] - ETA: 0s - loss: 1.0258 - accuracy: 0.4792\n",
            "Epoch 12: val_accuracy improved from 0.45902 to 0.46721, saving model to model1.hdf5\n",
            "17/17 [==============================] - 28s 2s/step - loss: 1.0258 - accuracy: 0.4792 - val_loss: 1.0697 - val_accuracy: 0.4672\n",
            "Epoch 13/64\n",
            "17/17 [==============================] - ETA: 0s - loss: 1.0143 - accuracy: 0.5321\n",
            "Epoch 13: val_accuracy did not improve from 0.46721\n",
            "17/17 [==============================] - 27s 2s/step - loss: 1.0143 - accuracy: 0.5321 - val_loss: 1.0714 - val_accuracy: 0.4344\n",
            "Epoch 14/64\n",
            "17/17 [==============================] - ETA: 0s - loss: 1.0109 - accuracy: 0.5377\n",
            "Epoch 14: val_accuracy did not improve from 0.46721\n",
            "17/17 [==============================] - 27s 2s/step - loss: 1.0109 - accuracy: 0.5377 - val_loss: 1.0746 - val_accuracy: 0.4590\n",
            "Epoch 15/64\n",
            "17/17 [==============================] - ETA: 0s - loss: 1.0039 - accuracy: 0.5283\n",
            "Epoch 15: val_accuracy did not improve from 0.46721\n",
            "17/17 [==============================] - 27s 2s/step - loss: 1.0039 - accuracy: 0.5283 - val_loss: 1.0977 - val_accuracy: 0.3443\n",
            "Epoch 16/64\n",
            "17/17 [==============================] - ETA: 0s - loss: 1.0041 - accuracy: 0.5453\n",
            "Epoch 16: val_accuracy did not improve from 0.46721\n",
            "17/17 [==============================] - 27s 2s/step - loss: 1.0041 - accuracy: 0.5453 - val_loss: 1.0693 - val_accuracy: 0.4426\n",
            "Epoch 17/64\n",
            "17/17 [==============================] - ETA: 0s - loss: 0.9842 - accuracy: 0.5415\n",
            "Epoch 17: val_accuracy did not improve from 0.46721\n",
            "17/17 [==============================] - 27s 2s/step - loss: 0.9842 - accuracy: 0.5415 - val_loss: 1.0927 - val_accuracy: 0.4508\n",
            "Epoch 18/64\n",
            "17/17 [==============================] - ETA: 0s - loss: 0.9781 - accuracy: 0.5453\n",
            "Epoch 18: val_accuracy did not improve from 0.46721\n",
            "17/17 [==============================] - 27s 2s/step - loss: 0.9781 - accuracy: 0.5453 - val_loss: 1.0717 - val_accuracy: 0.4426\n",
            "Epoch 19/64\n",
            "17/17 [==============================] - ETA: 0s - loss: 0.9621 - accuracy: 0.5811\n",
            "Epoch 19: val_accuracy did not improve from 0.46721\n",
            "17/17 [==============================] - 27s 2s/step - loss: 0.9621 - accuracy: 0.5811 - val_loss: 1.1001 - val_accuracy: 0.4590\n",
            "Epoch 20/64\n",
            "17/17 [==============================] - ETA: 0s - loss: 0.9578 - accuracy: 0.5736\n",
            "Epoch 20: val_accuracy did not improve from 0.46721\n",
            "17/17 [==============================] - 27s 2s/step - loss: 0.9578 - accuracy: 0.5736 - val_loss: 1.0799 - val_accuracy: 0.3934\n",
            "Epoch 21/64\n",
            "17/17 [==============================] - ETA: 0s - loss: 0.9677 - accuracy: 0.5528\n",
            "Epoch 21: val_accuracy improved from 0.46721 to 0.47541, saving model to model1.hdf5\n",
            "17/17 [==============================] - 28s 2s/step - loss: 0.9677 - accuracy: 0.5528 - val_loss: 1.0673 - val_accuracy: 0.4754\n",
            "Epoch 22/64\n",
            "17/17 [==============================] - ETA: 0s - loss: 0.9432 - accuracy: 0.5717\n",
            "Epoch 22: val_accuracy did not improve from 0.47541\n",
            "17/17 [==============================] - 27s 2s/step - loss: 0.9432 - accuracy: 0.5717 - val_loss: 1.1443 - val_accuracy: 0.3361\n",
            "Epoch 23/64\n",
            "17/17 [==============================] - ETA: 0s - loss: 0.9538 - accuracy: 0.5377\n",
            "Epoch 23: val_accuracy did not improve from 0.47541\n",
            "17/17 [==============================] - 27s 2s/step - loss: 0.9538 - accuracy: 0.5377 - val_loss: 1.1070 - val_accuracy: 0.3770\n",
            "Epoch 24/64\n",
            "17/17 [==============================] - ETA: 0s - loss: 0.9379 - accuracy: 0.5811\n",
            "Epoch 24: val_accuracy did not improve from 0.47541\n",
            "17/17 [==============================] - 27s 2s/step - loss: 0.9379 - accuracy: 0.5811 - val_loss: 1.1920 - val_accuracy: 0.2869\n",
            "Epoch 25/64\n",
            "17/17 [==============================] - ETA: 0s - loss: 0.9303 - accuracy: 0.5717\n",
            "Epoch 25: val_accuracy did not improve from 0.47541\n",
            "17/17 [==============================] - 27s 2s/step - loss: 0.9303 - accuracy: 0.5717 - val_loss: 1.0801 - val_accuracy: 0.4180\n",
            "Epoch 26/64\n",
            "17/17 [==============================] - ETA: 0s - loss: 0.9262 - accuracy: 0.5943\n",
            "Epoch 26: val_accuracy did not improve from 0.47541\n",
            "17/17 [==============================] - 27s 2s/step - loss: 0.9262 - accuracy: 0.5943 - val_loss: 1.0786 - val_accuracy: 0.3689\n",
            "Epoch 27/64\n",
            "17/17 [==============================] - ETA: 0s - loss: 0.9017 - accuracy: 0.6189\n",
            "Epoch 27: val_accuracy did not improve from 0.47541\n",
            "17/17 [==============================] - 27s 2s/step - loss: 0.9017 - accuracy: 0.6189 - val_loss: 1.0893 - val_accuracy: 0.4344\n",
            "Epoch 28/64\n",
            "17/17 [==============================] - ETA: 0s - loss: 0.8952 - accuracy: 0.6170\n",
            "Epoch 28: val_accuracy did not improve from 0.47541\n",
            "17/17 [==============================] - 27s 2s/step - loss: 0.8952 - accuracy: 0.6170 - val_loss: 1.0785 - val_accuracy: 0.3770\n",
            "Epoch 29/64\n",
            "17/17 [==============================] - ETA: 0s - loss: 0.8910 - accuracy: 0.6189\n",
            "Epoch 29: val_accuracy did not improve from 0.47541\n",
            "17/17 [==============================] - 27s 2s/step - loss: 0.8910 - accuracy: 0.6189 - val_loss: 1.0719 - val_accuracy: 0.4098\n",
            "Epoch 30/64\n",
            "17/17 [==============================] - ETA: 0s - loss: 0.8871 - accuracy: 0.6075\n",
            "Epoch 30: val_accuracy did not improve from 0.47541\n",
            "17/17 [==============================] - 27s 2s/step - loss: 0.8871 - accuracy: 0.6075 - val_loss: 1.0814 - val_accuracy: 0.4016\n",
            "Epoch 31/64\n",
            "17/17 [==============================] - ETA: 0s - loss: 0.8920 - accuracy: 0.6358\n",
            "Epoch 31: val_accuracy did not improve from 0.47541\n",
            "17/17 [==============================] - 28s 2s/step - loss: 0.8920 - accuracy: 0.6358 - val_loss: 1.1042 - val_accuracy: 0.4344\n",
            "Epoch 32/64\n",
            "17/17 [==============================] - ETA: 0s - loss: 0.8582 - accuracy: 0.6377\n",
            "Epoch 32: val_accuracy improved from 0.47541 to 0.48361, saving model to model1.hdf5\n",
            "17/17 [==============================] - 28s 2s/step - loss: 0.8582 - accuracy: 0.6377 - val_loss: 1.0749 - val_accuracy: 0.4836\n",
            "Epoch 33/64\n",
            "17/17 [==============================] - ETA: 0s - loss: 0.8509 - accuracy: 0.6566\n",
            "Epoch 33: val_accuracy did not improve from 0.48361\n",
            "17/17 [==============================] - 27s 2s/step - loss: 0.8509 - accuracy: 0.6566 - val_loss: 1.1362 - val_accuracy: 0.3525\n",
            "Epoch 34/64\n",
            "17/17 [==============================] - ETA: 0s - loss: 0.8565 - accuracy: 0.6245\n",
            "Epoch 34: val_accuracy did not improve from 0.48361\n",
            "17/17 [==============================] - 27s 2s/step - loss: 0.8565 - accuracy: 0.6245 - val_loss: 1.1925 - val_accuracy: 0.3443\n",
            "Epoch 35/64\n",
            "17/17 [==============================] - ETA: 0s - loss: 0.8405 - accuracy: 0.6189\n",
            "Epoch 35: val_accuracy did not improve from 0.48361\n",
            "17/17 [==============================] - 27s 2s/step - loss: 0.8405 - accuracy: 0.6189 - val_loss: 1.0918 - val_accuracy: 0.4672\n",
            "Epoch 36/64\n",
            "17/17 [==============================] - ETA: 0s - loss: 0.8059 - accuracy: 0.6736\n",
            "Epoch 36: val_accuracy did not improve from 0.48361\n",
            "17/17 [==============================] - 27s 2s/step - loss: 0.8059 - accuracy: 0.6736 - val_loss: 1.0825 - val_accuracy: 0.4426\n",
            "Epoch 36: early stopping\n"
          ]
        }
      ]
    },
    {
      "cell_type": "code",
      "source": [
        "plt.plot(history.history['accuracy'])\n",
        "plt.plot(history.history['val_accuracy'])\n",
        "plt.ylabel('Accuracy')\n",
        "plt.xlabel('epoch')\n",
        "plt.legend(['training data', 'validation data'], loc='lower right')\n",
        "plt.show()"
      ],
      "metadata": {
        "colab": {
          "base_uri": "https://localhost:8080/",
          "height": 279
        },
        "id": "9Y0segsnIYVM",
        "outputId": "daf7daa3-e33b-4cbb-9e74-e2b1de7c2bda"
      },
      "execution_count": null,
      "outputs": [
        {
          "output_type": "display_data",
          "data": {
            "image/png": "[encoded data removed]",
            "text/plain": [
              "<Figure size 432x288 with 1 Axes>"
            ]
          },
          "metadata": {
            "needs_background": "light"
          }
        }
      ]
    },
    {
      "cell_type": "code",
      "source": [
        "model2 = 0"
      ],
      "metadata": {
        "id": "h_5QuxCNM7KU"
      },
      "execution_count": null,
      "outputs": []
    },
    {
      "cell_type": "code",
      "source": [
        " \n",
        "model2 = Sequential()\n",
        "model2.add( Conv2D( 64, ( 4,4 ), activation = 'relu', input_shape = images[0, :, :, :].shape ) )\n",
        "model2.add( MaxPool2D(4, 4) )\n",
        "model2.add( Conv2D( 32, ( 4,4 ), activation = 'relu' ) )\n",
        "model2.add( MaxPool2D(4, 4) )\n",
        "model2.add( Conv2D( 16, ( 4,4  ), activation = 'relu' ) )\n",
        "\n",
        "\n",
        "model2.add( Flatten() )\n",
        "model2.add( Dense( 64, activation = 'relu' ) )\n",
        "model2.add( Dense( 3, activation = 'softmax' ) )"
      ],
      "metadata": {
        "id": "fSp9K--oNJeV"
      },
      "execution_count": null,
      "outputs": []
    },
    {
      "cell_type": "code",
      "source": [
        "model2.compile( optimizer = 'adadelta', loss = 'categorical_crossentropy', metrics = [ 'accuracy' ] )\n",
        "callback_a = ModelCheckpoint(filepath = 'model2.hdf5', monitor='val_accuracy', save_best_only = True, save_weights_only = True, verbose = 1)\n",
        "callback_b = EarlyStopping(monitor='val_accuracy', mode='min', patience=12, verbose=1)\n",
        "history = model2.fit(training_image_generator, validation_data = valid_image_generator, epochs = 64, batch_size = 32, callbacks = [callback_a,callback_b] )"
      ],
      "metadata": {
        "colab": {
          "base_uri": "https://localhost:8080/"
        },
        "id": "U8pPviZlNOK0",
        "outputId": "77eeb7ed-db02-4a6d-e082-7fbfd6744f87"
      },
      "execution_count": null,
      "outputs": [
        {
          "output_type": "stream",
          "name": "stdout",
          "text": [
            "Epoch 1/64\n",
            "17/17 [==============================] - ETA: 0s - loss: 1.0943 - accuracy: 0.3642\n",
            "Epoch 1: val_accuracy improved from -inf to 0.36066, saving model to model2.hdf5\n",
            "17/17 [==============================] - 11s 622ms/step - loss: 1.0943 - accuracy: 0.3642 - val_loss: 1.0918 - val_accuracy: 0.3607\n",
            "Epoch 2/64\n",
            "17/17 [==============================] - ETA: 0s - loss: 1.0932 - accuracy: 0.3717\n",
            "Epoch 2: val_accuracy improved from 0.36066 to 0.38525, saving model to model2.hdf5\n",
            "17/17 [==============================] - 10s 589ms/step - loss: 1.0932 - accuracy: 0.3717 - val_loss: 1.0906 - val_accuracy: 0.3852\n",
            "Epoch 3/64\n",
            "17/17 [==============================] - ETA: 0s - loss: 1.0921 - accuracy: 0.3755\n",
            "Epoch 3: val_accuracy improved from 0.38525 to 0.39344, saving model to model2.hdf5\n",
            "17/17 [==============================] - 10s 602ms/step - loss: 1.0921 - accuracy: 0.3755 - val_loss: 1.0895 - val_accuracy: 0.3934\n",
            "Epoch 4/64\n",
            "17/17 [==============================] - ETA: 0s - loss: 1.0911 - accuracy: 0.3717\n",
            "Epoch 4: val_accuracy improved from 0.39344 to 0.41803, saving model to model2.hdf5\n",
            "17/17 [==============================] - 10s 599ms/step - loss: 1.0911 - accuracy: 0.3717 - val_loss: 1.0886 - val_accuracy: 0.4180\n",
            "Epoch 5/64\n",
            "17/17 [==============================] - ETA: 0s - loss: 1.0902 - accuracy: 0.3868\n",
            "Epoch 5: val_accuracy improved from 0.41803 to 0.43443, saving model to model2.hdf5\n",
            "17/17 [==============================] - 10s 590ms/step - loss: 1.0902 - accuracy: 0.3868 - val_loss: 1.0877 - val_accuracy: 0.4344\n",
            "Epoch 6/64\n",
            "17/17 [==============================] - ETA: 0s - loss: 1.0894 - accuracy: 0.3849\n",
            "Epoch 6: val_accuracy did not improve from 0.43443\n",
            "17/17 [==============================] - 10s 615ms/step - loss: 1.0894 - accuracy: 0.3849 - val_loss: 1.0867 - val_accuracy: 0.4016\n",
            "Epoch 7/64\n",
            "17/17 [==============================] - ETA: 0s - loss: 1.0886 - accuracy: 0.4019\n",
            "Epoch 7: val_accuracy did not improve from 0.43443\n",
            "17/17 [==============================] - 10s 584ms/step - loss: 1.0886 - accuracy: 0.4019 - val_loss: 1.0859 - val_accuracy: 0.4016\n",
            "Epoch 8/64\n",
            "17/17 [==============================] - ETA: 0s - loss: 1.0879 - accuracy: 0.3981\n",
            "Epoch 8: val_accuracy did not improve from 0.43443\n",
            "17/17 [==============================] - 10s 594ms/step - loss: 1.0879 - accuracy: 0.3981 - val_loss: 1.0851 - val_accuracy: 0.3934\n",
            "Epoch 9/64\n",
            "17/17 [==============================] - ETA: 0s - loss: 1.0870 - accuracy: 0.4057\n",
            "Epoch 9: val_accuracy did not improve from 0.43443\n",
            "17/17 [==============================] - 10s 581ms/step - loss: 1.0870 - accuracy: 0.4057 - val_loss: 1.0843 - val_accuracy: 0.3852\n",
            "Epoch 10/64\n",
            "17/17 [==============================] - ETA: 0s - loss: 1.0863 - accuracy: 0.4208\n",
            "Epoch 10: val_accuracy did not improve from 0.43443\n",
            "17/17 [==============================] - 10s 582ms/step - loss: 1.0863 - accuracy: 0.4208 - val_loss: 1.0836 - val_accuracy: 0.4016\n",
            "Epoch 11/64\n",
            "17/17 [==============================] - ETA: 0s - loss: 1.0857 - accuracy: 0.4283\n",
            "Epoch 11: val_accuracy did not improve from 0.43443\n",
            "17/17 [==============================] - 10s 581ms/step - loss: 1.0857 - accuracy: 0.4283 - val_loss: 1.0830 - val_accuracy: 0.4098\n",
            "Epoch 12/64\n",
            "17/17 [==============================] - ETA: 0s - loss: 1.0851 - accuracy: 0.4283\n",
            "Epoch 12: val_accuracy did not improve from 0.43443\n",
            "17/17 [==============================] - 10s 597ms/step - loss: 1.0851 - accuracy: 0.4283 - val_loss: 1.0824 - val_accuracy: 0.4098\n",
            "Epoch 13/64\n",
            "17/17 [==============================] - ETA: 0s - loss: 1.0844 - accuracy: 0.4226\n",
            "Epoch 13: val_accuracy did not improve from 0.43443\n",
            "17/17 [==============================] - 10s 580ms/step - loss: 1.0844 - accuracy: 0.4226 - val_loss: 1.0818 - val_accuracy: 0.4098\n",
            "Epoch 13: early stopping\n"
          ]
        }
      ]
    },
    {
      "cell_type": "code",
      "source": [
        "plt.plot(history.history['accuracy'])\n",
        "plt.plot(history.history['val_accuracy'])\n",
        "plt.ylabel('Accuracy')\n",
        "plt.xlabel('epoch')\n",
        "plt.legend(['training data', 'validation data'], loc='lower right')\n",
        "plt.show()"
      ],
      "metadata": {
        "colab": {
          "base_uri": "https://localhost:8080/",
          "height": 279
        },
        "id": "LBMJb-KBRC-f",
        "outputId": "08263eb4-7b35-4666-a900-53bb5353f0d2"
      },
      "execution_count": null,
      "outputs": [
        {
          "output_type": "display_data",
          "data": {
            "image/png": "[encoded data removed]",
            "text/plain": [
              "<Figure size 432x288 with 1 Axes>"
            ]
          },
          "metadata": {
            "needs_background": "light"
          }
        }
      ]
    },
    {
      "cell_type": "code",
      "source": [
        "model3 = 0"
      ],
      "metadata": {
        "id": "DOMkPtIgRKOy"
      },
      "execution_count": null,
      "outputs": []
    },
    {
      "cell_type": "code",
      "source": [
        " \n",
        "model3 = Sequential()\n",
        "model3.add( Conv2D( 64, ( 4,4 ), activation = 'relu', input_shape = images[0, :, :, :].shape ) )\n",
        "model3.add( MaxPool2D(4, 4) )\n",
        "model3.add( Conv2D( 32, ( 4,4 ), activation = 'relu' ) )\n",
        "\n",
        "model3.add( Flatten() )\n",
        "model3.add( Dense( 64, activation = 'relu' ) )\n",
        "model3.add( Dense( 3, activation = 'softmax' ) )"
      ],
      "metadata": {
        "id": "G4y_r8GAROEi"
      },
      "execution_count": null,
      "outputs": []
    },
    {
      "cell_type": "code",
      "source": [
        "model3.compile( optimizer = 'adadelta', loss = 'categorical_crossentropy', metrics = [ 'accuracy' ] )\n",
        "callback_a = ModelCheckpoint(filepath = 'model2.hdf5', monitor='val_accuracy', save_best_only = True, save_weights_only = True, verbose = 1)\n",
        "callback_b = EarlyStopping(monitor='val_accuracy', mode='min', patience=32, verbose=1)\n",
        "history = model3.fit(training_image_generator, validation_data = valid_image_generator, epochs = 64, batch_size = 32, callbacks = [callback_a,callback_b] )"
      ],
      "metadata": {
        "colab": {
          "base_uri": "https://localhost:8080/"
        },
        "id": "fSHLmgl2RTMA",
        "outputId": "7cc3b048-fd2e-4346-d858-0d2f1509a614"
      },
      "execution_count": null,
      "outputs": [
        {
          "output_type": "stream",
          "name": "stdout",
          "text": [
            "Epoch 1/64\n",
            "17/17 [==============================] - ETA: 0s - loss: 1.1174 - accuracy: 0.3000\n",
            "Epoch 1: val_accuracy improved from -inf to 0.36885, saving model to model2.hdf5\n",
            "17/17 [==============================] - 11s 647ms/step - loss: 1.1174 - accuracy: 0.3000 - val_loss: 1.0956 - val_accuracy: 0.3689\n",
            "Epoch 2/64\n",
            "17/17 [==============================] - ETA: 0s - loss: 1.0912 - accuracy: 0.3906\n",
            "Epoch 2: val_accuracy improved from 0.36885 to 0.40164, saving model to model2.hdf5\n",
            "17/17 [==============================] - 10s 609ms/step - loss: 1.0912 - accuracy: 0.3906 - val_loss: 1.0815 - val_accuracy: 0.4016\n",
            "Epoch 3/64\n",
            "17/17 [==============================] - ETA: 0s - loss: 1.0837 - accuracy: 0.4245\n",
            "Epoch 3: val_accuracy improved from 0.40164 to 0.40984, saving model to model2.hdf5\n",
            "17/17 [==============================] - 10s 598ms/step - loss: 1.0837 - accuracy: 0.4245 - val_loss: 1.0784 - val_accuracy: 0.4098\n",
            "Epoch 4/64\n",
            "17/17 [==============================] - ETA: 0s - loss: 1.0804 - accuracy: 0.4283\n",
            "Epoch 4: val_accuracy improved from 0.40984 to 0.41803, saving model to model2.hdf5\n",
            "17/17 [==============================] - 10s 609ms/step - loss: 1.0804 - accuracy: 0.4283 - val_loss: 1.0770 - val_accuracy: 0.4180\n",
            "Epoch 5/64\n",
            "17/17 [==============================] - ETA: 0s - loss: 1.0780 - accuracy: 0.4264\n",
            "Epoch 5: val_accuracy did not improve from 0.41803\n",
            "17/17 [==============================] - 10s 591ms/step - loss: 1.0780 - accuracy: 0.4264 - val_loss: 1.0756 - val_accuracy: 0.4016\n",
            "Epoch 6/64\n",
            "17/17 [==============================] - ETA: 0s - loss: 1.0750 - accuracy: 0.4245\n",
            "Epoch 6: val_accuracy did not improve from 0.41803\n",
            "17/17 [==============================] - 10s 600ms/step - loss: 1.0750 - accuracy: 0.4245 - val_loss: 1.0737 - val_accuracy: 0.4180\n",
            "Epoch 7/64\n",
            "17/17 [==============================] - ETA: 0s - loss: 1.0723 - accuracy: 0.4283\n",
            "Epoch 7: val_accuracy did not improve from 0.41803\n",
            "17/17 [==============================] - 10s 593ms/step - loss: 1.0723 - accuracy: 0.4283 - val_loss: 1.0718 - val_accuracy: 0.4180\n",
            "Epoch 8/64\n",
            "17/17 [==============================] - ETA: 0s - loss: 1.0703 - accuracy: 0.4283\n",
            "Epoch 8: val_accuracy improved from 0.41803 to 0.42623, saving model to model2.hdf5\n",
            "17/17 [==============================] - 10s 590ms/step - loss: 1.0703 - accuracy: 0.4283 - val_loss: 1.0715 - val_accuracy: 0.4262\n",
            "Epoch 9/64\n",
            "17/17 [==============================] - ETA: 0s - loss: 1.0681 - accuracy: 0.4302\n",
            "Epoch 9: val_accuracy did not improve from 0.42623\n",
            "17/17 [==============================] - 10s 593ms/step - loss: 1.0681 - accuracy: 0.4302 - val_loss: 1.0702 - val_accuracy: 0.4180\n",
            "Epoch 10/64\n",
            "17/17 [==============================] - ETA: 0s - loss: 1.0660 - accuracy: 0.4321\n",
            "Epoch 10: val_accuracy improved from 0.42623 to 0.43443, saving model to model2.hdf5\n",
            "17/17 [==============================] - 10s 595ms/step - loss: 1.0660 - accuracy: 0.4321 - val_loss: 1.0695 - val_accuracy: 0.4344\n",
            "Epoch 11/64\n",
            "17/17 [==============================] - ETA: 0s - loss: 1.0636 - accuracy: 0.4340\n",
            "Epoch 11: val_accuracy did not improve from 0.43443\n",
            "17/17 [==============================] - 10s 589ms/step - loss: 1.0636 - accuracy: 0.4340 - val_loss: 1.0687 - val_accuracy: 0.4344\n",
            "Epoch 12/64\n",
            "17/17 [==============================] - ETA: 0s - loss: 1.0617 - accuracy: 0.4358\n",
            "Epoch 12: val_accuracy did not improve from 0.43443\n",
            "17/17 [==============================] - 10s 588ms/step - loss: 1.0617 - accuracy: 0.4358 - val_loss: 1.0679 - val_accuracy: 0.4344\n",
            "Epoch 13/64\n",
            "17/17 [==============================] - ETA: 0s - loss: 1.0595 - accuracy: 0.4358\n",
            "Epoch 13: val_accuracy improved from 0.43443 to 0.45082, saving model to model2.hdf5\n",
            "17/17 [==============================] - 10s 607ms/step - loss: 1.0595 - accuracy: 0.4358 - val_loss: 1.0685 - val_accuracy: 0.4508\n",
            "Epoch 14/64\n",
            "17/17 [==============================] - ETA: 0s - loss: 1.0579 - accuracy: 0.4604\n",
            "Epoch 14: val_accuracy improved from 0.45082 to 0.46721, saving model to model2.hdf5\n",
            "17/17 [==============================] - 10s 574ms/step - loss: 1.0579 - accuracy: 0.4604 - val_loss: 1.0667 - val_accuracy: 0.4672\n",
            "Epoch 15/64\n",
            "17/17 [==============================] - ETA: 0s - loss: 1.0557 - accuracy: 0.4585\n",
            "Epoch 15: val_accuracy did not improve from 0.46721\n",
            "17/17 [==============================] - 10s 590ms/step - loss: 1.0557 - accuracy: 0.4585 - val_loss: 1.0653 - val_accuracy: 0.4344\n",
            "Epoch 16/64\n",
            "17/17 [==============================] - ETA: 0s - loss: 1.0545 - accuracy: 0.4340\n",
            "Epoch 16: val_accuracy improved from 0.46721 to 0.47541, saving model to model2.hdf5\n",
            "17/17 [==============================] - 10s 586ms/step - loss: 1.0545 - accuracy: 0.4340 - val_loss: 1.0655 - val_accuracy: 0.4754\n",
            "Epoch 17/64\n",
            "17/17 [==============================] - ETA: 0s - loss: 1.0534 - accuracy: 0.4566\n",
            "Epoch 17: val_accuracy did not improve from 0.47541\n",
            "17/17 [==============================] - 10s 579ms/step - loss: 1.0534 - accuracy: 0.4566 - val_loss: 1.0641 - val_accuracy: 0.4672\n",
            "Epoch 18/64\n",
            "17/17 [==============================] - ETA: 0s - loss: 1.0504 - accuracy: 0.4585\n",
            "Epoch 18: val_accuracy did not improve from 0.47541\n",
            "17/17 [==============================] - 10s 586ms/step - loss: 1.0504 - accuracy: 0.4585 - val_loss: 1.0641 - val_accuracy: 0.4672\n",
            "Epoch 19/64\n",
            "17/17 [==============================] - ETA: 0s - loss: 1.0475 - accuracy: 0.4774\n",
            "Epoch 19: val_accuracy did not improve from 0.47541\n",
            "17/17 [==============================] - 10s 587ms/step - loss: 1.0475 - accuracy: 0.4774 - val_loss: 1.0621 - val_accuracy: 0.4508\n",
            "Epoch 20/64\n",
            "17/17 [==============================] - ETA: 0s - loss: 1.0471 - accuracy: 0.4547\n",
            "Epoch 20: val_accuracy did not improve from 0.47541\n",
            "17/17 [==============================] - 10s 593ms/step - loss: 1.0471 - accuracy: 0.4547 - val_loss: 1.0631 - val_accuracy: 0.4754\n",
            "Epoch 21/64\n",
            "17/17 [==============================] - ETA: 0s - loss: 1.0439 - accuracy: 0.4925\n",
            "Epoch 21: val_accuracy improved from 0.47541 to 0.48361, saving model to model2.hdf5\n",
            "17/17 [==============================] - 10s 591ms/step - loss: 1.0439 - accuracy: 0.4925 - val_loss: 1.0613 - val_accuracy: 0.4836\n",
            "Epoch 22/64\n",
            "17/17 [==============================] - ETA: 0s - loss: 1.0416 - accuracy: 0.4660\n",
            "Epoch 22: val_accuracy did not improve from 0.48361\n",
            "17/17 [==============================] - 10s 599ms/step - loss: 1.0416 - accuracy: 0.4660 - val_loss: 1.0618 - val_accuracy: 0.4672\n",
            "Epoch 23/64\n",
            "17/17 [==============================] - ETA: 0s - loss: 1.0406 - accuracy: 0.4792\n",
            "Epoch 23: val_accuracy improved from 0.48361 to 0.49180, saving model to model2.hdf5\n",
            "17/17 [==============================] - 10s 604ms/step - loss: 1.0406 - accuracy: 0.4792 - val_loss: 1.0603 - val_accuracy: 0.4918\n",
            "Epoch 24/64\n",
            "17/17 [==============================] - ETA: 0s - loss: 1.0379 - accuracy: 0.4755\n",
            "Epoch 24: val_accuracy did not improve from 0.49180\n",
            "17/17 [==============================] - 10s 612ms/step - loss: 1.0379 - accuracy: 0.4755 - val_loss: 1.0607 - val_accuracy: 0.4754\n",
            "Epoch 25/64\n",
            "17/17 [==============================] - ETA: 0s - loss: 1.0370 - accuracy: 0.4868\n",
            "Epoch 25: val_accuracy did not improve from 0.49180\n",
            "17/17 [==============================] - 10s 605ms/step - loss: 1.0370 - accuracy: 0.4868 - val_loss: 1.0592 - val_accuracy: 0.4672\n",
            "Epoch 26/64\n",
            "17/17 [==============================] - ETA: 0s - loss: 1.0352 - accuracy: 0.4906\n",
            "Epoch 26: val_accuracy did not improve from 0.49180\n",
            "17/17 [==============================] - 10s 595ms/step - loss: 1.0352 - accuracy: 0.4906 - val_loss: 1.0588 - val_accuracy: 0.4672\n",
            "Epoch 27/64\n",
            "17/17 [==============================] - ETA: 0s - loss: 1.0320 - accuracy: 0.4887\n",
            "Epoch 27: val_accuracy did not improve from 0.49180\n",
            "17/17 [==============================] - 10s 582ms/step - loss: 1.0320 - accuracy: 0.4887 - val_loss: 1.0586 - val_accuracy: 0.4754\n",
            "Epoch 28/64\n",
            "17/17 [==============================] - ETA: 0s - loss: 1.0317 - accuracy: 0.4925\n",
            "Epoch 28: val_accuracy did not improve from 0.49180\n",
            "17/17 [==============================] - 10s 581ms/step - loss: 1.0317 - accuracy: 0.4925 - val_loss: 1.0569 - val_accuracy: 0.4836\n",
            "Epoch 29/64\n",
            "17/17 [==============================] - ETA: 0s - loss: 1.0291 - accuracy: 0.4906\n",
            "Epoch 29: val_accuracy did not improve from 0.49180\n",
            "17/17 [==============================] - 10s 602ms/step - loss: 1.0291 - accuracy: 0.4906 - val_loss: 1.0559 - val_accuracy: 0.4754\n",
            "Epoch 30/64\n",
            "17/17 [==============================] - ETA: 0s - loss: 1.0259 - accuracy: 0.4943\n",
            "Epoch 30: val_accuracy did not improve from 0.49180\n",
            "17/17 [==============================] - 10s 606ms/step - loss: 1.0259 - accuracy: 0.4943 - val_loss: 1.0552 - val_accuracy: 0.4918\n",
            "Epoch 31/64\n",
            "17/17 [==============================] - ETA: 0s - loss: 1.0247 - accuracy: 0.5113\n",
            "Epoch 31: val_accuracy did not improve from 0.49180\n",
            "17/17 [==============================] - 10s 587ms/step - loss: 1.0247 - accuracy: 0.5113 - val_loss: 1.0546 - val_accuracy: 0.4918\n",
            "Epoch 32/64\n",
            "17/17 [==============================] - ETA: 0s - loss: 1.0213 - accuracy: 0.4830\n",
            "Epoch 32: val_accuracy did not improve from 0.49180\n",
            "17/17 [==============================] - 10s 599ms/step - loss: 1.0213 - accuracy: 0.4830 - val_loss: 1.0551 - val_accuracy: 0.4590\n",
            "Epoch 33/64\n",
            "17/17 [==============================] - ETA: 0s - loss: 1.0207 - accuracy: 0.4981\n",
            "Epoch 33: val_accuracy did not improve from 0.49180\n",
            "17/17 [==============================] - 10s 573ms/step - loss: 1.0207 - accuracy: 0.4981 - val_loss: 1.0547 - val_accuracy: 0.4590\n",
            "Epoch 33: early stopping\n"
          ]
        }
      ]
    },
    {
      "cell_type": "code",
      "source": [
        "plt.plot(history.history['accuracy'])\n",
        "plt.plot(history.history['val_accuracy'])\n",
        "plt.ylabel('Accuracy')\n",
        "plt.xlabel('epoch')\n",
        "plt.legend(['training data', 'validation data'], loc='lower right')\n",
        "plt.show()"
      ],
      "metadata": {
        "colab": {
          "base_uri": "https://localhost:8080/",
          "height": 279
        },
        "id": "b3mjxp3MStAQ",
        "outputId": "a7aa513f-9788-4ffa-af65-c4de52398b58"
      },
      "execution_count": null,
      "outputs": [
        {
          "output_type": "display_data",
          "data": {
            "image/png": "[encoded data removed]",
            "text/plain": [
              "<Figure size 432x288 with 1 Axes>"
            ]
          },
          "metadata": {
            "needs_background": "light"
          }
        }
      ]
    },
    {
      "cell_type": "code",
      "source": [
        ""
      ],
      "metadata": {
        "id": "0x3bxCMOoqtQ"
      },
      "execution_count": null,
      "outputs": []
    },
    {
      "cell_type": "code",
      "source": [
        "model4 = 0"
      ],
      "metadata": {
        "id": "MgohOBRLVJJb"
      },
      "execution_count": null,
      "outputs": []
    },
    {
      "cell_type": "code",
      "source": [
        " \n",
        "model4 = Sequential()\n",
        "model4.add( Conv2D( 32, ( 4,4 ), activation = 'relu', input_shape = images[0, :, :, :].shape ) )\n",
        "model4.add( MaxPool2D(4, 4) )\n",
        "model4.add( Conv2D( 16, ( 4,4 ), activation = 'relu' ) )\n",
        "\n",
        "model4.add( Flatten() )\n",
        "model4.add( Dense( 64, activation = 'relu' ) )\n",
        "model4.add( Dense( 3, activation = 'softmax' ) )"
      ],
      "metadata": {
        "id": "jxl82ezqVMEB"
      },
      "execution_count": null,
      "outputs": []
    },
    {
      "cell_type": "code",
      "source": [
        "model4.compile( optimizer = 'adadelta', loss = 'categorical_crossentropy', metrics = [ 'accuracy' ] )\n",
        "callback_a = ModelCheckpoint(filepath = 'model2.hdf5', monitor='val_accuracy', save_best_only = True, save_weights_only = True, verbose = 1)\n",
        "callback_b = EarlyStopping(monitor='val_accuracy', mode='min', patience=32, verbose=1)\n",
        "history = model4.fit(training_image_generator, validation_data = valid_image_generator, epochs = 64, batch_size = 32, callbacks = [callback_a,callback_b] )"
      ],
      "metadata": {
        "colab": {
          "base_uri": "https://localhost:8080/"
        },
        "id": "KN9712emVT3q",
        "outputId": "18b0055b-9cde-442f-d80b-050b434dbf38"
      },
      "execution_count": null,
      "outputs": [
        {
          "output_type": "stream",
          "name": "stdout",
          "text": [
            "Epoch 1/64\n",
            "17/17 [==============================] - ETA: 0s - loss: 1.0777 - accuracy: 0.4245\n",
            "Epoch 1: val_accuracy improved from -inf to 0.40984, saving model to model2.hdf5\n",
            "17/17 [==============================] - 11s 599ms/step - loss: 1.0777 - accuracy: 0.4245 - val_loss: 1.0863 - val_accuracy: 0.4098\n",
            "Epoch 2/64\n",
            "17/17 [==============================] - ETA: 0s - loss: 1.0740 - accuracy: 0.4245\n",
            "Epoch 2: val_accuracy did not improve from 0.40984\n",
            "17/17 [==============================] - 10s 573ms/step - loss: 1.0740 - accuracy: 0.4245 - val_loss: 1.0852 - val_accuracy: 0.4098\n",
            "Epoch 3/64\n",
            "17/17 [==============================] - ETA: 0s - loss: 1.0715 - accuracy: 0.4358\n",
            "Epoch 3: val_accuracy did not improve from 0.40984\n",
            "17/17 [==============================] - 10s 567ms/step - loss: 1.0715 - accuracy: 0.4358 - val_loss: 1.0845 - val_accuracy: 0.4098\n",
            "Epoch 4/64\n",
            "17/17 [==============================] - ETA: 0s - loss: 1.0688 - accuracy: 0.4283\n",
            "Epoch 4: val_accuracy improved from 0.40984 to 0.41803, saving model to model2.hdf5\n",
            "17/17 [==============================] - 10s 576ms/step - loss: 1.0688 - accuracy: 0.4283 - val_loss: 1.0840 - val_accuracy: 0.4180\n",
            "Epoch 5/64\n",
            "17/17 [==============================] - ETA: 0s - loss: 1.0665 - accuracy: 0.4340\n",
            "Epoch 5: val_accuracy did not improve from 0.41803\n",
            "17/17 [==============================] - 10s 565ms/step - loss: 1.0665 - accuracy: 0.4340 - val_loss: 1.0831 - val_accuracy: 0.4180\n",
            "Epoch 6/64\n",
            "17/17 [==============================] - ETA: 0s - loss: 1.0643 - accuracy: 0.4321\n",
            "Epoch 6: val_accuracy did not improve from 0.41803\n",
            "17/17 [==============================] - 9s 554ms/step - loss: 1.0643 - accuracy: 0.4321 - val_loss: 1.0824 - val_accuracy: 0.4180\n",
            "Epoch 7/64\n",
            "17/17 [==============================] - ETA: 0s - loss: 1.0613 - accuracy: 0.4321\n",
            "Epoch 7: val_accuracy did not improve from 0.41803\n",
            "17/17 [==============================] - 9s 558ms/step - loss: 1.0613 - accuracy: 0.4321 - val_loss: 1.0819 - val_accuracy: 0.4180\n",
            "Epoch 8/64\n",
            "17/17 [==============================] - ETA: 0s - loss: 1.0593 - accuracy: 0.4415\n",
            "Epoch 8: val_accuracy did not improve from 0.41803\n",
            "17/17 [==============================] - 10s 545ms/step - loss: 1.0593 - accuracy: 0.4415 - val_loss: 1.0811 - val_accuracy: 0.4180\n",
            "Epoch 9/64\n",
            "17/17 [==============================] - ETA: 0s - loss: 1.0576 - accuracy: 0.4377\n",
            "Epoch 9: val_accuracy improved from 0.41803 to 0.42623, saving model to model2.hdf5\n",
            "17/17 [==============================] - 9s 560ms/step - loss: 1.0576 - accuracy: 0.4377 - val_loss: 1.0800 - val_accuracy: 0.4262\n",
            "Epoch 10/64\n",
            "17/17 [==============================] - ETA: 0s - loss: 1.0555 - accuracy: 0.4377\n",
            "Epoch 10: val_accuracy did not improve from 0.42623\n",
            "17/17 [==============================] - 10s 557ms/step - loss: 1.0555 - accuracy: 0.4377 - val_loss: 1.0798 - val_accuracy: 0.4180\n",
            "Epoch 11/64\n",
            "17/17 [==============================] - ETA: 0s - loss: 1.0535 - accuracy: 0.4396\n",
            "Epoch 11: val_accuracy did not improve from 0.42623\n",
            "17/17 [==============================] - 9s 558ms/step - loss: 1.0535 - accuracy: 0.4396 - val_loss: 1.0797 - val_accuracy: 0.4180\n",
            "Epoch 12/64\n",
            "17/17 [==============================] - ETA: 0s - loss: 1.0510 - accuracy: 0.4472\n",
            "Epoch 12: val_accuracy did not improve from 0.42623\n",
            "17/17 [==============================] - 9s 555ms/step - loss: 1.0510 - accuracy: 0.4472 - val_loss: 1.0783 - val_accuracy: 0.4180\n",
            "Epoch 13/64\n",
            "17/17 [==============================] - ETA: 0s - loss: 1.0488 - accuracy: 0.4453\n",
            "Epoch 13: val_accuracy did not improve from 0.42623\n",
            "17/17 [==============================] - 9s 563ms/step - loss: 1.0488 - accuracy: 0.4453 - val_loss: 1.0782 - val_accuracy: 0.4180\n",
            "Epoch 14/64\n",
            "17/17 [==============================] - ETA: 0s - loss: 1.0461 - accuracy: 0.4453\n",
            "Epoch 14: val_accuracy did not improve from 0.42623\n",
            "17/17 [==============================] - 9s 558ms/step - loss: 1.0461 - accuracy: 0.4453 - val_loss: 1.0774 - val_accuracy: 0.4180\n",
            "Epoch 15/64\n",
            "17/17 [==============================] - ETA: 0s - loss: 1.0439 - accuracy: 0.4585\n",
            "Epoch 15: val_accuracy did not improve from 0.42623\n",
            "17/17 [==============================] - 9s 556ms/step - loss: 1.0439 - accuracy: 0.4585 - val_loss: 1.0766 - val_accuracy: 0.4180\n",
            "Epoch 16/64\n",
            "17/17 [==============================] - ETA: 0s - loss: 1.0412 - accuracy: 0.4547\n",
            "Epoch 16: val_accuracy did not improve from 0.42623\n",
            "17/17 [==============================] - 9s 552ms/step - loss: 1.0412 - accuracy: 0.4547 - val_loss: 1.0767 - val_accuracy: 0.4180\n",
            "Epoch 17/64\n",
            "17/17 [==============================] - ETA: 0s - loss: 1.0397 - accuracy: 0.4660\n",
            "Epoch 17: val_accuracy improved from 0.42623 to 0.43443, saving model to model2.hdf5\n",
            "17/17 [==============================] - 9s 549ms/step - loss: 1.0397 - accuracy: 0.4660 - val_loss: 1.0757 - val_accuracy: 0.4344\n",
            "Epoch 18/64\n",
            "17/17 [==============================] - ETA: 0s - loss: 1.0372 - accuracy: 0.4943\n",
            "Epoch 18: val_accuracy did not improve from 0.43443\n",
            "17/17 [==============================] - 9s 550ms/step - loss: 1.0372 - accuracy: 0.4943 - val_loss: 1.0732 - val_accuracy: 0.4098\n",
            "Epoch 19/64\n",
            "17/17 [==============================] - ETA: 0s - loss: 1.0350 - accuracy: 0.4811\n",
            "Epoch 19: val_accuracy improved from 0.43443 to 0.44262, saving model to model2.hdf5\n",
            "17/17 [==============================] - 9s 561ms/step - loss: 1.0350 - accuracy: 0.4811 - val_loss: 1.0732 - val_accuracy: 0.4426\n",
            "Epoch 20/64\n",
            "17/17 [==============================] - ETA: 0s - loss: 1.0329 - accuracy: 0.4792\n",
            "Epoch 20: val_accuracy did not improve from 0.44262\n",
            "17/17 [==============================] - 9s 558ms/step - loss: 1.0329 - accuracy: 0.4792 - val_loss: 1.0722 - val_accuracy: 0.4180\n",
            "Epoch 21/64\n",
            "17/17 [==============================] - ETA: 0s - loss: 1.0312 - accuracy: 0.4849\n",
            "Epoch 21: val_accuracy did not improve from 0.44262\n",
            "17/17 [==============================] - 9s 553ms/step - loss: 1.0312 - accuracy: 0.4849 - val_loss: 1.0716 - val_accuracy: 0.4180\n",
            "Epoch 22/64\n",
            "17/17 [==============================] - ETA: 0s - loss: 1.0287 - accuracy: 0.4925\n",
            "Epoch 22: val_accuracy did not improve from 0.44262\n",
            "17/17 [==============================] - 9s 548ms/step - loss: 1.0287 - accuracy: 0.4925 - val_loss: 1.0708 - val_accuracy: 0.4262\n",
            "Epoch 23/64\n",
            "17/17 [==============================] - ETA: 0s - loss: 1.0258 - accuracy: 0.4906\n",
            "Epoch 23: val_accuracy did not improve from 0.44262\n",
            "17/17 [==============================] - 9s 542ms/step - loss: 1.0258 - accuracy: 0.4906 - val_loss: 1.0703 - val_accuracy: 0.4344\n",
            "Epoch 24/64\n",
            "17/17 [==============================] - ETA: 0s - loss: 1.0240 - accuracy: 0.5094\n",
            "Epoch 24: val_accuracy did not improve from 0.44262\n",
            "17/17 [==============================] - 9s 558ms/step - loss: 1.0240 - accuracy: 0.5094 - val_loss: 1.0695 - val_accuracy: 0.4262\n",
            "Epoch 25/64\n",
            "17/17 [==============================] - ETA: 0s - loss: 1.0213 - accuracy: 0.5151\n",
            "Epoch 25: val_accuracy did not improve from 0.44262\n",
            "17/17 [==============================] - 9s 551ms/step - loss: 1.0213 - accuracy: 0.5151 - val_loss: 1.0695 - val_accuracy: 0.4426\n",
            "Epoch 26/64\n",
            "17/17 [==============================] - ETA: 0s - loss: 1.0201 - accuracy: 0.4811\n",
            "Epoch 26: val_accuracy did not improve from 0.44262\n",
            "17/17 [==============================] - 9s 546ms/step - loss: 1.0201 - accuracy: 0.4811 - val_loss: 1.0690 - val_accuracy: 0.4344\n",
            "Epoch 27/64\n",
            "17/17 [==============================] - ETA: 0s - loss: 1.0179 - accuracy: 0.5151\n",
            "Epoch 27: val_accuracy did not improve from 0.44262\n",
            "17/17 [==============================] - 9s 562ms/step - loss: 1.0179 - accuracy: 0.5151 - val_loss: 1.0679 - val_accuracy: 0.4426\n",
            "Epoch 28/64\n",
            "17/17 [==============================] - ETA: 0s - loss: 1.0166 - accuracy: 0.5038\n",
            "Epoch 28: val_accuracy did not improve from 0.44262\n",
            "17/17 [==============================] - 9s 558ms/step - loss: 1.0166 - accuracy: 0.5038 - val_loss: 1.0672 - val_accuracy: 0.4426\n",
            "Epoch 29/64\n",
            "17/17 [==============================] - ETA: 0s - loss: 1.0137 - accuracy: 0.5226\n",
            "Epoch 29: val_accuracy improved from 0.44262 to 0.45082, saving model to model2.hdf5\n",
            "17/17 [==============================] - 9s 558ms/step - loss: 1.0137 - accuracy: 0.5226 - val_loss: 1.0660 - val_accuracy: 0.4508\n",
            "Epoch 30/64\n",
            "17/17 [==============================] - ETA: 0s - loss: 1.0119 - accuracy: 0.5170\n",
            "Epoch 30: val_accuracy improved from 0.45082 to 0.45902, saving model to model2.hdf5\n",
            "17/17 [==============================] - 9s 538ms/step - loss: 1.0119 - accuracy: 0.5170 - val_loss: 1.0665 - val_accuracy: 0.4590\n",
            "Epoch 31/64\n",
            "17/17 [==============================] - ETA: 0s - loss: 1.0098 - accuracy: 0.5302\n",
            "Epoch 31: val_accuracy did not improve from 0.45902\n",
            "17/17 [==============================] - 9s 548ms/step - loss: 1.0098 - accuracy: 0.5302 - val_loss: 1.0651 - val_accuracy: 0.4426\n",
            "Epoch 32/64\n",
            "17/17 [==============================] - ETA: 0s - loss: 1.0071 - accuracy: 0.5321\n",
            "Epoch 32: val_accuracy did not improve from 0.45902\n",
            "17/17 [==============================] - 9s 550ms/step - loss: 1.0071 - accuracy: 0.5321 - val_loss: 1.0650 - val_accuracy: 0.4590\n",
            "Epoch 33/64\n",
            "17/17 [==============================] - ETA: 0s - loss: 1.0047 - accuracy: 0.5226\n",
            "Epoch 33: val_accuracy did not improve from 0.45902\n",
            "17/17 [==============================] - 9s 550ms/step - loss: 1.0047 - accuracy: 0.5226 - val_loss: 1.0649 - val_accuracy: 0.4426\n",
            "Epoch 33: early stopping\n"
          ]
        }
      ]
    },
    {
      "cell_type": "code",
      "source": [
        "plt.plot(history.history['accuracy'])\n",
        "plt.plot(history.history['val_accuracy'])\n",
        "plt.ylabel('Accuracy')\n",
        "plt.xlabel('epoch')\n",
        "plt.legend(['training data', 'validation data'], loc='lower right')\n",
        "plt.show()"
      ],
      "metadata": {
        "colab": {
          "base_uri": "https://localhost:8080/",
          "height": 279
        },
        "id": "Kd1IrUyfXGa8",
        "outputId": "0d023b43-1e5e-420a-b1f8-9507875fce7f"
      },
      "execution_count": null,
      "outputs": [
        {
          "output_type": "display_data",
          "data": {
            "text/plain": [
              "<Figure size 432x288 with 1 Axes>"
            ],
            "image/png": "[encoded data removed]"
          },
          "metadata": {
            "needs_background": "light"
          }
        }
      ]
    },
    {
      "cell_type": "code",
      "source": [
        "model5 = 0"
      ],
      "metadata": {
        "id": "xBbnbLRKrOWr"
      },
      "execution_count": null,
      "outputs": []
    },
    {
      "cell_type": "code",
      "source": [
        " \n",
        "model5 = Sequential()\n",
        "model5.add( Conv2D( 32, ( 4,4 ), activation = 'relu', input_shape = images[0, :, :, :].shape ) )\n",
        "model5.add( Conv2D( 16, ( 4,4 ), activation = 'relu' ) )\n",
        "\n",
        "model5.add( Flatten() )\n",
        "model5.add( Dense( 32, activation = 'relu' ) )\n",
        "model5.add( Dense( 3, activation = 'sigmoid' ) )"
      ],
      "metadata": {
        "id": "KztwNF_0pjeh"
      },
      "execution_count": null,
      "outputs": []
    },
    {
      "cell_type": "code",
      "source": [
        "model5.compile( optimizer = 'adadelta', loss = 'categorical_crossentropy', metrics = [ 'accuracy' ] )\n",
        "callback_a = ModelCheckpoint(filepath = 'model5.hdf5', monitor='val_accuracy', save_best_only = True, save_weights_only = True, verbose = 1)\n",
        "callback_b = EarlyStopping(monitor='val_accuracy', mode='min', patience=32, verbose=1)\n",
        "history = model5.fit(training_image_generator, validation_data = valid_image_generator, epochs = 64, batch_size = 32, callbacks = [callback_a,callback_b] )"
      ],
      "metadata": {
        "colab": {
          "base_uri": "https://localhost:8080/"
        },
        "id": "xH71mhJ3rgdi",
        "outputId": "034b9b41-d68b-4d09-d871-e0d048801a58"
      },
      "execution_count": null,
      "outputs": [
        {
          "output_type": "stream",
          "name": "stdout",
          "text": [
            "Epoch 1/64\n",
            "17/17 [==============================] - ETA: 0s - loss: 1.1035 - accuracy: 0.3736\n",
            "Epoch 1: val_accuracy improved from -inf to 0.42623, saving model to model5.hdf5\n",
            "17/17 [==============================] - 14s 737ms/step - loss: 1.1035 - accuracy: 0.3736 - val_loss: 1.0821 - val_accuracy: 0.4262\n",
            "Epoch 2/64\n",
            "17/17 [==============================] - ETA: 0s - loss: 1.0741 - accuracy: 0.4547\n",
            "Epoch 2: val_accuracy improved from 0.42623 to 0.48361, saving model to model5.hdf5\n",
            "17/17 [==============================] - 11s 665ms/step - loss: 1.0741 - accuracy: 0.4547 - val_loss: 1.0758 - val_accuracy: 0.4836\n",
            "Epoch 3/64\n",
            "17/17 [==============================] - ETA: 0s - loss: 1.0550 - accuracy: 0.4453\n",
            "Epoch 3: val_accuracy did not improve from 0.48361\n",
            "17/17 [==============================] - 11s 633ms/step - loss: 1.0550 - accuracy: 0.4453 - val_loss: 1.0718 - val_accuracy: 0.4590\n",
            "Epoch 4/64\n",
            "17/17 [==============================] - ETA: 0s - loss: 1.0372 - accuracy: 0.4981\n",
            "Epoch 4: val_accuracy did not improve from 0.48361\n",
            "17/17 [==============================] - 10s 612ms/step - loss: 1.0372 - accuracy: 0.4981 - val_loss: 1.0680 - val_accuracy: 0.4344\n",
            "Epoch 5/64\n",
            "17/17 [==============================] - ETA: 0s - loss: 1.0247 - accuracy: 0.4925\n",
            "Epoch 5: val_accuracy did not improve from 0.48361\n",
            "17/17 [==============================] - 10s 613ms/step - loss: 1.0247 - accuracy: 0.4925 - val_loss: 1.0645 - val_accuracy: 0.4508\n",
            "Epoch 6/64\n",
            "17/17 [==============================] - ETA: 0s - loss: 1.0104 - accuracy: 0.5434\n",
            "Epoch 6: val_accuracy did not improve from 0.48361\n",
            "17/17 [==============================] - 10s 609ms/step - loss: 1.0104 - accuracy: 0.5434 - val_loss: 1.1482 - val_accuracy: 0.2951\n",
            "Epoch 7/64\n",
            "17/17 [==============================] - ETA: 0s - loss: 0.9926 - accuracy: 0.5302\n",
            "Epoch 7: val_accuracy did not improve from 0.48361\n",
            "17/17 [==============================] - 10s 615ms/step - loss: 0.9926 - accuracy: 0.5302 - val_loss: 1.0768 - val_accuracy: 0.4016\n",
            "Epoch 8/64\n",
            "17/17 [==============================] - ETA: 0s - loss: 0.9852 - accuracy: 0.5377\n",
            "Epoch 8: val_accuracy did not improve from 0.48361\n",
            "17/17 [==============================] - 11s 617ms/step - loss: 0.9852 - accuracy: 0.5377 - val_loss: 1.0628 - val_accuracy: 0.4754\n",
            "Epoch 9/64\n",
            "17/17 [==============================] - ETA: 0s - loss: 0.9728 - accuracy: 0.5472\n",
            "Epoch 9: val_accuracy did not improve from 0.48361\n",
            "17/17 [==============================] - 10s 613ms/step - loss: 0.9728 - accuracy: 0.5472 - val_loss: 1.0855 - val_accuracy: 0.3852\n",
            "Epoch 10/64\n",
            "17/17 [==============================] - ETA: 0s - loss: 0.9673 - accuracy: 0.5264\n",
            "Epoch 10: val_accuracy did not improve from 0.48361\n",
            "17/17 [==============================] - 10s 625ms/step - loss: 0.9673 - accuracy: 0.5264 - val_loss: 1.0899 - val_accuracy: 0.4836\n",
            "Epoch 11/64\n",
            "17/17 [==============================] - ETA: 0s - loss: 0.9549 - accuracy: 0.5585\n",
            "Epoch 11: val_accuracy did not improve from 0.48361\n",
            "17/17 [==============================] - 11s 617ms/step - loss: 0.9549 - accuracy: 0.5585 - val_loss: 1.1997 - val_accuracy: 0.3033\n",
            "Epoch 12/64\n",
            "17/17 [==============================] - ETA: 0s - loss: 0.9337 - accuracy: 0.5547\n",
            "Epoch 12: val_accuracy did not improve from 0.48361\n",
            "17/17 [==============================] - 11s 618ms/step - loss: 0.9337 - accuracy: 0.5547 - val_loss: 1.0521 - val_accuracy: 0.4508\n",
            "Epoch 13/64\n",
            "17/17 [==============================] - ETA: 0s - loss: 0.9041 - accuracy: 0.6170\n",
            "Epoch 13: val_accuracy did not improve from 0.48361\n",
            "17/17 [==============================] - 11s 638ms/step - loss: 0.9041 - accuracy: 0.6170 - val_loss: 1.0725 - val_accuracy: 0.4344\n",
            "Epoch 14/64\n",
            "17/17 [==============================] - ETA: 0s - loss: 0.9057 - accuracy: 0.6132\n",
            "Epoch 14: val_accuracy improved from 0.48361 to 0.50820, saving model to model5.hdf5\n",
            "17/17 [==============================] - 11s 638ms/step - loss: 0.9057 - accuracy: 0.6132 - val_loss: 1.0535 - val_accuracy: 0.5082\n",
            "Epoch 15/64\n",
            "17/17 [==============================] - ETA: 0s - loss: 0.8908 - accuracy: 0.6321\n",
            "Epoch 15: val_accuracy did not improve from 0.50820\n",
            "17/17 [==============================] - 10s 607ms/step - loss: 0.8908 - accuracy: 0.6321 - val_loss: 1.0859 - val_accuracy: 0.4098\n",
            "Epoch 16/64\n",
            "17/17 [==============================] - ETA: 0s - loss: 0.8779 - accuracy: 0.6415\n",
            "Epoch 16: val_accuracy did not improve from 0.50820\n",
            "17/17 [==============================] - 10s 599ms/step - loss: 0.8779 - accuracy: 0.6415 - val_loss: 1.0756 - val_accuracy: 0.5000\n",
            "Epoch 17/64\n",
            "17/17 [==============================] - ETA: 0s - loss: 0.8784 - accuracy: 0.6094\n",
            "Epoch 17: val_accuracy did not improve from 0.50820\n",
            "17/17 [==============================] - 10s 613ms/step - loss: 0.8784 - accuracy: 0.6094 - val_loss: 1.0485 - val_accuracy: 0.5082\n",
            "Epoch 18/64\n",
            "17/17 [==============================] - ETA: 0s - loss: 0.8742 - accuracy: 0.6226\n",
            "Epoch 18: val_accuracy did not improve from 0.50820\n",
            "17/17 [==============================] - 10s 590ms/step - loss: 0.8742 - accuracy: 0.6226 - val_loss: 1.0527 - val_accuracy: 0.5000\n",
            "Epoch 19/64\n",
            "17/17 [==============================] - ETA: 0s - loss: 0.8889 - accuracy: 0.6094\n",
            "Epoch 19: val_accuracy did not improve from 0.50820\n",
            "17/17 [==============================] - 10s 613ms/step - loss: 0.8889 - accuracy: 0.6094 - val_loss: 1.0598 - val_accuracy: 0.4508\n",
            "Epoch 20/64\n",
            "17/17 [==============================] - ETA: 0s - loss: 0.8380 - accuracy: 0.6755\n",
            "Epoch 20: val_accuracy improved from 0.50820 to 0.51639, saving model to model5.hdf5\n",
            "17/17 [==============================] - 11s 631ms/step - loss: 0.8380 - accuracy: 0.6755 - val_loss: 1.0442 - val_accuracy: 0.5164\n",
            "Epoch 21/64\n",
            "17/17 [==============================] - ETA: 0s - loss: 0.8194 - accuracy: 0.6736\n",
            "Epoch 21: val_accuracy improved from 0.51639 to 0.54098, saving model to model5.hdf5\n",
            "17/17 [==============================] - 11s 623ms/step - loss: 0.8194 - accuracy: 0.6736 - val_loss: 1.0469 - val_accuracy: 0.5410\n",
            "Epoch 22/64\n",
            "17/17 [==============================] - ETA: 0s - loss: 0.8123 - accuracy: 0.7019\n",
            "Epoch 22: val_accuracy did not improve from 0.54098\n",
            "17/17 [==============================] - 10s 585ms/step - loss: 0.8123 - accuracy: 0.7019 - val_loss: 1.0654 - val_accuracy: 0.4508\n",
            "Epoch 23/64\n",
            "17/17 [==============================] - ETA: 0s - loss: 0.7957 - accuracy: 0.6962\n",
            "Epoch 23: val_accuracy did not improve from 0.54098\n",
            "17/17 [==============================] - 10s 621ms/step - loss: 0.7957 - accuracy: 0.6962 - val_loss: 1.0476 - val_accuracy: 0.5000\n",
            "Epoch 24/64\n",
            "17/17 [==============================] - ETA: 0s - loss: 0.7907 - accuracy: 0.7170\n",
            "Epoch 24: val_accuracy did not improve from 0.54098\n",
            "17/17 [==============================] - 10s 601ms/step - loss: 0.7907 - accuracy: 0.7170 - val_loss: 1.0442 - val_accuracy: 0.4918\n",
            "Epoch 25/64\n",
            "17/17 [==============================] - ETA: 0s - loss: 0.8024 - accuracy: 0.6849\n",
            "Epoch 25: val_accuracy did not improve from 0.54098\n",
            "17/17 [==============================] - 10s 610ms/step - loss: 0.8024 - accuracy: 0.6849 - val_loss: 1.0434 - val_accuracy: 0.5246\n",
            "Epoch 26/64\n",
            "17/17 [==============================] - ETA: 0s - loss: 0.7619 - accuracy: 0.7151\n",
            "Epoch 26: val_accuracy did not improve from 0.54098\n",
            "17/17 [==============================] - 10s 613ms/step - loss: 0.7619 - accuracy: 0.7151 - val_loss: 1.0945 - val_accuracy: 0.4754\n",
            "Epoch 27/64\n",
            "17/17 [==============================] - ETA: 0s - loss: 0.7755 - accuracy: 0.7208\n",
            "Epoch 27: val_accuracy did not improve from 0.54098\n",
            "17/17 [==============================] - 10s 598ms/step - loss: 0.7755 - accuracy: 0.7208 - val_loss: 1.0656 - val_accuracy: 0.5410\n",
            "Epoch 28/64\n",
            "17/17 [==============================] - ETA: 0s - loss: 0.7639 - accuracy: 0.7226\n",
            "Epoch 28: val_accuracy did not improve from 0.54098\n",
            "17/17 [==============================] - 10s 597ms/step - loss: 0.7639 - accuracy: 0.7226 - val_loss: 1.0535 - val_accuracy: 0.5246\n",
            "Epoch 29/64\n",
            "17/17 [==============================] - ETA: 0s - loss: 0.7287 - accuracy: 0.7509\n",
            "Epoch 29: val_accuracy did not improve from 0.54098\n",
            "17/17 [==============================] - 10s 605ms/step - loss: 0.7287 - accuracy: 0.7509 - val_loss: 1.0682 - val_accuracy: 0.4754\n",
            "Epoch 30/64\n",
            "17/17 [==============================] - ETA: 0s - loss: 0.7450 - accuracy: 0.7151\n",
            "Epoch 30: val_accuracy did not improve from 0.54098\n",
            "17/17 [==============================] - 10s 599ms/step - loss: 0.7450 - accuracy: 0.7151 - val_loss: 1.0651 - val_accuracy: 0.4754\n",
            "Epoch 31/64\n",
            "17/17 [==============================] - ETA: 0s - loss: 0.7629 - accuracy: 0.7075\n",
            "Epoch 31: val_accuracy did not improve from 0.54098\n",
            "17/17 [==============================] - 10s 581ms/step - loss: 0.7629 - accuracy: 0.7075 - val_loss: 1.0813 - val_accuracy: 0.4918\n",
            "Epoch 32/64\n",
            "17/17 [==============================] - ETA: 0s - loss: 0.7362 - accuracy: 0.7472\n",
            "Epoch 32: val_accuracy improved from 0.54098 to 0.54918, saving model to model5.hdf5\n",
            "17/17 [==============================] - 11s 620ms/step - loss: 0.7362 - accuracy: 0.7472 - val_loss: 1.0417 - val_accuracy: 0.5492\n",
            "Epoch 33/64\n",
            "17/17 [==============================] - ETA: 0s - loss: 0.7164 - accuracy: 0.7604\n",
            "Epoch 33: val_accuracy did not improve from 0.54918\n",
            "17/17 [==============================] - 10s 614ms/step - loss: 0.7164 - accuracy: 0.7604 - val_loss: 1.0571 - val_accuracy: 0.4918\n",
            "Epoch 34/64\n",
            "17/17 [==============================] - ETA: 0s - loss: 0.7046 - accuracy: 0.7755\n",
            "Epoch 34: val_accuracy did not improve from 0.54918\n",
            "17/17 [==============================] - 10s 609ms/step - loss: 0.7046 - accuracy: 0.7755 - val_loss: 1.0719 - val_accuracy: 0.5246\n",
            "Epoch 35/64\n",
            "17/17 [==============================] - ETA: 0s - loss: 0.7056 - accuracy: 0.7679\n",
            "Epoch 35: val_accuracy did not improve from 0.54918\n",
            "17/17 [==============================] - 10s 597ms/step - loss: 0.7056 - accuracy: 0.7679 - val_loss: 1.0442 - val_accuracy: 0.5246\n",
            "Epoch 36/64\n",
            "17/17 [==============================] - ETA: 0s - loss: 0.6947 - accuracy: 0.7660\n",
            "Epoch 36: val_accuracy did not improve from 0.54918\n",
            "17/17 [==============================] - 10s 590ms/step - loss: 0.6947 - accuracy: 0.7660 - val_loss: 1.1035 - val_accuracy: 0.4836\n",
            "Epoch 37/64\n",
            "17/17 [==============================] - ETA: 0s - loss: 0.7056 - accuracy: 0.7509\n",
            "Epoch 37: val_accuracy did not improve from 0.54918\n",
            "17/17 [==============================] - 10s 609ms/step - loss: 0.7056 - accuracy: 0.7509 - val_loss: 1.0504 - val_accuracy: 0.5246\n",
            "Epoch 38/64\n",
            "17/17 [==============================] - ETA: 0s - loss: 0.6849 - accuracy: 0.7736\n",
            "Epoch 38: val_accuracy did not improve from 0.54918\n",
            "17/17 [==============================] - 10s 599ms/step - loss: 0.6849 - accuracy: 0.7736 - val_loss: 1.0514 - val_accuracy: 0.5328\n",
            "Epoch 38: early stopping\n"
          ]
        }
      ]
    },
    {
      "cell_type": "code",
      "source": [
        "plt.plot(history.history['accuracy'])\n",
        "plt.plot(history.history['val_accuracy'])\n",
        "plt.ylabel('Accuracy')\n",
        "plt.xlabel('epoch')\n",
        "plt.legend(['training data', 'validation data'], loc='lower right')\n",
        "plt.show()"
      ],
      "metadata": {
        "colab": {
          "base_uri": "https://localhost:8080/",
          "height": 279
        },
        "id": "_7VJZ9t7t3v8",
        "outputId": "edd235da-8c11-4677-f663-d2159fe94dee"
      },
      "execution_count": null,
      "outputs": [
        {
          "output_type": "display_data",
          "data": {
            "text/plain": [
              "<Figure size 432x288 with 1 Axes>"
            ],
            "image/png": "[encoded data removed]"
          },
          "metadata": {
            "needs_background": "light"
          }
        }
      ]
    },
    {
      "cell_type": "code",
      "source": [
        "model6 = 0"
      ],
      "metadata": {
        "id": "FqVt_3CPugx2"
      },
      "execution_count": null,
      "outputs": []
    },
    {
      "cell_type": "code",
      "source": [
        " \n",
        "model6 = Sequential()\n",
        "model6.add( Conv2D( 32, ( 2,2 ), activation = 'relu', input_shape = images[0, :, :, :].shape ) )\n",
        "model6.add( Conv2D( 16, ( 2,2 ), activation = 'relu' ) )\n",
        "model6.add( Conv2D( 16, ( 2,2 ), activation = 'relu' ) )\n",
        "model6.add( Conv2D( 16, ( 2,2 ), activation = 'relu' ) )\n",
        "model6.add( Flatten() )\n",
        "model6.add( Dense( 16, activation = 'relu' ) )\n",
        "model6.add( Dense( 3, activation = 'sigmoid' ) )"
      ],
      "metadata": {
        "id": "OfUbE-bnuJUk"
      },
      "execution_count": null,
      "outputs": []
    },
    {
      "cell_type": "code",
      "source": [
        "model6.compile( optimizer = 'adadelta', loss = 'categorical_crossentropy', metrics = [ 'accuracy' ] )\n",
        "callback_a = ModelCheckpoint(filepath = 'model5.hdf5', monitor='val_accuracy', save_best_only = True, save_weights_only = True, verbose = 1)\n",
        "callback_b = EarlyStopping(monitor='val_accuracy', mode='min', patience=32, verbose=1)\n",
        "history = model6.fit(training_image_generator, validation_data = valid_image_generator, epochs = 64, batch_size = 32, callbacks = [callback_a,callback_b] )"
      ],
      "metadata": {
        "colab": {
          "base_uri": "https://localhost:8080/"
        },
        "id": "kpGM8Svluf1k",
        "outputId": "b5870f77-af4c-47d1-f03c-7d8eee99f957"
      },
      "execution_count": null,
      "outputs": [
        {
          "output_type": "stream",
          "name": "stdout",
          "text": [
            "Epoch 1/64\n",
            "17/17 [==============================] - ETA: 0s - loss: 1.0969 - accuracy: 0.3679\n",
            "Epoch 1: val_accuracy improved from -inf to 0.40984, saving model to model5.hdf5\n",
            "17/17 [==============================] - 101s 6s/step - loss: 1.0969 - accuracy: 0.3679 - val_loss: 1.0862 - val_accuracy: 0.4098\n",
            "Epoch 2/64\n",
            "17/17 [==============================] - ETA: 0s - loss: 1.0913 - accuracy: 0.4226\n",
            "Epoch 2: val_accuracy did not improve from 0.40984\n",
            "17/17 [==============================] - 11s 643ms/step - loss: 1.0913 - accuracy: 0.4226 - val_loss: 1.0852 - val_accuracy: 0.4098\n",
            "Epoch 3/64\n",
            "17/17 [==============================] - ETA: 0s - loss: 1.0862 - accuracy: 0.4226\n",
            "Epoch 3: val_accuracy did not improve from 0.40984\n",
            "17/17 [==============================] - 11s 650ms/step - loss: 1.0862 - accuracy: 0.4226 - val_loss: 1.0859 - val_accuracy: 0.4098\n",
            "Epoch 4/64\n",
            "17/17 [==============================] - ETA: 0s - loss: 1.0872 - accuracy: 0.4264\n",
            "Epoch 4: val_accuracy did not improve from 0.40984\n",
            "17/17 [==============================] - 11s 661ms/step - loss: 1.0872 - accuracy: 0.4264 - val_loss: 1.0851 - val_accuracy: 0.4098\n",
            "Epoch 5/64\n",
            "17/17 [==============================] - ETA: 0s - loss: 1.0799 - accuracy: 0.4264\n",
            "Epoch 5: val_accuracy did not improve from 0.40984\n",
            "17/17 [==============================] - 11s 638ms/step - loss: 1.0799 - accuracy: 0.4264 - val_loss: 1.0819 - val_accuracy: 0.4098\n",
            "Epoch 6/64\n",
            "17/17 [==============================] - ETA: 0s - loss: 1.0822 - accuracy: 0.4245\n",
            "Epoch 6: val_accuracy did not improve from 0.40984\n",
            "17/17 [==============================] - 11s 640ms/step - loss: 1.0822 - accuracy: 0.4245 - val_loss: 1.0813 - val_accuracy: 0.4098\n",
            "Epoch 7/64\n",
            "17/17 [==============================] - ETA: 0s - loss: 1.0775 - accuracy: 0.4283\n",
            "Epoch 7: val_accuracy did not improve from 0.40984\n",
            "17/17 [==============================] - 11s 643ms/step - loss: 1.0775 - accuracy: 0.4283 - val_loss: 1.0811 - val_accuracy: 0.4098\n",
            "Epoch 8/64\n",
            "17/17 [==============================] - ETA: 0s - loss: 1.0708 - accuracy: 0.4472\n",
            "Epoch 8: val_accuracy did not improve from 0.40984\n",
            "17/17 [==============================] - 11s 623ms/step - loss: 1.0708 - accuracy: 0.4472 - val_loss: 1.0796 - val_accuracy: 0.4098\n",
            "Epoch 9/64\n",
            "17/17 [==============================] - ETA: 0s - loss: 1.0729 - accuracy: 0.4377\n",
            "Epoch 9: val_accuracy improved from 0.40984 to 0.41803, saving model to model5.hdf5\n",
            "17/17 [==============================] - 11s 648ms/step - loss: 1.0729 - accuracy: 0.4377 - val_loss: 1.0818 - val_accuracy: 0.4180\n",
            "Epoch 10/64\n",
            "17/17 [==============================] - ETA: 0s - loss: 1.0658 - accuracy: 0.4415\n",
            "Epoch 10: val_accuracy improved from 0.41803 to 0.44262, saving model to model5.hdf5\n",
            "17/17 [==============================] - 11s 645ms/step - loss: 1.0658 - accuracy: 0.4415 - val_loss: 1.0801 - val_accuracy: 0.4426\n",
            "Epoch 11/64\n",
            "17/17 [==============================] - ETA: 0s - loss: 1.0637 - accuracy: 0.4528\n",
            "Epoch 11: val_accuracy did not improve from 0.44262\n",
            "17/17 [==============================] - 11s 635ms/step - loss: 1.0637 - accuracy: 0.4528 - val_loss: 1.0844 - val_accuracy: 0.4344\n",
            "Epoch 12/64\n",
            "17/17 [==============================] - ETA: 0s - loss: 1.0525 - accuracy: 0.4679\n",
            "Epoch 12: val_accuracy improved from 0.44262 to 0.45082, saving model to model5.hdf5\n",
            "17/17 [==============================] - 11s 643ms/step - loss: 1.0525 - accuracy: 0.4679 - val_loss: 1.0879 - val_accuracy: 0.4508\n",
            "Epoch 13/64\n",
            "17/17 [==============================] - ETA: 0s - loss: 1.0542 - accuracy: 0.4717\n",
            "Epoch 13: val_accuracy improved from 0.45082 to 0.46721, saving model to model5.hdf5\n",
            "17/17 [==============================] - 11s 641ms/step - loss: 1.0542 - accuracy: 0.4717 - val_loss: 1.0810 - val_accuracy: 0.4672\n",
            "Epoch 14/64\n",
            "17/17 [==============================] - ETA: 0s - loss: 1.0497 - accuracy: 0.4623\n",
            "Epoch 14: val_accuracy did not improve from 0.46721\n",
            "17/17 [==============================] - 11s 639ms/step - loss: 1.0497 - accuracy: 0.4623 - val_loss: 1.0808 - val_accuracy: 0.4672\n",
            "Epoch 15/64\n",
            "17/17 [==============================] - ETA: 0s - loss: 1.0467 - accuracy: 0.4717\n",
            "Epoch 15: val_accuracy did not improve from 0.46721\n",
            "17/17 [==============================] - 11s 633ms/step - loss: 1.0467 - accuracy: 0.4717 - val_loss: 1.0792 - val_accuracy: 0.4508\n",
            "Epoch 16/64\n",
            "17/17 [==============================] - ETA: 0s - loss: 1.0400 - accuracy: 0.4849\n",
            "Epoch 16: val_accuracy did not improve from 0.46721\n",
            "17/17 [==============================] - 11s 634ms/step - loss: 1.0400 - accuracy: 0.4849 - val_loss: 1.0877 - val_accuracy: 0.4262\n",
            "Epoch 17/64\n",
            "17/17 [==============================] - ETA: 0s - loss: 1.0359 - accuracy: 0.4887\n",
            "Epoch 17: val_accuracy did not improve from 0.46721\n",
            "17/17 [==============================] - 11s 627ms/step - loss: 1.0359 - accuracy: 0.4887 - val_loss: 1.0899 - val_accuracy: 0.4262\n",
            "Epoch 18/64\n",
            "17/17 [==============================] - ETA: 0s - loss: 1.0332 - accuracy: 0.4943\n",
            "Epoch 18: val_accuracy did not improve from 0.46721\n",
            "17/17 [==============================] - 11s 663ms/step - loss: 1.0332 - accuracy: 0.4943 - val_loss: 1.0800 - val_accuracy: 0.4590\n",
            "Epoch 19/64\n",
            "17/17 [==============================] - ETA: 0s - loss: 1.0281 - accuracy: 0.5019\n",
            "Epoch 19: val_accuracy did not improve from 0.46721\n",
            "17/17 [==============================] - 11s 652ms/step - loss: 1.0281 - accuracy: 0.5019 - val_loss: 1.0800 - val_accuracy: 0.4180\n",
            "Epoch 20/64\n",
            "17/17 [==============================] - ETA: 0s - loss: 1.0250 - accuracy: 0.5057\n",
            "Epoch 20: val_accuracy did not improve from 0.46721\n",
            "17/17 [==============================] - 11s 632ms/step - loss: 1.0250 - accuracy: 0.5057 - val_loss: 1.0790 - val_accuracy: 0.4426\n",
            "Epoch 21/64\n",
            "17/17 [==============================] - ETA: 0s - loss: 1.0167 - accuracy: 0.5057\n",
            "Epoch 21: val_accuracy did not improve from 0.46721\n",
            "17/17 [==============================] - 11s 664ms/step - loss: 1.0167 - accuracy: 0.5057 - val_loss: 1.0835 - val_accuracy: 0.4262\n",
            "Epoch 22/64\n",
            "17/17 [==============================] - ETA: 0s - loss: 1.0096 - accuracy: 0.5132\n",
            "Epoch 22: val_accuracy did not improve from 0.46721\n",
            "17/17 [==============================] - 11s 655ms/step - loss: 1.0096 - accuracy: 0.5132 - val_loss: 1.0795 - val_accuracy: 0.4426\n",
            "Epoch 23/64\n",
            "17/17 [==============================] - ETA: 0s - loss: 1.0081 - accuracy: 0.5170\n",
            "Epoch 23: val_accuracy did not improve from 0.46721\n",
            "17/17 [==============================] - 11s 627ms/step - loss: 1.0081 - accuracy: 0.5170 - val_loss: 1.0821 - val_accuracy: 0.4344\n",
            "Epoch 24/64\n",
            "17/17 [==============================] - ETA: 0s - loss: 1.0070 - accuracy: 0.5151\n",
            "Epoch 24: val_accuracy did not improve from 0.46721\n",
            "17/17 [==============================] - 11s 625ms/step - loss: 1.0070 - accuracy: 0.5151 - val_loss: 1.1212 - val_accuracy: 0.2951\n",
            "Epoch 25/64\n",
            "17/17 [==============================] - ETA: 0s - loss: 0.9982 - accuracy: 0.5415\n",
            "Epoch 25: val_accuracy did not improve from 0.46721\n",
            "17/17 [==============================] - 11s 629ms/step - loss: 0.9982 - accuracy: 0.5415 - val_loss: 1.0869 - val_accuracy: 0.3607\n",
            "Epoch 26/64\n",
            "17/17 [==============================] - ETA: 0s - loss: 0.9952 - accuracy: 0.5264\n",
            "Epoch 26: val_accuracy did not improve from 0.46721\n",
            "17/17 [==============================] - 11s 646ms/step - loss: 0.9952 - accuracy: 0.5264 - val_loss: 1.0825 - val_accuracy: 0.3770\n",
            "Epoch 27/64\n",
            "17/17 [==============================] - ETA: 0s - loss: 0.9868 - accuracy: 0.5264\n",
            "Epoch 27: val_accuracy did not improve from 0.46721\n",
            "17/17 [==============================] - 11s 634ms/step - loss: 0.9868 - accuracy: 0.5264 - val_loss: 1.0858 - val_accuracy: 0.4590\n",
            "Epoch 28/64\n",
            "17/17 [==============================] - ETA: 0s - loss: 0.9882 - accuracy: 0.5340\n",
            "Epoch 28: val_accuracy did not improve from 0.46721\n",
            "17/17 [==============================] - 11s 654ms/step - loss: 0.9882 - accuracy: 0.5340 - val_loss: 1.0805 - val_accuracy: 0.4262\n",
            "Epoch 29/64\n",
            "17/17 [==============================] - ETA: 0s - loss: 0.9813 - accuracy: 0.5830\n",
            "Epoch 29: val_accuracy did not improve from 0.46721\n",
            "17/17 [==============================] - 11s 656ms/step - loss: 0.9813 - accuracy: 0.5830 - val_loss: 1.0803 - val_accuracy: 0.3934\n",
            "Epoch 30/64\n",
            "17/17 [==============================] - ETA: 0s - loss: 0.9738 - accuracy: 0.5585\n",
            "Epoch 30: val_accuracy did not improve from 0.46721\n",
            "17/17 [==============================] - 11s 630ms/step - loss: 0.9738 - accuracy: 0.5585 - val_loss: 1.0835 - val_accuracy: 0.3607\n",
            "Epoch 31/64\n",
            "17/17 [==============================] - ETA: 0s - loss: 0.9749 - accuracy: 0.5887\n",
            "Epoch 31: val_accuracy did not improve from 0.46721\n",
            "17/17 [==============================] - 11s 633ms/step - loss: 0.9749 - accuracy: 0.5887 - val_loss: 1.0839 - val_accuracy: 0.3770\n",
            "Epoch 32/64\n",
            "17/17 [==============================] - ETA: 0s - loss: 0.9599 - accuracy: 0.5811\n",
            "Epoch 32: val_accuracy did not improve from 0.46721\n",
            "17/17 [==============================] - 11s 639ms/step - loss: 0.9599 - accuracy: 0.5811 - val_loss: 1.0854 - val_accuracy: 0.4508\n",
            "Epoch 33/64\n",
            "17/17 [==============================] - ETA: 0s - loss: 0.9714 - accuracy: 0.5566\n",
            "Epoch 33: val_accuracy did not improve from 0.46721\n",
            "17/17 [==============================] - 11s 635ms/step - loss: 0.9714 - accuracy: 0.5566 - val_loss: 1.0963 - val_accuracy: 0.4508\n",
            "Epoch 34/64\n",
            "17/17 [==============================] - ETA: 0s - loss: 0.9599 - accuracy: 0.5906\n",
            "Epoch 34: val_accuracy did not improve from 0.46721\n",
            "17/17 [==============================] - 11s 634ms/step - loss: 0.9599 - accuracy: 0.5906 - val_loss: 1.0826 - val_accuracy: 0.3934\n",
            "Epoch 35/64\n",
            "17/17 [==============================] - ETA: 0s - loss: 0.9499 - accuracy: 0.5830\n",
            "Epoch 35: val_accuracy did not improve from 0.46721\n",
            "17/17 [==============================] - 11s 640ms/step - loss: 0.9499 - accuracy: 0.5830 - val_loss: 1.0953 - val_accuracy: 0.4590\n",
            "Epoch 36/64\n",
            "17/17 [==============================] - ETA: 0s - loss: 0.9530 - accuracy: 0.5792\n",
            "Epoch 36: val_accuracy did not improve from 0.46721\n",
            "17/17 [==============================] - 11s 627ms/step - loss: 0.9530 - accuracy: 0.5792 - val_loss: 1.0847 - val_accuracy: 0.4508\n",
            "Epoch 37/64\n",
            "17/17 [==============================] - ETA: 0s - loss: 0.9549 - accuracy: 0.5811\n",
            "Epoch 37: val_accuracy did not improve from 0.46721\n",
            "17/17 [==============================] - 11s 650ms/step - loss: 0.9549 - accuracy: 0.5811 - val_loss: 1.0872 - val_accuracy: 0.3607\n",
            "Epoch 38/64\n",
            "17/17 [==============================] - ETA: 0s - loss: 0.9450 - accuracy: 0.5811\n",
            "Epoch 38: val_accuracy did not improve from 0.46721\n",
            "17/17 [==============================] - 11s 648ms/step - loss: 0.9450 - accuracy: 0.5811 - val_loss: 1.0821 - val_accuracy: 0.4098\n",
            "Epoch 39/64\n",
            "17/17 [==============================] - ETA: 0s - loss: 0.9464 - accuracy: 0.5925\n",
            "Epoch 39: val_accuracy did not improve from 0.46721\n",
            "17/17 [==============================] - 11s 637ms/step - loss: 0.9464 - accuracy: 0.5925 - val_loss: 1.0884 - val_accuracy: 0.3689\n",
            "Epoch 40/64\n",
            "17/17 [==============================] - ETA: 0s - loss: 0.9314 - accuracy: 0.6019\n",
            "Epoch 40: val_accuracy did not improve from 0.46721\n",
            "17/17 [==============================] - 11s 628ms/step - loss: 0.9314 - accuracy: 0.6019 - val_loss: 1.1050 - val_accuracy: 0.3443\n",
            "Epoch 41/64\n",
            "17/17 [==============================] - ETA: 0s - loss: 0.9331 - accuracy: 0.5849\n",
            "Epoch 41: val_accuracy did not improve from 0.46721\n",
            "17/17 [==============================] - 11s 648ms/step - loss: 0.9331 - accuracy: 0.5849 - val_loss: 1.0990 - val_accuracy: 0.4344\n",
            "Epoch 42/64\n",
            "17/17 [==============================] - ETA: 0s - loss: 0.9373 - accuracy: 0.5849\n",
            "Epoch 42: val_accuracy did not improve from 0.46721\n",
            "17/17 [==============================] - 11s 671ms/step - loss: 0.9373 - accuracy: 0.5849 - val_loss: 1.0825 - val_accuracy: 0.3852\n",
            "Epoch 43/64\n",
            "17/17 [==============================] - ETA: 0s - loss: 0.9204 - accuracy: 0.6189\n",
            "Epoch 43: val_accuracy did not improve from 0.46721\n",
            "17/17 [==============================] - 11s 679ms/step - loss: 0.9204 - accuracy: 0.6189 - val_loss: 1.0817 - val_accuracy: 0.3934\n",
            "Epoch 44/64\n",
            "17/17 [==============================] - ETA: 0s - loss: 0.9341 - accuracy: 0.6094\n",
            "Epoch 44: val_accuracy did not improve from 0.46721\n",
            "17/17 [==============================] - 11s 646ms/step - loss: 0.9341 - accuracy: 0.6094 - val_loss: 1.0869 - val_accuracy: 0.3770\n",
            "Epoch 45/64\n",
            "17/17 [==============================] - ETA: 0s - loss: 0.9234 - accuracy: 0.5981\n",
            "Epoch 45: val_accuracy did not improve from 0.46721\n",
            "17/17 [==============================] - 11s 632ms/step - loss: 0.9234 - accuracy: 0.5981 - val_loss: 1.0823 - val_accuracy: 0.3852\n",
            "Epoch 46/64\n",
            "17/17 [==============================] - ETA: 0s - loss: 0.9192 - accuracy: 0.6019\n",
            "Epoch 46: val_accuracy did not improve from 0.46721\n",
            "17/17 [==============================] - 11s 645ms/step - loss: 0.9192 - accuracy: 0.6019 - val_loss: 1.0897 - val_accuracy: 0.3689\n",
            "Epoch 47/64\n",
            "17/17 [==============================] - ETA: 0s - loss: 0.9137 - accuracy: 0.6151\n",
            "Epoch 47: val_accuracy did not improve from 0.46721\n",
            "17/17 [==============================] - 11s 638ms/step - loss: 0.9137 - accuracy: 0.6151 - val_loss: 1.0864 - val_accuracy: 0.3689\n",
            "Epoch 48/64\n",
            "17/17 [==============================] - ETA: 0s - loss: 0.9066 - accuracy: 0.6283\n",
            "Epoch 48: val_accuracy did not improve from 0.46721\n",
            "17/17 [==============================] - 11s 652ms/step - loss: 0.9066 - accuracy: 0.6283 - val_loss: 1.0880 - val_accuracy: 0.4590\n",
            "Epoch 49/64\n",
            "17/17 [==============================] - ETA: 0s - loss: 0.9068 - accuracy: 0.6151\n",
            "Epoch 49: val_accuracy did not improve from 0.46721\n",
            "17/17 [==============================] - 11s 636ms/step - loss: 0.9068 - accuracy: 0.6151 - val_loss: 1.0886 - val_accuracy: 0.3525\n",
            "Epoch 50/64\n",
            "17/17 [==============================] - ETA: 0s - loss: 0.9021 - accuracy: 0.6170\n",
            "Epoch 50: val_accuracy did not improve from 0.46721\n",
            "17/17 [==============================] - 11s 619ms/step - loss: 0.9021 - accuracy: 0.6170 - val_loss: 1.0900 - val_accuracy: 0.4590\n",
            "Epoch 51/64\n",
            "17/17 [==============================] - ETA: 0s - loss: 0.8982 - accuracy: 0.6340\n",
            "Epoch 51: val_accuracy did not improve from 0.46721\n",
            "17/17 [==============================] - 11s 634ms/step - loss: 0.8982 - accuracy: 0.6340 - val_loss: 1.0840 - val_accuracy: 0.3770\n",
            "Epoch 52/64\n",
            "17/17 [==============================] - ETA: 0s - loss: 0.9015 - accuracy: 0.5981\n",
            "Epoch 52: val_accuracy did not improve from 0.46721\n",
            "17/17 [==============================] - 11s 633ms/step - loss: 0.9015 - accuracy: 0.5981 - val_loss: 1.0844 - val_accuracy: 0.3770\n",
            "Epoch 53/64\n",
            "17/17 [==============================] - ETA: 0s - loss: 0.8960 - accuracy: 0.6226\n",
            "Epoch 53: val_accuracy did not improve from 0.46721\n",
            "17/17 [==============================] - 11s 634ms/step - loss: 0.8960 - accuracy: 0.6226 - val_loss: 1.0884 - val_accuracy: 0.3770\n",
            "Epoch 54/64\n",
            "17/17 [==============================] - ETA: 0s - loss: 0.8923 - accuracy: 0.6340\n",
            "Epoch 54: val_accuracy did not improve from 0.46721\n",
            "17/17 [==============================] - 11s 655ms/step - loss: 0.8923 - accuracy: 0.6340 - val_loss: 1.1052 - val_accuracy: 0.3279\n",
            "Epoch 55/64\n",
            "17/17 [==============================] - ETA: 0s - loss: 0.8853 - accuracy: 0.6453\n",
            "Epoch 55: val_accuracy did not improve from 0.46721\n",
            "17/17 [==============================] - 11s 644ms/step - loss: 0.8853 - accuracy: 0.6453 - val_loss: 1.0892 - val_accuracy: 0.3934\n",
            "Epoch 56/64\n",
            "17/17 [==============================] - ETA: 0s - loss: 0.8817 - accuracy: 0.6415\n",
            "Epoch 56: val_accuracy did not improve from 0.46721\n",
            "17/17 [==============================] - 11s 644ms/step - loss: 0.8817 - accuracy: 0.6415 - val_loss: 1.0962 - val_accuracy: 0.3689\n",
            "Epoch 56: early stopping\n"
          ]
        }
      ]
    },
    {
      "cell_type": "markdown",
      "source": [
        "### **Best possible model**"
      ],
      "metadata": {
        "id": "X9FdVvrvKMUa"
      }
    },
    {
      "cell_type": "code",
      "source": [
        "model7 = 0"
      ],
      "metadata": {
        "id": "cYjUwzIi2DCu"
      },
      "execution_count": null,
      "outputs": []
    },
    {
      "cell_type": "code",
      "source": [
        " \n",
        "model7 = Sequential()\n",
        "model7.add( Conv2D( 42, ( 3,3 ), activation = 'relu', input_shape = images[0, :, :, :].shape ) )\n",
        "model7.add( MaxPool2D(3,3,) )\n",
        "model7.add( Conv2D( 28, ( 3,3), activation = 'relu' ) )\n",
        "\n",
        "model7.add( Flatten() )\n",
        "model7.add( Dense( 32, activation = 'relu' ) )\n",
        "model7.add( Dense( 3, activation = 'softmax' ) )"
      ],
      "metadata": {
        "id": "VBRmPfwS2F_i"
      },
      "execution_count": null,
      "outputs": []
    },
    {
      "cell_type": "code",
      "source": [
        "model7.compile( optimizer = 'adadelta', loss = 'categorical_crossentropy', metrics = [ 'accuracy' ] )\n",
        "callback_a = ModelCheckpoint(filepath = 'model5.hdf5', monitor='val_accuracy', save_best_only = True, save_weights_only = True, verbose = 1)\n",
        "callback_b = EarlyStopping(monitor='val_accuracy', mode='min', patience=32, verbose=1)\n",
        "history = model7.fit(training_image_generator, validation_data = valid_image_generator, epochs = 64, batch_size = 32, callbacks = [callback_a,callback_b] )"
      ],
      "metadata": {
        "colab": {
          "base_uri": "https://localhost:8080/"
        },
        "id": "5A7yTedx2OPD",
        "outputId": "2d034408-3433-4bdb-fa26-ff06a3ec5612"
      },
      "execution_count": null,
      "outputs": [
        {
          "output_type": "stream",
          "name": "stdout",
          "text": [
            "Epoch 1/64\n",
            "17/17 [==============================] - ETA: 0s - loss: 1.1001 - accuracy: 0.3604\n",
            "Epoch 1: val_accuracy improved from -inf to 0.42623, saving model to model5.hdf5\n",
            "17/17 [==============================] - 51s 3s/step - loss: 1.1001 - accuracy: 0.3604 - val_loss: 1.0925 - val_accuracy: 0.4262\n",
            "Epoch 2/64\n",
            "17/17 [==============================] - ETA: 0s - loss: 1.0896 - accuracy: 0.4113\n",
            "Epoch 2: val_accuracy improved from 0.42623 to 0.43443, saving model to model5.hdf5\n",
            "17/17 [==============================] - 48s 3s/step - loss: 1.0896 - accuracy: 0.4113 - val_loss: 1.0822 - val_accuracy: 0.4344\n",
            "Epoch 3/64\n",
            "17/17 [==============================] - ETA: 0s - loss: 1.0810 - accuracy: 0.4189\n",
            "Epoch 3: val_accuracy did not improve from 0.43443\n",
            "17/17 [==============================] - 49s 3s/step - loss: 1.0810 - accuracy: 0.4189 - val_loss: 1.0856 - val_accuracy: 0.4098\n",
            "Epoch 4/64\n",
            "17/17 [==============================] - ETA: 0s - loss: 1.0901 - accuracy: 0.4245\n",
            "Epoch 4: val_accuracy did not improve from 0.43443\n",
            "17/17 [==============================] - 51s 3s/step - loss: 1.0901 - accuracy: 0.4245 - val_loss: 1.0765 - val_accuracy: 0.4262\n",
            "Epoch 5/64\n",
            "17/17 [==============================] - ETA: 0s - loss: 1.0892 - accuracy: 0.4208\n",
            "Epoch 5: val_accuracy did not improve from 0.43443\n",
            "17/17 [==============================] - 48s 3s/step - loss: 1.0892 - accuracy: 0.4208 - val_loss: 1.0720 - val_accuracy: 0.4180\n",
            "Epoch 6/64\n",
            "17/17 [==============================] - ETA: 0s - loss: 1.0891 - accuracy: 0.4151\n",
            "Epoch 6: val_accuracy did not improve from 0.43443\n",
            "17/17 [==============================] - 48s 3s/step - loss: 1.0891 - accuracy: 0.4151 - val_loss: 1.0796 - val_accuracy: 0.4098\n",
            "Epoch 7/64\n",
            "17/17 [==============================] - ETA: 0s - loss: 1.0821 - accuracy: 0.4170\n",
            "Epoch 7: val_accuracy did not improve from 0.43443\n",
            "17/17 [==============================] - 48s 3s/step - loss: 1.0821 - accuracy: 0.4170 - val_loss: 1.0768 - val_accuracy: 0.4098\n",
            "Epoch 8/64\n",
            "17/17 [==============================] - ETA: 0s - loss: 1.0862 - accuracy: 0.4151\n",
            "Epoch 8: val_accuracy did not improve from 0.43443\n",
            "17/17 [==============================] - 48s 3s/step - loss: 1.0862 - accuracy: 0.4151 - val_loss: 1.0799 - val_accuracy: 0.4262\n",
            "Epoch 9/64\n",
            "17/17 [==============================] - ETA: 0s - loss: 1.0845 - accuracy: 0.4151\n",
            "Epoch 9: val_accuracy did not improve from 0.43443\n",
            "17/17 [==============================] - 49s 3s/step - loss: 1.0845 - accuracy: 0.4151 - val_loss: 1.0768 - val_accuracy: 0.4016\n",
            "Epoch 10/64\n",
            "17/17 [==============================] - ETA: 0s - loss: 1.0840 - accuracy: 0.4226\n",
            "Epoch 10: val_accuracy did not improve from 0.43443\n",
            "17/17 [==============================] - 48s 3s/step - loss: 1.0840 - accuracy: 0.4226 - val_loss: 1.0795 - val_accuracy: 0.4180\n",
            "Epoch 11/64\n",
            "17/17 [==============================] - ETA: 0s - loss: 1.0856 - accuracy: 0.4245\n",
            "Epoch 11: val_accuracy improved from 0.43443 to 0.45082, saving model to model5.hdf5\n",
            "17/17 [==============================] - 48s 3s/step - loss: 1.0856 - accuracy: 0.4245 - val_loss: 1.0767 - val_accuracy: 0.4508\n",
            "Epoch 12/64\n",
            "17/17 [==============================] - ETA: 0s - loss: 1.0828 - accuracy: 0.4245\n",
            "Epoch 12: val_accuracy did not improve from 0.45082\n",
            "17/17 [==============================] - 50s 3s/step - loss: 1.0828 - accuracy: 0.4245 - val_loss: 1.0808 - val_accuracy: 0.4180\n",
            "Epoch 13/64\n",
            "17/17 [==============================] - ETA: 0s - loss: 1.0824 - accuracy: 0.4189\n",
            "Epoch 13: val_accuracy did not improve from 0.45082\n",
            "17/17 [==============================] - 49s 3s/step - loss: 1.0824 - accuracy: 0.4189 - val_loss: 1.0808 - val_accuracy: 0.4426\n",
            "Epoch 14/64\n",
            "17/17 [==============================] - ETA: 0s - loss: 1.0801 - accuracy: 0.4283\n",
            "Epoch 14: val_accuracy did not improve from 0.45082\n",
            "17/17 [==============================] - 49s 3s/step - loss: 1.0801 - accuracy: 0.4283 - val_loss: 1.0796 - val_accuracy: 0.4262\n",
            "Epoch 15/64\n",
            "17/17 [==============================] - ETA: 0s - loss: 1.0802 - accuracy: 0.4264\n",
            "Epoch 15: val_accuracy did not improve from 0.45082\n",
            "17/17 [==============================] - 49s 3s/step - loss: 1.0802 - accuracy: 0.4264 - val_loss: 1.0858 - val_accuracy: 0.4180\n",
            "Epoch 16/64\n",
            "17/17 [==============================] - ETA: 0s - loss: 1.0804 - accuracy: 0.4189\n",
            "Epoch 16: val_accuracy did not improve from 0.45082\n",
            "17/17 [==============================] - 49s 3s/step - loss: 1.0804 - accuracy: 0.4189 - val_loss: 1.0841 - val_accuracy: 0.4344\n",
            "Epoch 17/64\n",
            "17/17 [==============================] - ETA: 0s - loss: 1.0779 - accuracy: 0.4226\n",
            "Epoch 17: val_accuracy did not improve from 0.45082\n",
            "17/17 [==============================] - 49s 3s/step - loss: 1.0779 - accuracy: 0.4226 - val_loss: 1.0703 - val_accuracy: 0.4344\n",
            "Epoch 18/64\n",
            "17/17 [==============================] - ETA: 0s - loss: 1.0790 - accuracy: 0.4208\n",
            "Epoch 18: val_accuracy did not improve from 0.45082\n",
            "17/17 [==============================] - 49s 3s/step - loss: 1.0790 - accuracy: 0.4208 - val_loss: 1.0772 - val_accuracy: 0.4508\n",
            "Epoch 19/64\n",
            "17/17 [==============================] - ETA: 0s - loss: 1.0799 - accuracy: 0.4245\n",
            "Epoch 19: val_accuracy did not improve from 0.45082\n",
            "17/17 [==============================] - 49s 3s/step - loss: 1.0799 - accuracy: 0.4245 - val_loss: 1.0712 - val_accuracy: 0.4098\n",
            "Epoch 20/64\n",
            "17/17 [==============================] - ETA: 0s - loss: 1.0797 - accuracy: 0.4283\n",
            "Epoch 20: val_accuracy did not improve from 0.45082\n",
            "17/17 [==============================] - 49s 3s/step - loss: 1.0797 - accuracy: 0.4283 - val_loss: 1.0771 - val_accuracy: 0.4180\n",
            "Epoch 21/64\n",
            "17/17 [==============================] - ETA: 0s - loss: 1.0745 - accuracy: 0.4208\n",
            "Epoch 21: val_accuracy did not improve from 0.45082\n",
            "17/17 [==============================] - 49s 3s/step - loss: 1.0745 - accuracy: 0.4208 - val_loss: 1.0774 - val_accuracy: 0.4180\n",
            "Epoch 22/64\n",
            "17/17 [==============================] - ETA: 0s - loss: 1.0825 - accuracy: 0.4208\n",
            "Epoch 22: val_accuracy did not improve from 0.45082\n",
            "17/17 [==============================] - 49s 3s/step - loss: 1.0825 - accuracy: 0.4208 - val_loss: 1.0776 - val_accuracy: 0.4262\n",
            "Epoch 23/64\n",
            "17/17 [==============================] - ETA: 0s - loss: 1.0730 - accuracy: 0.4245\n",
            "Epoch 23: val_accuracy did not improve from 0.45082\n",
            "17/17 [==============================] - 49s 3s/step - loss: 1.0730 - accuracy: 0.4245 - val_loss: 1.0742 - val_accuracy: 0.4262\n",
            "Epoch 24/64\n",
            "17/17 [==============================] - ETA: 0s - loss: 1.0780 - accuracy: 0.4340\n",
            "Epoch 24: val_accuracy did not improve from 0.45082\n",
            "17/17 [==============================] - 49s 3s/step - loss: 1.0780 - accuracy: 0.4340 - val_loss: 1.0689 - val_accuracy: 0.4262\n",
            "Epoch 25/64\n",
            "17/17 [==============================] - ETA: 0s - loss: 1.0786 - accuracy: 0.4264\n",
            "Epoch 25: val_accuracy did not improve from 0.45082\n",
            "17/17 [==============================] - 49s 3s/step - loss: 1.0786 - accuracy: 0.4264 - val_loss: 1.0722 - val_accuracy: 0.4016\n",
            "Epoch 26/64\n",
            "17/17 [==============================] - 49s 3s/step - loss: 1.0757 - accuracy: 0.4208 - val_loss: 1.0694 - val_accuracy: 0.4344\n",
            "Epoch 27/64\n",
            "17/17 [==============================] - ETA: 0s - loss: 1.0772 - accuracy: 0.4189\n",
            "Epoch 27: val_accuracy did not improve from 0.45082\n",
            "17/17 [==============================] - 48s 3s/step - loss: 1.0772 - accuracy: 0.4189 - val_loss: 1.0705 - val_accuracy: 0.4344\n",
            "Epoch 28/64\n",
            "17/17 [==============================] - ETA: 0s - loss: 1.0733 - accuracy: 0.4283\n",
            "Epoch 28: val_accuracy did not improve from 0.45082\n",
            "17/17 [==============================] - 48s 3s/step - loss: 1.0733 - accuracy: 0.4283 - val_loss: 1.0735 - val_accuracy: 0.4262\n",
            "Epoch 29/64\n",
            "17/17 [==============================] - ETA: 0s - loss: 1.0759 - accuracy: 0.4283\n",
            "Epoch 29: val_accuracy did not improve from 0.45082\n",
            "17/17 [==============================] - 49s 3s/step - loss: 1.0759 - accuracy: 0.4283 - val_loss: 1.0648 - val_accuracy: 0.4508\n",
            "Epoch 30/64\n",
            "17/17 [==============================] - ETA: 0s - loss: 1.0780 - accuracy: 0.4226\n",
            "Epoch 30: val_accuracy did not improve from 0.45082\n",
            "17/17 [==============================] - 48s 3s/step - loss: 1.0780 - accuracy: 0.4226 - val_loss: 1.0723 - val_accuracy: 0.4016\n",
            "Epoch 31/64\n",
            "17/17 [==============================] - ETA: 0s - loss: 1.0708 - accuracy: 0.4340\n",
            "Epoch 31: val_accuracy did not improve from 0.45082\n",
            "17/17 [==============================] - 49s 3s/step - loss: 1.0708 - accuracy: 0.4340 - val_loss: 1.0709 - val_accuracy: 0.4262\n",
            "Epoch 32/64\n",
            "17/17 [==============================] - ETA: 0s - loss: 1.0748 - accuracy: 0.4302\n",
            "Epoch 32: val_accuracy did not improve from 0.45082\n",
            "17/17 [==============================] - 48s 3s/step - loss: 1.0748 - accuracy: 0.4302 - val_loss: 1.0712 - val_accuracy: 0.4344\n",
            "Epoch 33/64\n",
            "17/17 [==============================] - ETA: 0s - loss: 1.0696 - accuracy: 0.4472\n",
            "Epoch 33: val_accuracy did not improve from 0.45082\n",
            "17/17 [==============================] - 49s 3s/step - loss: 1.0696 - accuracy: 0.4472 - val_loss: 1.0728 - val_accuracy: 0.4180\n",
            "Epoch 34/64\n",
            "17/17 [==============================] - ETA: 0s - loss: 1.0733 - accuracy: 0.4283\n",
            "Epoch 34: val_accuracy did not improve from 0.45082\n",
            "17/17 [==============================] - 48s 3s/step - loss: 1.0733 - accuracy: 0.4283 - val_loss: 1.0765 - val_accuracy: 0.4098\n",
            "Epoch 35/64\n",
            "17/17 [==============================] - ETA: 0s - loss: 1.0739 - accuracy: 0.4358\n",
            "Epoch 35: val_accuracy did not improve from 0.45082\n",
            "17/17 [==============================] - 48s 3s/step - loss: 1.0739 - accuracy: 0.4358 - val_loss: 1.0697 - val_accuracy: 0.4344\n",
            "Epoch 36/64\n",
            "17/17 [==============================] - ETA: 0s - loss: 1.0704 - accuracy: 0.4358\n",
            "Epoch 36: val_accuracy did not improve from 0.45082\n",
            "17/17 [==============================] - 49s 3s/step - loss: 1.0704 - accuracy: 0.4358 - val_loss: 1.0750 - val_accuracy: 0.4180\n",
            "Epoch 37/64\n",
            "17/17 [==============================] - ETA: 0s - loss: 1.0723 - accuracy: 0.4302\n",
            "Epoch 37: val_accuracy did not improve from 0.45082\n",
            "17/17 [==============================] - 49s 3s/step - loss: 1.0723 - accuracy: 0.4302 - val_loss: 1.0742 - val_accuracy: 0.4262\n",
            "Epoch 38/64\n",
            "17/17 [==============================] - ETA: 0s - loss: 1.0676 - accuracy: 0.4264\n",
            "Epoch 38: val_accuracy did not improve from 0.45082\n",
            "17/17 [==============================] - 49s 3s/step - loss: 1.0676 - accuracy: 0.4264 - val_loss: 1.0701 - val_accuracy: 0.4508\n",
            "Epoch 39/64\n",
            "17/17 [==============================] - ETA: 0s - loss: 1.0687 - accuracy: 0.4321\n",
            "Epoch 39: val_accuracy did not improve from 0.45082\n",
            "17/17 [==============================] - 49s 3s/step - loss: 1.0687 - accuracy: 0.4321 - val_loss: 1.0693 - val_accuracy: 0.4262\n",
            "Epoch 40/64\n",
            "17/17 [==============================] - ETA: 0s - loss: 1.0715 - accuracy: 0.4453\n",
            "Epoch 40: val_accuracy did not improve from 0.45082\n",
            "17/17 [==============================] - 49s 3s/step - loss: 1.0715 - accuracy: 0.4453 - val_loss: 1.0715 - val_accuracy: 0.4262\n",
            "Epoch 41/64\n",
            "17/17 [==============================] - ETA: 0s - loss: 1.0672 - accuracy: 0.4377\n",
            "Epoch 41: val_accuracy did not improve from 0.45082\n",
            "17/17 [==============================] - 49s 3s/step - loss: 1.0672 - accuracy: 0.4377 - val_loss: 1.0726 - val_accuracy: 0.4508\n",
            "Epoch 41: early stopping\n"
          ]
        }
      ]
    },
    {
      "cell_type": "code",
      "source": [
        "plt.plot(history.history['accuracy'])\n",
        "plt.plot(history.history['val_accuracy'])\n",
        "plt.ylabel('Accuracy')\n",
        "plt.xlabel('epoch')\n",
        "plt.legend(['training data', 'validation data'], loc='lower right')\n",
        "plt.show()"
      ],
      "metadata": {
        "colab": {
          "base_uri": "https://localhost:8080/",
          "height": 279
        },
        "id": "tH9-tUH02UGy",
        "outputId": "c52fb772-490e-48ae-cff2-d38d287f92d1"
      },
      "execution_count": null,
      "outputs": [
        {
          "output_type": "display_data",
          "data": {
            "text/plain": [
              "<Figure size 432x288 with 1 Axes>"
            ],
            "image/png": "[encoded data removed]"
          },
          "metadata": {
            "needs_background": "light"
          }
        }
      ]
    },
    {
      "cell_type": "code",
      "source": [
        "plt.plot(history.history['loss'])\n",
        "plt.plot(history.history['val_loss'])\n",
        "plt.ylabel('loss')\n",
        "plt.xlabel('epoch')\n",
        "plt.legend(['training data', 'validation data'], loc='lower right')\n",
        "plt.show()"
      ],
      "metadata": {
        "colab": {
          "base_uri": "https://localhost:8080/",
          "height": 279
        },
        "id": "MA4W7lyajjRT",
        "outputId": "85773e28-d6f2-494c-e4d4-ec77e49e7581"
      },
      "execution_count": null,
      "outputs": [
        {
          "output_type": "display_data",
          "data": {
            "text/plain": [
              "<Figure size 432x288 with 1 Axes>"
            ],
            "image/png": "[encoded data removed]"
          },
          "metadata": {
            "needs_background": "light"
          }
        }
      ]
    },
    {
      "cell_type": "code",
      "source": [
        "from sklearn.metrics import accuracy_score,precision_score,recall_score,f1_score"
      ],
      "metadata": {
        "id": "d5sqAyL98ePp"
      },
      "execution_count": null,
      "outputs": []
    },
    {
      "cell_type": "code",
      "source": [
        "Y = [] # empty list of true labels\n",
        "P = [] # empty list of predictions\n",
        "for i in range(141):\n",
        "   x, y = test_image_generator.next()\n",
        "   p = model7.predict(x)\n",
        "   Y.extend(y)\n",
        "   P.extend(p)\n"
      ],
      "metadata": {
        "id": "wqcGH25z-enF"
      },
      "execution_count": null,
      "outputs": []
    },
    {
      "cell_type": "code",
      "source": [
        "p = model7.predict(x)\n",
        "accuracy = model7.evaluate(x,y)\n",
        "print(\"Model accuracy:\", accuracy[1]*100)"
      ],
      "metadata": {
        "colab": {
          "base_uri": "https://localhost:8080/"
        },
        "id": "30FvlJsY7RN3",
        "outputId": "ed240b85-e217-43bc-f1d5-e72e29a14955"
      },
      "execution_count": null,
      "outputs": [
        {
          "output_type": "stream",
          "name": "stdout",
          "text": [
            "1/1 [==============================] - 1s 579ms/step - loss: 1.0588 - accuracy: 0.4688\n",
            "Model accuracy: 46.875\n",
            "0.0\n"
          ]
        }
      ]
    },
    {
      "cell_type": "code",
      "source": [
        "p1 = model7.predict(imagesT)"
      ],
      "metadata": {
        "id": "XCSd3_eak_t1"
      },
      "execution_count": null,
      "outputs": []
    },
    {
      "cell_type": "code",
      "source": [
        "from sklearn.metrics import accuracy_score, precision_score, recall_score, f1_score"
      ],
      "metadata": {
        "id": "018lvBv6-7nf"
      },
      "execution_count": null,
      "outputs": []
    },
    {
      "cell_type": "code",
      "source": [
        "model7.summary()"
      ],
      "metadata": {
        "colab": {
          "base_uri": "https://localhost:8080/"
        },
        "id": "tGlKtBsVirpX",
        "outputId": "a46b2b36-8169-4022-f703-0185fb878155"
      },
      "execution_count": null,
      "outputs": [
        {
          "output_type": "stream",
          "name": "stdout",
          "text": [
            "Model: \"sequential_1\"\n",
            "_________________________________________________________________\n",
            " Layer (type)                Output Shape              Param #   \n",
            "=================================================================\n",
            " conv2d (Conv2D)             (None, 254, 254, 42)      1176      \n",
            "                                                                 \n",
            " max_pooling2d (MaxPooling2D  (None, 84, 84, 42)       0         \n",
            " )                                                               \n",
            "                                                                 \n",
            " conv2d_1 (Conv2D)           (None, 82, 82, 28)        10612     \n",
            "                                                                 \n",
            " flatten (Flatten)           (None, 188272)            0         \n",
            "                                                                 \n",
            " dense (Dense)               (None, 32)                6024736   \n",
            "                                                                 \n",
            " dense_1 (Dense)             (None, 3)                 99        \n",
            "                                                                 \n",
            "=================================================================\n",
            "Total params: 6,036,623\n",
            "Trainable params: 6,036,623\n",
            "Non-trainable params: 0\n",
            "_________________________________________________________________\n"
          ]
        }
      ]
    },
    {
      "cell_type": "code",
      "source": [
        ""
      ],
      "metadata": {
        "id": "QYnUs4_akXEL"
      },
      "execution_count": null,
      "outputs": []
    }
  ]
}